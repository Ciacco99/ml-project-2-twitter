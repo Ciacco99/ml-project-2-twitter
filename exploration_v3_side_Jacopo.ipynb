{
 "cells": [
  {
   "cell_type": "code",
   "execution_count": 2,
   "metadata": {},
   "outputs": [],
   "source": [
    "# while the other humongous error of a SVM is running... at least it  use only one core so here we go\n"
   ]
  },
  {
   "cell_type": "code",
   "execution_count": 3,
   "metadata": {},
   "outputs": [],
   "source": [
    "# let's start again with linear SVC and see how we are overfitting\n"
   ]
  },
  {
   "cell_type": "code",
   "execution_count": 80,
   "metadata": {},
   "outputs": [],
   "source": [
    "# helpers\n",
    "def build_feature_matrix(df, vocab, embeddings, mode='avg'):\n",
    "    X = np.zeros((df.shape[0], embeddings.shape[1]))\n",
    "    for i, tweet in enumerate(df['tweet']):\n",
    "        words = tweet.split()\n",
    "        for word in words:\n",
    "            if word in vocab:\n",
    "                X[i] += embeddings[vocab[word]]\n",
    "        if mode == 'avg':\n",
    "            X[i] /= len(words)\n",
    "        elif mode == 'sum':\n",
    "            pass\n",
    "        else:\n",
    "            raise ValueError('Unknown mode: {}'.format(mode))\n",
    "    return X\n",
    "    \n",
    "def load_train_data(path_pos='data/twitter-datasets/train_pos_full.txt', path_neg='data/twitter-datasets/train_neg_full.txt'):\n",
    "    # Load data, txt as csv\n",
    "    #data_path = 'data/twitter-datasets/'\n",
    "    df_train_pos = pd.read_csv(path_pos, sep = '\\t', names = ['tweet'])\n",
    "    df_train_pos['label'] = 1\n",
    "    df_train_neg = pd.read_csv(path_neg, sep = '\\t', names = ['tweet'], on_bad_lines='skip')\n",
    "    df_train_neg['label'] = 0\n",
    "    df_train = pd.concat([df_train_pos, df_train_neg])\n",
    "    print('Train set: ', df_train.shape)\n",
    "    print('Train set positives: ', df_train_pos.shape)\n",
    "    print('Train set negatives: ', df_train_neg.shape)\n",
    "    return df_train   \n",
    "\n",
    "def load_test_data():\n",
    "    # Load test data: id, tweet for each row\n",
    "    data_path = 'data/twitter-datasets/'\n",
    "    df_test = pd.read_csv(data_path + 'test_data.txt', header=None, names=['line'], sep='\\t')\n",
    "    # Extract id and tweet, limit split by 1 so we don't split the tweet (this is v0, at least we keep it intact)\n",
    "    df_test['id'] = df_test['line'].apply(lambda x: x.split(',',1)[0]) \n",
    "    df_test['tweet'] = df_test['line'].apply(lambda x: x.split(',',1)[1])\n",
    "    df_test = df_test.drop('line', axis=1)\n",
    "    return df_test\n",
    "\n",
    "def predict_test_data(X_test, classifier, filename='submission.csv'):\n",
    "    # Predict test data and save to csv\n",
    "    y_pred = classifier.predict(X_test)\n",
    "    df_test['Prediction'] = y_pred\n",
    "    df_test.rename(columns={'id': 'Id'}, inplace=True)\n",
    "    df_test['Prediction'] = df_test['Prediction'].apply(lambda x: -1 if x == 0 else x)\n",
    "    df_test.to_csv(filename, columns=['Id', 'Prediction'], index=False)\n",
    "    return df_test\n",
    "    \n",
    "def predict_test_data_pipeline(df_test, pipe, filename='submission.csv'):\n",
    "    # Predict test data and save to csv\n",
    "    y_pred = pipe.predict(df_test['tweet'])\n",
    "    df_test['Prediction'] = y_pred\n",
    "    df_test.rename(columns={'id': 'Id'}, inplace=True)\n",
    "    df_test['Prediction'] = df_test['Prediction'].apply(lambda x: -1 if x == 0 else x)\n",
    "    df_test.to_csv(filename, columns=['Id', 'Prediction'], index=False)\n",
    "    return df_test\n",
    "\n",
    "def train_test(clf, X_train, y_train, X_eval=None, y_eval=None, cv=None):\n",
    "    from sklearn.metrics import accuracy_score, f1_score\n",
    "    if X_eval is None:\n",
    "        from sklearn.model_selection import train_test_split\n",
    "        X_train, X_eval, y_train, y_eval = train_test_split(X_train, y_train, test_size=0.2)\n",
    "    if cv is not None:\n",
    "        from sklearn.model_selection import cross_val_score\n",
    "        scores = cross_val_score(clf, X_train, y_train, cv=cv, scoring='accuracy', n_jobs=-1, verbose=1, shuffle=True)\n",
    "        print('Cross validation Accuracy Scores: ', scores)\n",
    "        print('Cross validation mean score: ', scores.mean())\n",
    "        print('Cross validation std score: ', scores.std())\n",
    "        clf.fit(X_train, y_train)\n",
    "        return clf\n",
    "    clf.fit(X_train, y_train)\n",
    "    print('Training set size: ', X_train.shape, ' Evaluation set size: ', X_eval.shape)\n",
    "    print('Metrics on evaluation set: ')\n",
    "    test(clf, X_eval, y_eval)\n",
    "    print('Metrics on training set to check overfitting/triviality of model: ')\n",
    "    test(clf, X_train, y_train)\n",
    "    from sklearn.metrics import confusion_matrix\n",
    "    print('Confusion matrix: ')\n",
    "    print(confusion_matrix(y_eval, clf.predict(X_eval)))\n",
    "    return clf\n",
    "\n",
    "def test(clf, X_eval, y_eval):\n",
    "    from sklearn.metrics import accuracy_score, f1_score\n",
    "    y_pred = clf.predict(X_eval)\n",
    "    print('Accuracy: ', accuracy_score(y_eval, y_pred))\n",
    "    print('F1 score: ', f1_score(y_eval, y_pred))\n",
    "    return y_pred\n"
   ]
  },
  {
   "cell_type": "code",
   "execution_count": 5,
   "metadata": {},
   "outputs": [],
   "source": [
    "import numpy as np\n",
    "import pandas as pd\n",
    "import matplotlib.pyplot as plt\n",
    "import pickle\n",
    "from sklearn.feature_extraction.text import CountVectorizer, TfidfVectorizer\n",
    "from sklearn.svm import LinearSVC, SVC\n",
    "from sklearn.metrics import accuracy_score, f1_score\n",
    "from sklearn.model_selection import train_test_split, cross_val_score\n",
    "from sklearn.ensemble import RandomForestClassifier\n",
    "from sklearn.tree import DecisionTreeClassifier\n",
    "from sklearn.pipeline import Pipeline\n"
   ]
  },
  {
   "cell_type": "code",
   "execution_count": 6,
   "metadata": {},
   "outputs": [
    {
     "name": "stdout",
     "output_type": "stream",
     "text": [
      "Train set:  (196970, 2)\n",
      "Train set positives:  (97902, 2)\n",
      "Train set negatives:  (99068, 2)\n",
      "TfidfVectorizer(binary=True, min_df=3, ngram_range=(1, 4)) LinearSVC()\n"
     ]
    }
   ],
   "source": [
    "# Load data, lets work on partial data for now, we'll come back to this later\n",
    "df_train = load_train_data(path_pos='data/twitter-datasets/train_pos.txt', path_neg='data/twitter-datasets/train_neg.txt')\n",
    "# Load vectorization and classifier obtained from the previous notebook as a reference\n",
    "with open('data/out/trained/tfidf_vectorizer-linSVC-pipeline-v2_4.pickle', 'rb') as f:\n",
    "    pipe = pickle.load(f)\n",
    "\n",
    "# we know that this achieves acc: 0.848\tf1: 0.850 and runs in less than 3min on full data from scratch\n",
    "# let's train a linear SVC on the partial data and see how it performs so we can compare and iterate\n",
    "svm = LinearSVC()\n",
    "vec_pipe = pipe.steps[0][1]\n",
    "svm_pipe = pipe.steps[1][1]\n",
    "print(vec_pipe, svm_pipe)"
   ]
  },
  {
   "cell_type": "code",
   "execution_count": 7,
   "metadata": {},
   "outputs": [],
   "source": [
    "# check svm_pipe performance on partial data, don't even modify the vectorizer\n",
    "X_train, X_eval, y_train, y_eval = train_test_split(df_train['tweet'], df_train['label'], test_size=0.2)\n",
    "X_train = vec_pipe.transform(X_train)\n",
    "X_eval = vec_pipe.transform(X_eval)"
   ]
  },
  {
   "cell_type": "code",
   "execution_count": 8,
   "metadata": {},
   "outputs": [
    {
     "name": "stdout",
     "output_type": "stream",
     "text": [
      "Training set size:  (157576, 3018685)  Evaluation set size:  (39394, 3018685)\n",
      "Metrics on evaluation set: \n",
      "Accuracy:  0.8346956389297863\n",
      "F1 score:  0.8363983519244297\n",
      "Metrics on training set to check overfitting/triviality of model: \n",
      "Accuracy:  0.997106158298218\n",
      "F1 score:  0.997089943713385\n",
      "Confusion matrix: \n",
      "[[78999   261]\n",
      " [  195 78121]]\n"
     ]
    }
   ],
   "source": [
    "# Let's play around with the following:\n",
    "# scale the vectors\n",
    "# use -1/1 instead of 0/1\n",
    "# check overfitting of svm, force reduction in dimensionality and reduce C\n",
    "linsvc = LinearSVC()\n",
    "linsvc = train_test(linsvc, X_train, y_train, X_eval, y_eval)"
   ]
  },
  {
   "cell_type": "code",
   "execution_count": 10,
   "metadata": {},
   "outputs": [],
   "source": [
    "# So we dont fit exactly 100% of the training data but very close.\n",
    "# let's scale the vectors and see if we can improve the performance\n",
    "from sklearn.preprocessing import StandardScaler\n",
    "scaler = StandardScaler(with_mean=False)\n",
    "X_train_scaled = scaler.fit_transform(X_train)\n",
    "X_eval_scaled = scaler.transform(X_eval)\n",
    "linsvc = LinearSVC()\n",
    "#linsvc = train_test(linsvc, X_train_scaled, y_train, X_eval_scaled, y_eval)\n",
    "\n",
    "# 1min\n",
    "# Accuracy:  0.7852718688125095\n",
    "# F1 score:  0.7872324370551098\n",
    "# /Users/jacopoferro/opt/anaconda3/envs/ml/lib/python3.10/site-packages/sklearn/svm/_base.py:1225: ConvergenceWarning: Liblinear failed to converge, increase the number of iterations.\n",
    "#   warnings.warn("
   ]
  },
  {
   "cell_type": "code",
   "execution_count": 11,
   "metadata": {},
   "outputs": [],
   "source": [
    "# use -1/1\n",
    "y_train_1 = y_train.apply(lambda x: -1 if x == 0 else x)\n",
    "y_eval_1 = y_eval.apply(lambda x: -1 if x == 0 else x)\n",
    "linsvc = LinearSVC()\n",
    "#linsvc = train_test(linsvc, X_train_scaled, y_train_1, X_eval_scaled, y_eval_1)\n",
    "\n",
    "# 1min\n",
    "# Accuracy:  0.7848657155912068\n",
    "# F1 score:  0.7855461929704699\n",
    "# /Users/jacopoferro/opt/anaconda3/envs/ml/lib/python3.10/site-packages/sklearn/svm/_base.py:1225: ConvergenceWarning: Liblinear failed to converge, increase the number of iterations.\n",
    "#   warnings.warn("
   ]
  },
  {
   "cell_type": "code",
   "execution_count": 12,
   "metadata": {},
   "outputs": [
    {
     "name": "stdout",
     "output_type": "stream",
     "text": [
      "Training set size:  (157576, 3018685)  Evaluation set size:  (39394, 3018685)\n",
      "Metrics on evaluation set: \n",
      "Accuracy:  0.8346956389297863\n",
      "F1 score:  0.8363983519244297\n",
      "Metrics on training set to check overfitting/triviality of model: \n",
      "Accuracy:  0.997106158298218\n",
      "F1 score:  0.997089943713385\n",
      "Confusion matrix: \n",
      "[[78999   261]\n",
      " [  195 78121]]\n"
     ]
    }
   ],
   "source": [
    "# use -1/1 and without scale\n",
    "linsvc = LinearSVC()\n",
    "linsvc = train_test(linsvc, X_train, y_train_1, X_eval, y_eval_1)"
   ]
  },
  {
   "cell_type": "code",
   "execution_count": 13,
   "metadata": {},
   "outputs": [
    {
     "name": "stdout",
     "output_type": "stream",
     "text": [
      "(157576, 3018685)\n"
     ]
    }
   ],
   "source": [
    "# reduce dimensionality, check initial dimensionality\n",
    "print(X_train.shape)"
   ]
  },
  {
   "cell_type": "code",
   "execution_count": 14,
   "metadata": {},
   "outputs": [],
   "source": [
    "# reduce dimensionality\n",
    "from sklearn.decomposition import TruncatedSVD # works with sparse matrices and in this context this is LSA\n",
    "# let's use default = 2 just for visualization purposes\n",
    "svd = TruncatedSVD(n_components=2)\n",
    "X_train_reduced_2 = svd.fit_transform(X_train)"
   ]
  },
  {
   "cell_type": "code",
   "execution_count": 15,
   "metadata": {},
   "outputs": [
    {
     "name": "stdout",
     "output_type": "stream",
     "text": [
      "(157576, 2)\n"
     ]
    },
    {
     "data": {
      "text/plain": [
       "<matplotlib.collections.PathCollection at 0x2936fbc40>"
      ]
     },
     "execution_count": 15,
     "metadata": {},
     "output_type": "execute_result"
    },
    {
     "data": {
      "image/png": "[encoded data removed]",
      "text/plain": [
       "<Figure size 640x480 with 1 Axes>"
      ]
     },
     "metadata": {},
     "output_type": "display_data"
    }
   ],
   "source": [
    "# visualize the data in 2D\n",
    "print(X_train_reduced_2.shape)\n",
    "plt.scatter(X_train_reduced_2[:, 0], X_train_reduced_2[:, 1], c=y_train_1)"
   ]
  },
  {
   "cell_type": "code",
   "execution_count": 16,
   "metadata": {},
   "outputs": [
    {
     "data": {
      "text/plain": [
       "<mpl_toolkits.mplot3d.art3d.Path3DCollection at 0x294e3c040>"
      ]
     },
     "execution_count": 16,
     "metadata": {},
     "output_type": "execute_result"
    },
    {
     "data": {
      "image/png": "[encoded data removed]",
      "text/plain": [
       "<Figure size 640x480 with 1 Axes>"
      ]
     },
     "metadata": {},
     "output_type": "display_data"
    }
   ],
   "source": [
    "# now in 3d\n",
    "from mpl_toolkits.mplot3d import Axes3D\n",
    "svd = TruncatedSVD(n_components=3)\n",
    "X_train_reduced_3 = svd.fit_transform(X_train)\n",
    "fig = plt.figure()\n",
    "ax = fig.add_subplot(111, projection='3d')\n",
    "ax.scatter(X_train_reduced_3[:, 0], X_train_reduced_3[:, 1], X_train_reduced_3[:, 2], c=y_train_1)\n"
   ]
  },
  {
   "cell_type": "code",
   "execution_count": 17,
   "metadata": {},
   "outputs": [],
   "source": [
    "# This was actually useful to see that there might be quite a lot of outliers in the data\n",
    "# Let's try to reduce the dimensionality to 100 and see if we can improve the performance\n",
    "svd = TruncatedSVD(n_components=100)\n",
    "X_train_reduced_100 = svd.fit_transform(X_train)\n",
    "X_eval_reduced_100 = svd.transform(X_eval)\n",
    "linsvc = LinearSVC()\n",
    "#linsvc = train_test(linsvc, X_train_reduced_100, y_train_1, X_eval_reduced_100, y_eval_1)\n",
    "\n",
    "# 1min - didn't comment out this because it's useful to create the reduced one\n",
    "# Accuracy:  0.7165812052596842\n",
    "# F1 score:  0.714924039320822"
   ]
  },
  {
   "cell_type": "code",
   "execution_count": 18,
   "metadata": {},
   "outputs": [
    {
     "name": "stdout",
     "output_type": "stream",
     "text": [
      "Training set size:  (157576, 100)  Evaluation set size:  (39394, 100)\n",
      "Metrics on evaluation set: \n",
      "Accuracy:  0.7166573589886784\n",
      "F1 score:  0.7143807574206756\n",
      "Metrics on training set to check overfitting/triviality of model: \n",
      "Accuracy:  0.715584860638676\n",
      "F1 score:  0.713664155789393\n",
      "Confusion matrix: \n",
      "[[56908 22352]\n",
      " [22465 55851]]\n",
      "On train data:\n",
      "Training set size:  (157576, 100)  Evaluation set size:  (157576, 100)\n",
      "Metrics on evaluation set: \n",
      "Accuracy:  0.715584860638676\n",
      "F1 score:  0.713664155789393\n",
      "Metrics on training set to check overfitting/triviality of model: \n",
      "Accuracy:  0.715584860638676\n",
      "F1 score:  0.713664155789393\n",
      "Confusion matrix: \n",
      "[[56908 22352]\n",
      " [22465 55851]]\n"
     ]
    },
    {
     "data": {
      "text/html": [
       "<style>#sk-container-id-2 {color: black;background-color: white;}#sk-container-id-2 pre{padding: 0;}#sk-container-id-2 div.sk-toggleable {background-color: white;}#sk-container-id-2 label.sk-toggleable__label {cursor: pointer;display: block;width: 100%;margin-bottom: 0;padding: 0.3em;box-sizing: border-box;text-align: center;}#sk-container-id-2 label.sk-toggleable__label-arrow:before {content: \"▸\";float: left;margin-right: 0.25em;color: #696969;}#sk-container-id-2 label.sk-toggleable__label-arrow:hover:before {color: black;}#sk-container-id-2 div.sk-estimator:hover label.sk-toggleable__label-arrow:before {color: black;}#sk-container-id-2 div.sk-toggleable__content {max-height: 0;max-width: 0;overflow: hidden;text-align: left;background-color: #f0f8ff;}#sk-container-id-2 div.sk-toggleable__content pre {margin: 0.2em;color: black;border-radius: 0.25em;background-color: #f0f8ff;}#sk-container-id-2 input.sk-toggleable__control:checked~div.sk-toggleable__content {max-height: 200px;max-width: 100%;overflow: auto;}#sk-container-id-2 input.sk-toggleable__control:checked~label.sk-toggleable__label-arrow:before {content: \"▾\";}#sk-container-id-2 div.sk-estimator input.sk-toggleable__control:checked~label.sk-toggleable__label {background-color: #d4ebff;}#sk-container-id-2 div.sk-label input.sk-toggleable__control:checked~label.sk-toggleable__label {background-color: #d4ebff;}#sk-container-id-2 input.sk-hidden--visually {border: 0;clip: rect(1px 1px 1px 1px);clip: rect(1px, 1px, 1px, 1px);height: 1px;margin: -1px;overflow: hidden;padding: 0;position: absolute;width: 1px;}#sk-container-id-2 div.sk-estimator {font-family: monospace;background-color: #f0f8ff;border: 1px dotted black;border-radius: 0.25em;box-sizing: border-box;margin-bottom: 0.5em;}#sk-container-id-2 div.sk-estimator:hover {background-color: #d4ebff;}#sk-container-id-2 div.sk-parallel-item::after {content: \"\";width: 100%;border-bottom: 1px solid gray;flex-grow: 1;}#sk-container-id-2 div.sk-label:hover label.sk-toggleable__label {background-color: #d4ebff;}#sk-container-id-2 div.sk-serial::before {content: \"\";position: absolute;border-left: 1px solid gray;box-sizing: border-box;top: 0;bottom: 0;left: 50%;z-index: 0;}#sk-container-id-2 div.sk-serial {display: flex;flex-direction: column;align-items: center;background-color: white;padding-right: 0.2em;padding-left: 0.2em;position: relative;}#sk-container-id-2 div.sk-item {position: relative;z-index: 1;}#sk-container-id-2 div.sk-parallel {display: flex;align-items: stretch;justify-content: center;background-color: white;position: relative;}#sk-container-id-2 div.sk-item::before, #sk-container-id-2 div.sk-parallel-item::before {content: \"\";position: absolute;border-left: 1px solid gray;box-sizing: border-box;top: 0;bottom: 0;left: 50%;z-index: -1;}#sk-container-id-2 div.sk-parallel-item {display: flex;flex-direction: column;z-index: 1;position: relative;background-color: white;}#sk-container-id-2 div.sk-parallel-item:first-child::after {align-self: flex-end;width: 50%;}#sk-container-id-2 div.sk-parallel-item:last-child::after {align-self: flex-start;width: 50%;}#sk-container-id-2 div.sk-parallel-item:only-child::after {width: 0;}#sk-container-id-2 div.sk-dashed-wrapped {border: 1px dashed gray;margin: 0 0.4em 0.5em 0.4em;box-sizing: border-box;padding-bottom: 0.4em;background-color: white;}#sk-container-id-2 div.sk-label label {font-family: monospace;font-weight: bold;display: inline-block;line-height: 1.2em;}#sk-container-id-2 div.sk-label-container {text-align: center;}#sk-container-id-2 div.sk-container {/* jupyter's `normalize.less` sets `[hidden] { display: none; }` but bootstrap.min.css set `[hidden] { display: none !important; }` so we also need the `!important` here to be able to override the default hidden behavior on the sphinx rendered scikit-learn.org. See: https://github.com/scikit-learn/scikit-learn/issues/21755 */display: inline-block !important;position: relative;}#sk-container-id-2 div.sk-text-repr-fallback {display: none;}</style><div id=\"sk-container-id-2\" class=\"sk-top-container\"><div class=\"sk-text-repr-fallback\"><pre>LinearSVC(C=0.1)</pre><b>In a Jupyter environment, please rerun this cell to show the HTML representation or trust the notebook. <br />On GitHub, the HTML representation is unable to render, please try loading this page with nbviewer.org.</b></div><div class=\"sk-container\" hidden><div class=\"sk-item\"><div class=\"sk-estimator sk-toggleable\"><input class=\"sk-toggleable__control sk-hidden--visually\" id=\"sk-estimator-id-2\" type=\"checkbox\" checked><label for=\"sk-estimator-id-2\" class=\"sk-toggleable__label sk-toggleable__label-arrow\">LinearSVC</label><div class=\"sk-toggleable__content\"><pre>LinearSVC(C=0.1)</pre></div></div></div></div></div>"
      ],
      "text/plain": [
       "LinearSVC(C=0.1)"
      ]
     },
     "execution_count": 18,
     "metadata": {},
     "output_type": "execute_result"
    }
   ],
   "source": [
    "# honestly, from 3018685 dimensions to 100 and we are still able to achieve 0.71 accuracy and 0.71 f1 score\n",
    "# Is GOOD. This shows how important the vectoriazion and features are in the first place.\n",
    "# We are basically creating our own embeddings from the n-grams and tfidf scores\n",
    "linsvc = LinearSVC(C=0.1)\n",
    "linsvc = train_test(linsvc, X_train_reduced_100, y_train_1, X_eval_reduced_100, y_eval_1)\n",
    "#print('On train data:')\n",
    "#train_test(linsvc, X_train_reduced_100, y_train_1, X_train_reduced_100, y_train_1)"
   ]
  },
  {
   "cell_type": "code",
   "execution_count": 19,
   "metadata": {},
   "outputs": [
    {
     "name": "stdout",
     "output_type": "stream",
     "text": [
      "Training set size:  (157576, 100)  Evaluation set size:  (39394, 100)\n",
      "Metrics on evaluation set: \n",
      "Accuracy:  0.7074427577803727\n",
      "F1 score:  0.7036589442287419\n",
      "Metrics on training set to check overfitting/triviality of model: \n",
      "Accuracy:  0.7065542976087729\n",
      "F1 score:  0.7037416709379806\n",
      "Confusion matrix: \n",
      "[[56416 22844]\n",
      " [23396 54920]]\n",
      "Training set size:  (157576, 100)  Evaluation set size:  (157576, 100)\n",
      "Metrics on evaluation set: \n",
      "Accuracy:  0.7065542976087729\n",
      "F1 score:  0.7037416709379806\n",
      "Metrics on training set to check overfitting/triviality of model: \n",
      "Accuracy:  0.7065542976087729\n",
      "F1 score:  0.7037416709379806\n",
      "Confusion matrix: \n",
      "[[56416 22844]\n",
      " [23396 54920]]\n"
     ]
    },
    {
     "data": {
      "text/html": [
       "<style>#sk-container-id-3 {color: black;background-color: white;}#sk-container-id-3 pre{padding: 0;}#sk-container-id-3 div.sk-toggleable {background-color: white;}#sk-container-id-3 label.sk-toggleable__label {cursor: pointer;display: block;width: 100%;margin-bottom: 0;padding: 0.3em;box-sizing: border-box;text-align: center;}#sk-container-id-3 label.sk-toggleable__label-arrow:before {content: \"▸\";float: left;margin-right: 0.25em;color: #696969;}#sk-container-id-3 label.sk-toggleable__label-arrow:hover:before {color: black;}#sk-container-id-3 div.sk-estimator:hover label.sk-toggleable__label-arrow:before {color: black;}#sk-container-id-3 div.sk-toggleable__content {max-height: 0;max-width: 0;overflow: hidden;text-align: left;background-color: #f0f8ff;}#sk-container-id-3 div.sk-toggleable__content pre {margin: 0.2em;color: black;border-radius: 0.25em;background-color: #f0f8ff;}#sk-container-id-3 input.sk-toggleable__control:checked~div.sk-toggleable__content {max-height: 200px;max-width: 100%;overflow: auto;}#sk-container-id-3 input.sk-toggleable__control:checked~label.sk-toggleable__label-arrow:before {content: \"▾\";}#sk-container-id-3 div.sk-estimator input.sk-toggleable__control:checked~label.sk-toggleable__label {background-color: #d4ebff;}#sk-container-id-3 div.sk-label input.sk-toggleable__control:checked~label.sk-toggleable__label {background-color: #d4ebff;}#sk-container-id-3 input.sk-hidden--visually {border: 0;clip: rect(1px 1px 1px 1px);clip: rect(1px, 1px, 1px, 1px);height: 1px;margin: -1px;overflow: hidden;padding: 0;position: absolute;width: 1px;}#sk-container-id-3 div.sk-estimator {font-family: monospace;background-color: #f0f8ff;border: 1px dotted black;border-radius: 0.25em;box-sizing: border-box;margin-bottom: 0.5em;}#sk-container-id-3 div.sk-estimator:hover {background-color: #d4ebff;}#sk-container-id-3 div.sk-parallel-item::after {content: \"\";width: 100%;border-bottom: 1px solid gray;flex-grow: 1;}#sk-container-id-3 div.sk-label:hover label.sk-toggleable__label {background-color: #d4ebff;}#sk-container-id-3 div.sk-serial::before {content: \"\";position: absolute;border-left: 1px solid gray;box-sizing: border-box;top: 0;bottom: 0;left: 50%;z-index: 0;}#sk-container-id-3 div.sk-serial {display: flex;flex-direction: column;align-items: center;background-color: white;padding-right: 0.2em;padding-left: 0.2em;position: relative;}#sk-container-id-3 div.sk-item {position: relative;z-index: 1;}#sk-container-id-3 div.sk-parallel {display: flex;align-items: stretch;justify-content: center;background-color: white;position: relative;}#sk-container-id-3 div.sk-item::before, #sk-container-id-3 div.sk-parallel-item::before {content: \"\";position: absolute;border-left: 1px solid gray;box-sizing: border-box;top: 0;bottom: 0;left: 50%;z-index: -1;}#sk-container-id-3 div.sk-parallel-item {display: flex;flex-direction: column;z-index: 1;position: relative;background-color: white;}#sk-container-id-3 div.sk-parallel-item:first-child::after {align-self: flex-end;width: 50%;}#sk-container-id-3 div.sk-parallel-item:last-child::after {align-self: flex-start;width: 50%;}#sk-container-id-3 div.sk-parallel-item:only-child::after {width: 0;}#sk-container-id-3 div.sk-dashed-wrapped {border: 1px dashed gray;margin: 0 0.4em 0.5em 0.4em;box-sizing: border-box;padding-bottom: 0.4em;background-color: white;}#sk-container-id-3 div.sk-label label {font-family: monospace;font-weight: bold;display: inline-block;line-height: 1.2em;}#sk-container-id-3 div.sk-label-container {text-align: center;}#sk-container-id-3 div.sk-container {/* jupyter's `normalize.less` sets `[hidden] { display: none; }` but bootstrap.min.css set `[hidden] { display: none !important; }` so we also need the `!important` here to be able to override the default hidden behavior on the sphinx rendered scikit-learn.org. See: https://github.com/scikit-learn/scikit-learn/issues/21755 */display: inline-block !important;position: relative;}#sk-container-id-3 div.sk-text-repr-fallback {display: none;}</style><div id=\"sk-container-id-3\" class=\"sk-top-container\"><div class=\"sk-text-repr-fallback\"><pre>LinearSVC(C=0.01)</pre><b>In a Jupyter environment, please rerun this cell to show the HTML representation or trust the notebook. <br />On GitHub, the HTML representation is unable to render, please try loading this page with nbviewer.org.</b></div><div class=\"sk-container\" hidden><div class=\"sk-item\"><div class=\"sk-estimator sk-toggleable\"><input class=\"sk-toggleable__control sk-hidden--visually\" id=\"sk-estimator-id-3\" type=\"checkbox\" checked><label for=\"sk-estimator-id-3\" class=\"sk-toggleable__label sk-toggleable__label-arrow\">LinearSVC</label><div class=\"sk-toggleable__content\"><pre>LinearSVC(C=0.01)</pre></div></div></div></div></div>"
      ],
      "text/plain": [
       "LinearSVC(C=0.01)"
      ]
     },
     "execution_count": 19,
     "metadata": {},
     "output_type": "execute_result"
    }
   ],
   "source": [
    "linsvc = LinearSVC(C=0.01)\n",
    "linsvc = train_test(linsvc, X_train_reduced_100, y_train_1, X_eval_reduced_100, y_eval_1)\n",
    "#train_test(linsvc, X_train_reduced_100, y_train_1, X_train_reduced_100, y_train_1)"
   ]
  },
  {
   "cell_type": "code",
   "execution_count": 20,
   "metadata": {},
   "outputs": [
    {
     "name": "stdout",
     "output_type": "stream",
     "text": [
      "Training set size:  (157576, 3018685)  Evaluation set size:  (39394, 3018685)\n",
      "Metrics on evaluation set: \n",
      "Accuracy:  0.8256079606031376\n",
      "F1 score:  0.8282156431286256\n",
      "Metrics on training set to check overfitting/triviality of model: \n",
      "Accuracy:  0.9027834187947403\n",
      "F1 score:  0.9037527566080056\n",
      "Confusion matrix: \n",
      "[[70335  8925]\n",
      " [ 6394 71922]]\n",
      "On train data:\n",
      "Training set size:  (157576, 3018685)  Evaluation set size:  (157576, 3018685)\n",
      "Metrics on evaluation set: \n",
      "Accuracy:  0.9027834187947403\n",
      "F1 score:  0.9037527566080056\n",
      "Metrics on training set to check overfitting/triviality of model: \n",
      "Accuracy:  0.9027834187947403\n",
      "F1 score:  0.9037527566080056\n",
      "Confusion matrix: \n",
      "[[70335  8925]\n",
      " [ 6394 71922]]\n"
     ]
    },
    {
     "data": {
      "text/html": [
       "<style>#sk-container-id-4 {color: black;background-color: white;}#sk-container-id-4 pre{padding: 0;}#sk-container-id-4 div.sk-toggleable {background-color: white;}#sk-container-id-4 label.sk-toggleable__label {cursor: pointer;display: block;width: 100%;margin-bottom: 0;padding: 0.3em;box-sizing: border-box;text-align: center;}#sk-container-id-4 label.sk-toggleable__label-arrow:before {content: \"▸\";float: left;margin-right: 0.25em;color: #696969;}#sk-container-id-4 label.sk-toggleable__label-arrow:hover:before {color: black;}#sk-container-id-4 div.sk-estimator:hover label.sk-toggleable__label-arrow:before {color: black;}#sk-container-id-4 div.sk-toggleable__content {max-height: 0;max-width: 0;overflow: hidden;text-align: left;background-color: #f0f8ff;}#sk-container-id-4 div.sk-toggleable__content pre {margin: 0.2em;color: black;border-radius: 0.25em;background-color: #f0f8ff;}#sk-container-id-4 input.sk-toggleable__control:checked~div.sk-toggleable__content {max-height: 200px;max-width: 100%;overflow: auto;}#sk-container-id-4 input.sk-toggleable__control:checked~label.sk-toggleable__label-arrow:before {content: \"▾\";}#sk-container-id-4 div.sk-estimator input.sk-toggleable__control:checked~label.sk-toggleable__label {background-color: #d4ebff;}#sk-container-id-4 div.sk-label input.sk-toggleable__control:checked~label.sk-toggleable__label {background-color: #d4ebff;}#sk-container-id-4 input.sk-hidden--visually {border: 0;clip: rect(1px 1px 1px 1px);clip: rect(1px, 1px, 1px, 1px);height: 1px;margin: -1px;overflow: hidden;padding: 0;position: absolute;width: 1px;}#sk-container-id-4 div.sk-estimator {font-family: monospace;background-color: #f0f8ff;border: 1px dotted black;border-radius: 0.25em;box-sizing: border-box;margin-bottom: 0.5em;}#sk-container-id-4 div.sk-estimator:hover {background-color: #d4ebff;}#sk-container-id-4 div.sk-parallel-item::after {content: \"\";width: 100%;border-bottom: 1px solid gray;flex-grow: 1;}#sk-container-id-4 div.sk-label:hover label.sk-toggleable__label {background-color: #d4ebff;}#sk-container-id-4 div.sk-serial::before {content: \"\";position: absolute;border-left: 1px solid gray;box-sizing: border-box;top: 0;bottom: 0;left: 50%;z-index: 0;}#sk-container-id-4 div.sk-serial {display: flex;flex-direction: column;align-items: center;background-color: white;padding-right: 0.2em;padding-left: 0.2em;position: relative;}#sk-container-id-4 div.sk-item {position: relative;z-index: 1;}#sk-container-id-4 div.sk-parallel {display: flex;align-items: stretch;justify-content: center;background-color: white;position: relative;}#sk-container-id-4 div.sk-item::before, #sk-container-id-4 div.sk-parallel-item::before {content: \"\";position: absolute;border-left: 1px solid gray;box-sizing: border-box;top: 0;bottom: 0;left: 50%;z-index: -1;}#sk-container-id-4 div.sk-parallel-item {display: flex;flex-direction: column;z-index: 1;position: relative;background-color: white;}#sk-container-id-4 div.sk-parallel-item:first-child::after {align-self: flex-end;width: 50%;}#sk-container-id-4 div.sk-parallel-item:last-child::after {align-self: flex-start;width: 50%;}#sk-container-id-4 div.sk-parallel-item:only-child::after {width: 0;}#sk-container-id-4 div.sk-dashed-wrapped {border: 1px dashed gray;margin: 0 0.4em 0.5em 0.4em;box-sizing: border-box;padding-bottom: 0.4em;background-color: white;}#sk-container-id-4 div.sk-label label {font-family: monospace;font-weight: bold;display: inline-block;line-height: 1.2em;}#sk-container-id-4 div.sk-label-container {text-align: center;}#sk-container-id-4 div.sk-container {/* jupyter's `normalize.less` sets `[hidden] { display: none; }` but bootstrap.min.css set `[hidden] { display: none !important; }` so we also need the `!important` here to be able to override the default hidden behavior on the sphinx rendered scikit-learn.org. See: https://github.com/scikit-learn/scikit-learn/issues/21755 */display: inline-block !important;position: relative;}#sk-container-id-4 div.sk-text-repr-fallback {display: none;}</style><div id=\"sk-container-id-4\" class=\"sk-top-container\"><div class=\"sk-text-repr-fallback\"><pre>LinearSVC(C=0.1)</pre><b>In a Jupyter environment, please rerun this cell to show the HTML representation or trust the notebook. <br />On GitHub, the HTML representation is unable to render, please try loading this page with nbviewer.org.</b></div><div class=\"sk-container\" hidden><div class=\"sk-item\"><div class=\"sk-estimator sk-toggleable\"><input class=\"sk-toggleable__control sk-hidden--visually\" id=\"sk-estimator-id-4\" type=\"checkbox\" checked><label for=\"sk-estimator-id-4\" class=\"sk-toggleable__label sk-toggleable__label-arrow\">LinearSVC</label><div class=\"sk-toggleable__content\"><pre>LinearSVC(C=0.1)</pre></div></div></div></div></div>"
      ],
      "text/plain": [
       "LinearSVC(C=0.1)"
      ]
     },
     "execution_count": 20,
     "metadata": {},
     "output_type": "execute_result"
    }
   ],
   "source": [
    "# This is great, we now don't overfit at all.\n",
    "# let's keep the dimensionality high but reduce C\n",
    "linsvc = LinearSVC(C=0.1)\n",
    "linsvc = train_test(linsvc, X_train, y_train_1, X_eval, y_eval_1)\n",
    "#print('On train data:')\n",
    "#train_test(linsvc, X_train, y_train_1, X_train, y_train_1)"
   ]
  },
  {
   "cell_type": "code",
   "execution_count": 21,
   "metadata": {},
   "outputs": [
    {
     "name": "stdout",
     "output_type": "stream",
     "text": [
      "Training set size:  (157576, 3018685)  Evaluation set size:  (39394, 3018685)\n",
      "Metrics on evaluation set: \n",
      "Accuracy:  0.7774788038787632\n",
      "F1 score:  0.7792717933222542\n",
      "Metrics on training set to check overfitting/triviality of model: \n",
      "Accuracy:  0.7992460780829568\n",
      "F1 score:  0.8008110116236604\n",
      "Confusion matrix: \n",
      "[[62352 16908]\n",
      " [14726 63590]]\n",
      "On train data:\n",
      "Training set size:  (157576, 3018685)  Evaluation set size:  (157576, 3018685)\n",
      "Metrics on evaluation set: \n",
      "Accuracy:  0.7992460780829568\n",
      "F1 score:  0.8008110116236604\n",
      "Metrics on training set to check overfitting/triviality of model: \n",
      "Accuracy:  0.7992460780829568\n",
      "F1 score:  0.8008110116236604\n",
      "Confusion matrix: \n",
      "[[62352 16908]\n",
      " [14726 63590]]\n"
     ]
    },
    {
     "data": {
      "text/html": [
       "<style>#sk-container-id-5 {color: black;background-color: white;}#sk-container-id-5 pre{padding: 0;}#sk-container-id-5 div.sk-toggleable {background-color: white;}#sk-container-id-5 label.sk-toggleable__label {cursor: pointer;display: block;width: 100%;margin-bottom: 0;padding: 0.3em;box-sizing: border-box;text-align: center;}#sk-container-id-5 label.sk-toggleable__label-arrow:before {content: \"▸\";float: left;margin-right: 0.25em;color: #696969;}#sk-container-id-5 label.sk-toggleable__label-arrow:hover:before {color: black;}#sk-container-id-5 div.sk-estimator:hover label.sk-toggleable__label-arrow:before {color: black;}#sk-container-id-5 div.sk-toggleable__content {max-height: 0;max-width: 0;overflow: hidden;text-align: left;background-color: #f0f8ff;}#sk-container-id-5 div.sk-toggleable__content pre {margin: 0.2em;color: black;border-radius: 0.25em;background-color: #f0f8ff;}#sk-container-id-5 input.sk-toggleable__control:checked~div.sk-toggleable__content {max-height: 200px;max-width: 100%;overflow: auto;}#sk-container-id-5 input.sk-toggleable__control:checked~label.sk-toggleable__label-arrow:before {content: \"▾\";}#sk-container-id-5 div.sk-estimator input.sk-toggleable__control:checked~label.sk-toggleable__label {background-color: #d4ebff;}#sk-container-id-5 div.sk-label input.sk-toggleable__control:checked~label.sk-toggleable__label {background-color: #d4ebff;}#sk-container-id-5 input.sk-hidden--visually {border: 0;clip: rect(1px 1px 1px 1px);clip: rect(1px, 1px, 1px, 1px);height: 1px;margin: -1px;overflow: hidden;padding: 0;position: absolute;width: 1px;}#sk-container-id-5 div.sk-estimator {font-family: monospace;background-color: #f0f8ff;border: 1px dotted black;border-radius: 0.25em;box-sizing: border-box;margin-bottom: 0.5em;}#sk-container-id-5 div.sk-estimator:hover {background-color: #d4ebff;}#sk-container-id-5 div.sk-parallel-item::after {content: \"\";width: 100%;border-bottom: 1px solid gray;flex-grow: 1;}#sk-container-id-5 div.sk-label:hover label.sk-toggleable__label {background-color: #d4ebff;}#sk-container-id-5 div.sk-serial::before {content: \"\";position: absolute;border-left: 1px solid gray;box-sizing: border-box;top: 0;bottom: 0;left: 50%;z-index: 0;}#sk-container-id-5 div.sk-serial {display: flex;flex-direction: column;align-items: center;background-color: white;padding-right: 0.2em;padding-left: 0.2em;position: relative;}#sk-container-id-5 div.sk-item {position: relative;z-index: 1;}#sk-container-id-5 div.sk-parallel {display: flex;align-items: stretch;justify-content: center;background-color: white;position: relative;}#sk-container-id-5 div.sk-item::before, #sk-container-id-5 div.sk-parallel-item::before {content: \"\";position: absolute;border-left: 1px solid gray;box-sizing: border-box;top: 0;bottom: 0;left: 50%;z-index: -1;}#sk-container-id-5 div.sk-parallel-item {display: flex;flex-direction: column;z-index: 1;position: relative;background-color: white;}#sk-container-id-5 div.sk-parallel-item:first-child::after {align-self: flex-end;width: 50%;}#sk-container-id-5 div.sk-parallel-item:last-child::after {align-self: flex-start;width: 50%;}#sk-container-id-5 div.sk-parallel-item:only-child::after {width: 0;}#sk-container-id-5 div.sk-dashed-wrapped {border: 1px dashed gray;margin: 0 0.4em 0.5em 0.4em;box-sizing: border-box;padding-bottom: 0.4em;background-color: white;}#sk-container-id-5 div.sk-label label {font-family: monospace;font-weight: bold;display: inline-block;line-height: 1.2em;}#sk-container-id-5 div.sk-label-container {text-align: center;}#sk-container-id-5 div.sk-container {/* jupyter's `normalize.less` sets `[hidden] { display: none; }` but bootstrap.min.css set `[hidden] { display: none !important; }` so we also need the `!important` here to be able to override the default hidden behavior on the sphinx rendered scikit-learn.org. See: https://github.com/scikit-learn/scikit-learn/issues/21755 */display: inline-block !important;position: relative;}#sk-container-id-5 div.sk-text-repr-fallback {display: none;}</style><div id=\"sk-container-id-5\" class=\"sk-top-container\"><div class=\"sk-text-repr-fallback\"><pre>LinearSVC(C=0.01)</pre><b>In a Jupyter environment, please rerun this cell to show the HTML representation or trust the notebook. <br />On GitHub, the HTML representation is unable to render, please try loading this page with nbviewer.org.</b></div><div class=\"sk-container\" hidden><div class=\"sk-item\"><div class=\"sk-estimator sk-toggleable\"><input class=\"sk-toggleable__control sk-hidden--visually\" id=\"sk-estimator-id-5\" type=\"checkbox\" checked><label for=\"sk-estimator-id-5\" class=\"sk-toggleable__label sk-toggleable__label-arrow\">LinearSVC</label><div class=\"sk-toggleable__content\"><pre>LinearSVC(C=0.01)</pre></div></div></div></div></div>"
      ],
      "text/plain": [
       "LinearSVC(C=0.01)"
      ]
     },
     "execution_count": 21,
     "metadata": {},
     "output_type": "execute_result"
    }
   ],
   "source": [
    "linsvc = LinearSVC(C=0.01)\n",
    "linsvc = train_test(linsvc, X_train, y_train_1, X_eval, y_eval_1)\n",
    "print('On train data:')\n",
    "train_test(linsvc, X_train, y_train_1, X_train, y_train_1)"
   ]
  },
  {
   "cell_type": "code",
   "execution_count": 22,
   "metadata": {},
   "outputs": [],
   "source": [
    "# Let's use a kernel = linear SVC and see why it was so horribly slow\n",
    "# svc = SVC(kernel='linear')\n",
    "# svc = train_test(svc, X_train, y_train_1, X_eval, y_eval_1)\n",
    "# annoyingly slow. we also use this ONLY because we wanted to use the \n",
    "# probability estimates in a boosted ensemble method"
   ]
  },
  {
   "cell_type": "code",
   "execution_count": 23,
   "metadata": {},
   "outputs": [],
   "source": [
    "# svc = SVC(kernel='linear')\n",
    "# svc = train_test(svc, X_train_reduced_100, y_train_1, X_eval_reduced_100, y_eval_1)\n",
    "# # even on reduced dimensionality it is slow. over 2min 40s and counting"
   ]
  },
  {
   "cell_type": "code",
   "execution_count": 24,
   "metadata": {},
   "outputs": [],
   "source": [
    "# So, for now linear SVC is sweet and we also learned how using reduced C and/or dimensionality reduction\n",
    "# can help us avoid overfitting while still achieving good performance\n",
    "# We originally considered the slower SVC(linear) just to have access to the probability estimates to then use them\n",
    "# in a boosted ensemble method. Let's rewind a bit and go back to trees and boosting"
   ]
  },
  {
   "cell_type": "code",
   "execution_count": 25,
   "metadata": {},
   "outputs": [],
   "source": [
    "# # tree\n",
    "# from sklearn.tree import DecisionTreeClassifier\n",
    "# tree = DecisionTreeClassifier()\n",
    "# tree = train_test(tree, X_train, y_train_1, X_eval, y_eval_1)\n",
    "# print('On train data:')\n",
    "# train_test(tree, X_train, y_train_1, X_train, y_train_1)\n",
    "\n",
    "#18+ min\n",
    "# Accuracy:  0.7467888510940752\n",
    "# F1 score:  0.7470521110688474\n",
    "# On train data: ... I stopped it, it was re-training again, I modifi train_test function so it doesnt "
   ]
  },
  {
   "cell_type": "code",
   "execution_count": 26,
   "metadata": {},
   "outputs": [
    {
     "name": "stdout",
     "output_type": "stream",
     "text": [
      "Training set size:  (157576, 3018685)  Evaluation set size:  (39394, 3018685)\n",
      "Metrics on evaluation set: \n",
      "Accuracy:  0.5043915317053358\n",
      "F1 score:  0.009135200974421435\n",
      "Metrics on training set to check overfitting/triviality of model: \n",
      "Accuracy:  0.5047532619180586\n",
      "F1 score:  0.009619655570643553\n",
      "Confusion matrix: \n",
      "[[79158   102]\n",
      " [77937   379]]\n",
      "On train data:\n",
      "Training set size:  (157576, 3018685)  Evaluation set size:  (157576, 3018685)\n",
      "Metrics on evaluation set: \n",
      "Accuracy:  0.5083007564603746\n",
      "F1 score:  0.03698916177786617\n",
      "Metrics on training set to check overfitting/triviality of model: \n",
      "Accuracy:  0.5083007564603746\n",
      "F1 score:  0.03698916177786617\n",
      "Confusion matrix: \n",
      "[[78608   652]\n",
      " [76828  1488]]\n"
     ]
    },
    {
     "data": {
      "text/html": [
       "<style>#sk-container-id-6 {color: black;background-color: white;}#sk-container-id-6 pre{padding: 0;}#sk-container-id-6 div.sk-toggleable {background-color: white;}#sk-container-id-6 label.sk-toggleable__label {cursor: pointer;display: block;width: 100%;margin-bottom: 0;padding: 0.3em;box-sizing: border-box;text-align: center;}#sk-container-id-6 label.sk-toggleable__label-arrow:before {content: \"▸\";float: left;margin-right: 0.25em;color: #696969;}#sk-container-id-6 label.sk-toggleable__label-arrow:hover:before {color: black;}#sk-container-id-6 div.sk-estimator:hover label.sk-toggleable__label-arrow:before {color: black;}#sk-container-id-6 div.sk-toggleable__content {max-height: 0;max-width: 0;overflow: hidden;text-align: left;background-color: #f0f8ff;}#sk-container-id-6 div.sk-toggleable__content pre {margin: 0.2em;color: black;border-radius: 0.25em;background-color: #f0f8ff;}#sk-container-id-6 input.sk-toggleable__control:checked~div.sk-toggleable__content {max-height: 200px;max-width: 100%;overflow: auto;}#sk-container-id-6 input.sk-toggleable__control:checked~label.sk-toggleable__label-arrow:before {content: \"▾\";}#sk-container-id-6 div.sk-estimator input.sk-toggleable__control:checked~label.sk-toggleable__label {background-color: #d4ebff;}#sk-container-id-6 div.sk-label input.sk-toggleable__control:checked~label.sk-toggleable__label {background-color: #d4ebff;}#sk-container-id-6 input.sk-hidden--visually {border: 0;clip: rect(1px 1px 1px 1px);clip: rect(1px, 1px, 1px, 1px);height: 1px;margin: -1px;overflow: hidden;padding: 0;position: absolute;width: 1px;}#sk-container-id-6 div.sk-estimator {font-family: monospace;background-color: #f0f8ff;border: 1px dotted black;border-radius: 0.25em;box-sizing: border-box;margin-bottom: 0.5em;}#sk-container-id-6 div.sk-estimator:hover {background-color: #d4ebff;}#sk-container-id-6 div.sk-parallel-item::after {content: \"\";width: 100%;border-bottom: 1px solid gray;flex-grow: 1;}#sk-container-id-6 div.sk-label:hover label.sk-toggleable__label {background-color: #d4ebff;}#sk-container-id-6 div.sk-serial::before {content: \"\";position: absolute;border-left: 1px solid gray;box-sizing: border-box;top: 0;bottom: 0;left: 50%;z-index: 0;}#sk-container-id-6 div.sk-serial {display: flex;flex-direction: column;align-items: center;background-color: white;padding-right: 0.2em;padding-left: 0.2em;position: relative;}#sk-container-id-6 div.sk-item {position: relative;z-index: 1;}#sk-container-id-6 div.sk-parallel {display: flex;align-items: stretch;justify-content: center;background-color: white;position: relative;}#sk-container-id-6 div.sk-item::before, #sk-container-id-6 div.sk-parallel-item::before {content: \"\";position: absolute;border-left: 1px solid gray;box-sizing: border-box;top: 0;bottom: 0;left: 50%;z-index: -1;}#sk-container-id-6 div.sk-parallel-item {display: flex;flex-direction: column;z-index: 1;position: relative;background-color: white;}#sk-container-id-6 div.sk-parallel-item:first-child::after {align-self: flex-end;width: 50%;}#sk-container-id-6 div.sk-parallel-item:last-child::after {align-self: flex-start;width: 50%;}#sk-container-id-6 div.sk-parallel-item:only-child::after {width: 0;}#sk-container-id-6 div.sk-dashed-wrapped {border: 1px dashed gray;margin: 0 0.4em 0.5em 0.4em;box-sizing: border-box;padding-bottom: 0.4em;background-color: white;}#sk-container-id-6 div.sk-label label {font-family: monospace;font-weight: bold;display: inline-block;line-height: 1.2em;}#sk-container-id-6 div.sk-label-container {text-align: center;}#sk-container-id-6 div.sk-container {/* jupyter's `normalize.less` sets `[hidden] { display: none; }` but bootstrap.min.css set `[hidden] { display: none !important; }` so we also need the `!important` here to be able to override the default hidden behavior on the sphinx rendered scikit-learn.org. See: https://github.com/scikit-learn/scikit-learn/issues/21755 */display: inline-block !important;position: relative;}#sk-container-id-6 div.sk-text-repr-fallback {display: none;}</style><div id=\"sk-container-id-6\" class=\"sk-top-container\"><div class=\"sk-text-repr-fallback\"><pre>DecisionTreeClassifier(max_depth=8, max_features=&#x27;sqrt&#x27;)</pre><b>In a Jupyter environment, please rerun this cell to show the HTML representation or trust the notebook. <br />On GitHub, the HTML representation is unable to render, please try loading this page with nbviewer.org.</b></div><div class=\"sk-container\" hidden><div class=\"sk-item\"><div class=\"sk-estimator sk-toggleable\"><input class=\"sk-toggleable__control sk-hidden--visually\" id=\"sk-estimator-id-6\" type=\"checkbox\" checked><label for=\"sk-estimator-id-6\" class=\"sk-toggleable__label sk-toggleable__label-arrow\">DecisionTreeClassifier</label><div class=\"sk-toggleable__content\"><pre>DecisionTreeClassifier(max_depth=8, max_features=&#x27;sqrt&#x27;)</pre></div></div></div></div></div>"
      ],
      "text/plain": [
       "DecisionTreeClassifier(max_depth=8, max_features='sqrt')"
      ]
     },
     "execution_count": 26,
     "metadata": {},
     "output_type": "execute_result"
    }
   ],
   "source": [
    "# I have high hopes for my tree buddies, let's improve them\n",
    "# let's focus on the balance between speed and performance\n",
    "# overall the goal is to have many weak learners that are not overfitting and that are fast to train\n",
    "lil_tree = DecisionTreeClassifier(\n",
    "    max_depth=8,\n",
    "    max_features='sqrt',\n",
    "    min_samples_leaf=1,\n",
    "    min_samples_split=2,\n",
    "    splitter='best'\n",
    ")\n",
    "lil_tree = train_test(lil_tree, X_train, y_train_1, X_eval, y_eval_1)\n",
    "#print('On train data:')\n",
    "#train_test(lil_tree, X_train, y_train_1, X_train, y_train_1)"
   ]
  },
  {
   "cell_type": "code",
   "execution_count": 28,
   "metadata": {},
   "outputs": [
    {
     "name": "stdout",
     "output_type": "stream",
     "text": [
      "Training set size:  (157576, 100)  Evaluation set size:  (39394, 100)\n",
      "Metrics on evaluation set: \n",
      "Accuracy:  0.6891150936690866\n",
      "F1 score:  0.7035127218147046\n",
      "Metrics on training set to check overfitting/triviality of model: \n",
      "Accuracy:  0.6996750774229578\n",
      "F1 score:  0.7139437607292245\n",
      "Confusion matrix: \n",
      "[[51196 28064]\n",
      " [19260 59056]]\n"
     ]
    }
   ],
   "source": [
    "# instead of reducing the max_features inside the tree let's reduce the dimensionality before\n",
    "lil_tree = DecisionTreeClassifier(\n",
    "    max_depth=8,\n",
    "    min_samples_leaf=1,\n",
    "    min_samples_split=2,\n",
    "    splitter='best',\n",
    "    max_features=None,\n",
    ")\n",
    "lil_tree = train_test(lil_tree, X_train_reduced_100, y_train_1, X_eval_reduced_100, y_eval_1)\n",
    "#print('On train data:')\n",
    "#train_test(lil_tree, X_train_reduced_100, y_train_1, X_train_reduced_100, y_train_1)\n"
   ]
  },
  {
   "cell_type": "code",
   "execution_count": 34,
   "metadata": {},
   "outputs": [
    {
     "name": "stdout",
     "output_type": "stream",
     "text": [
      "Training set size:  (157576, 3018685)  Evaluation set size:  (39394, 3018685)\n",
      "Metrics on evaluation set: \n",
      "Accuracy:  0.5028430725491192\n",
      "F1 score:  0.0001021085413794864\n",
      "Metrics on training set to check overfitting/triviality of model: \n",
      "Accuracy:  0.5031223028887648\n",
      "F1 score:  0.0005106209150326798\n",
      "Confusion matrix: \n",
      "[[79260     0]\n",
      " [78296    20]]\n"
     ]
    }
   ],
   "source": [
    "# Great, now we have something similar to the linear SVC but with more flexbility that we can\n",
    "# boost reliably. Using 1000 features should probably work even better. Let's try to force the features\n",
    "# to 100 instead and compare\n",
    "lil_tree = DecisionTreeClassifier(\n",
    "    max_depth=8,\n",
    "    min_samples_leaf=1,\n",
    "    min_samples_split=2,\n",
    "    splitter='best',\n",
    "    max_features=100,\n",
    ")\n",
    "lil_tree = train_test(lil_tree, X_train, y_train_1, X_eval, y_eval_1)"
   ]
  },
  {
   "cell_type": "code",
   "execution_count": 38,
   "metadata": {},
   "outputs": [
    {
     "name": "stdout",
     "output_type": "stream",
     "text": [
      "Training set size:  (157576, 100)  Evaluation set size:  (39394, 100)\n",
      "Metrics on evaluation set: \n",
      "Accuracy:  0.6417220896583236\n",
      "F1 score:  0.6969553828316228\n",
      "Metrics on training set to check overfitting/triviality of model: \n",
      "Accuracy:  0.646221505813068\n",
      "F1 score:  0.7001640446416566\n",
      "Confusion matrix: \n",
      "[[36740 42520]\n",
      " [13227 65089]]\n"
     ]
    }
   ],
   "source": [
    "# So by performing the dimensionality reduction before the tree we are able to achieve \n",
    "# still decent speed in absolute values but muuuuuch better performance \n",
    "# let's use the best random splits instead\n",
    "lil_tree = DecisionTreeClassifier(\n",
    "    max_depth=8,\n",
    "    min_samples_leaf=1,\n",
    "    min_samples_split=2,\n",
    "    splitter='random',\n",
    "    max_features=None,\n",
    ")\n",
    "lil_tree = train_test(lil_tree, X_train_reduced_100, y_train_1, X_eval_reduced_100, y_eval_1)"
   ]
  },
  {
   "cell_type": "code",
   "execution_count": 39,
   "metadata": {},
   "outputs": [
    {
     "name": "stdout",
     "output_type": "stream",
     "text": [
      "Training set size:  (157576, 3018685)  Evaluation set size:  (39394, 3018685)\n",
      "Metrics on evaluation set: \n",
      "Accuracy:  0.7567396050159922\n",
      "F1 score:  0.758169934640523\n",
      "Metrics on training set to check overfitting/triviality of model: \n",
      "Accuracy:  0.9994478854647916\n",
      "F1 score:  0.9994445260274671\n",
      "Confusion matrix: \n",
      "[[79221    39]\n",
      " [   48 78268]]\n"
     ]
    }
   ],
   "source": [
    "# Now that we have good performance we can actually go back and run the tree on the full dataset\n",
    "# but with the random split, let's see if it overfits\n",
    "tree = DecisionTreeClassifier(\n",
    "    max_depth=None,\n",
    "    min_samples_leaf=1,\n",
    "    min_samples_split=2,\n",
    "    splitter='random',\n",
    "    max_features=None,\n",
    ")\n",
    "#tree = train_test(tree, X_train, y_train_1, X_eval, y_eval_1)\n",
    "\n",
    "# 11min 24s\n",
    "# Training set size:  (157576, 3018685)  Evaluation set size:  (39394, 3018685)\n",
    "# Metrics on evaluation set: \n",
    "# Accuracy:  0.7567396050159922\n",
    "# F1 score:  0.758169934640523\n",
    "# Metrics on training set to check overfitting/triviality of model: \n",
    "# Accuracy:  0.9994478854647916\n",
    "# F1 score:  0.9994445260274671\n",
    "# Confusion matrix: \n",
    "# [[79221    39]\n",
    "#  [   48 78268]]"
   ]
  },
  {
   "cell_type": "code",
   "execution_count": 42,
   "metadata": {},
   "outputs": [
    {
     "name": "stdout",
     "output_type": "stream",
     "text": [
      "Training set size:  (157576, 3018685)  Evaluation set size:  (39394, 3018685)\n",
      "Metrics on evaluation set: \n",
      "Accuracy:  0.65862821749505\n",
      "F1 score:  0.679626453211359\n",
      "Metrics on training set to check overfitting/triviality of model: \n",
      "Accuracy:  0.6573462963903133\n",
      "F1 score:  0.6777439570277529\n",
      "Confusion matrix: \n",
      "[[46804 32456]\n",
      " [21538 56778]]\n"
     ]
    }
   ],
   "source": [
    "# It's still taking 10+minutes and not seconds so using the full 3018685 features is annoying.\n",
    "# Let's use 'sqrt' instead of None for max_features\n",
    "# I still finished runnig the cell above, at least we definitely know it overfits :)\n",
    "# Let's now iterate\n",
    "lil_tree = DecisionTreeClassifier(\n",
    "    max_depth=3,\n",
    "    min_samples_leaf=1,\n",
    "    min_samples_split=2,\n",
    "    splitter='best',\n",
    "    max_features=None,\n",
    ")\n",
    "#lil_tree = train_test(lil_tree, X_train, y_train_1, X_eval, y_eval_1)\n",
    "\n",
    "# 11min 40s ... I'm an idiot I left 'tree' as the name of the variable above but ok\n",
    "# Training set size:  (157576, 3018685)  Evaluation set size:  (39394, 3018685)\n",
    "# Metrics on evaluation set: \n",
    "# Accuracy:  0.7572726811189521\n",
    "# F1 score:  0.7580343134774026\n",
    "# Metrics on training set to check overfitting/triviality of model: \n",
    "# Accuracy:  0.9994478854647916\n",
    "# F1 score:  0.9994445260274671\n",
    "# Confusion matrix: \n",
    "# [[79221    39]\n",
    "#  [   48 78268]]\n",
    "\n",
    "# On lil tree:\n",
    "# 2minn 46s\n",
    "# Training set size:  (157576, 3018685)  Evaluation set size:  (39394, 3018685)\n",
    "# Metrics on evaluation set: \n",
    "# Accuracy:  0.65862821749505\n",
    "# F1 score:  0.679626453211359\n",
    "# Metrics on training set to check overfitting/triviality of model: \n",
    "# Accuracy:  0.6573462963903133\n",
    "# F1 score:  0.6777439570277529\n",
    "# Confusion matrix: \n",
    "# [[46804 32456]\n",
    "#  [21538 56778]]"
   ]
  },
  {
   "cell_type": "code",
   "execution_count": 46,
   "metadata": {},
   "outputs": [
    {
     "data": {
      "text/plain": [
       "<1x3018685 sparse matrix of type '<class 'numpy.float64'>'\n",
       "\twith 33 stored elements in Compressed Sparse Row format>"
      ]
     },
     "execution_count": 46,
     "metadata": {},
     "output_type": "execute_result"
    }
   ],
   "source": [
    "X_train[0]"
   ]
  },
  {
   "cell_type": "code",
   "execution_count": 47,
   "metadata": {},
   "outputs": [
    {
     "data": {
      "text/plain": [
       "array([ 4.82956073e-03,  3.78585652e-02, -2.05811970e-02, -4.59885126e-04,\n",
       "       -6.40908012e-03, -1.19870832e-02, -2.34761303e-02,  2.34429821e-02,\n",
       "       -1.01778152e-02, -1.34612603e-02,  5.11974571e-02,  1.18305089e-02,\n",
       "       -2.24450418e-02,  6.65029219e-04, -4.79984513e-03, -2.09496152e-02,\n",
       "        5.15623137e-03, -1.16515598e-02, -7.42660751e-03, -8.15070116e-03,\n",
       "       -6.01704438e-03, -1.14769188e-02, -1.34180513e-02, -5.22961892e-03,\n",
       "        6.39743076e-03,  1.44645025e-02, -2.17888124e-03, -3.16140089e-02,\n",
       "       -1.46238941e-02,  1.51265829e-02,  5.21486797e-03,  1.79515303e-03,\n",
       "        1.46692638e-03,  1.53259584e-03, -3.56023714e-03, -3.20024449e-03,\n",
       "        1.96275832e-04,  2.40189394e-02, -3.76458630e-03, -4.86841170e-03,\n",
       "       -7.85747991e-03, -6.97950465e-03,  4.43853865e-03, -3.57856831e-03,\n",
       "       -6.66529319e-03,  8.31558217e-03,  6.57715279e-03,  6.25310762e-03,\n",
       "        5.72701299e-03,  1.44418422e-02, -4.55826779e-03, -9.04544968e-04,\n",
       "        3.74043779e-02, -7.40889818e-04, -4.80611698e-03,  6.56223698e-03,\n",
       "       -9.12628267e-03, -1.44497083e-02, -3.32946056e-03,  1.41799563e-02,\n",
       "       -1.67063661e-03,  3.82109509e-03,  2.34469802e-02, -1.18236731e-02,\n",
       "       -1.44834672e-02, -1.28769799e-02, -1.43948638e-02,  1.44599748e-02,\n",
       "        4.68995317e-03,  4.88831195e-02,  1.60024653e-02, -2.92295379e-03,\n",
       "        2.64007608e-03, -9.58144100e-03,  4.05570204e-03,  5.73112503e-03,\n",
       "        2.70204129e-03, -1.14217050e-02, -3.27898977e-03,  5.00040164e-03,\n",
       "       -8.79810496e-04,  9.48449468e-03, -8.34737058e-03, -9.45180168e-05,\n",
       "        2.21689651e-02, -3.43961760e-03, -5.14633326e-03,  3.04674554e-03,\n",
       "       -9.38951951e-03, -2.72425805e-03,  1.63660181e-02, -8.53279087e-03,\n",
       "        3.90035747e-03,  6.50725575e-03, -5.65453534e-03, -2.27434469e-03,\n",
       "        5.35710123e-04, -5.07188088e-03, -2.52680468e-02,  1.93725722e-03])"
      ]
     },
     "execution_count": 47,
     "metadata": {},
     "output_type": "execute_result"
    }
   ],
   "source": [
    "X_train_reduced_100[0]"
   ]
  },
  {
   "cell_type": "code",
   "execution_count": 48,
   "metadata": {},
   "outputs": [
    {
     "data": {
      "text/plain": [
       "<1x3018685 sparse matrix of type '<class 'numpy.float64'>'\n",
       "\twith 19 stored elements in Compressed Sparse Row format>"
      ]
     },
     "execution_count": 48,
     "metadata": {},
     "output_type": "execute_result"
    }
   ],
   "source": [
    "X_train[1]"
   ]
  },
  {
   "cell_type": "code",
   "execution_count": 56,
   "metadata": {},
   "outputs": [
    {
     "name": "stdout",
     "output_type": "stream",
     "text": [
      "  (0, 147880)\t0.06240301293157544\n",
      "  (0, 178666)\t0.2678488907719721\n",
      "  (0, 999927)\t0.12358068897593906\n",
      "  (0, 1000906)\t0.26899131038778346\n",
      "  (0, 1000910)\t0.3066688251831143\n",
      "  (0, 1402170)\t0.13782596329911015\n",
      "  (0, 1403093)\t0.2357540781855153\n",
      "  (0, 1940020)\t0.23841034881558804\n",
      "  (0, 2146399)\t0.12949326121321342\n",
      "  (0, 2148079)\t0.21137348915830573\n",
      "  (0, 2166174)\t0.23601922773985629\n",
      "  (0, 2166186)\t0.3101021152949708\n",
      "  (0, 2166187)\t0.3101021152949708\n",
      "  (0, 2422364)\t0.14591976332561654\n",
      "  (0, 2423236)\t0.30369477401166345\n",
      "  (0, 2549884)\t0.14354188364555356\n",
      "  (0, 2549950)\t0.2117740008411735\n",
      "  (0, 2549978)\t0.31913275562643445\n",
      "  (0, 2920751)\t0.1448198699610625\n"
     ]
    }
   ],
   "source": [
    "print(X_train[1])"
   ]
  },
  {
   "cell_type": "code",
   "execution_count": 65,
   "metadata": {},
   "outputs": [
    {
     "name": "stdout",
     "output_type": "stream",
     "text": [
      "big tree:\n",
      "tree node number:  45859\n",
      "tree max depth:  1047\n",
      "tree leaves number:  22930\n",
      "Tree Params:  {'ccp_alpha': 0.0, 'class_weight': None, 'criterion': 'gini', 'max_depth': None, 'max_features': None, 'max_leaf_nodes': None, 'min_impurity_decrease': 0.0, 'min_samples_leaf': 1, 'min_samples_split': 2, 'min_weight_fraction_leaf': 0.0, 'random_state': None, 'splitter': 'random'}\n",
      "Tree score:  0.7572726811189521\n",
      "lil tree:\n",
      "tree node number:  15\n",
      "tree max depth:  3\n",
      "tree leaves number:  8\n",
      "Tree Params:  {'ccp_alpha': 0.0, 'class_weight': None, 'criterion': 'gini', 'max_depth': 3, 'max_features': None, 'max_leaf_nodes': None, 'min_impurity_decrease': 0.0, 'min_samples_leaf': 1, 'min_samples_split': 2, 'min_weight_fraction_leaf': 0.0, 'random_state': None, 'splitter': 'best'}\n",
      "Tree score:  0.65862821749505\n"
     ]
    }
   ],
   "source": [
    "# Great, now we know that lil tree can't fully fit the data.\n",
    "# note also that lil_tree is slow: 'best' split + no cap on max_features is slow\n",
    "# and note how nb of features is literally more than the nb of samples so we should really cap them\n",
    "# since we waited for the training lets save the big slow tree\n",
    "\n",
    "# also, notice this: we actually fit the training data better than the linear SVC\n",
    "# here the problem is just a matter of regularizing and simlifying the model to avoid overfit.\n",
    "# save to pickle\n",
    "import pickle\n",
    "with open('data/out/trained/big_overfit_tree_cut_data_tfidf_vec.pkl', 'wb') as f:\n",
    "    pickle.dump(tree, f)\n",
    "\n",
    "# load from pickle\n",
    "with open('data/out/trained/big_overfit_tree_cut_data_tfidf_vec.pkl', 'rb') as f:\n",
    "    tree_ = pickle.load(f)\n",
    "\n",
    "# print tree stats\n",
    "print('big tree:')\n",
    "print('tree node number: ', tree_.tree_.node_count)\n",
    "print('tree max depth: ', tree_.tree_.max_depth)\n",
    "print('tree leaves number: ', tree_.tree_.n_leaves)\n",
    "print('Tree Params: ', tree_.get_params())\n",
    "print('Tree score: ', tree_.score(X_eval, y_eval_1))\n",
    "\n",
    "# save lil tree\n",
    "with open('data/out/trained/lil_tree_cut_data_tfidf_vec.pkl', 'wb') as f:\n",
    "    pickle.dump(lil_tree, f)\n",
    "\n",
    "# load lil tree\n",
    "with open('data/out/trained/lil_tree_cut_data_tfidf_vec.pkl', 'rb') as f:\n",
    "    lil_tree_ = pickle.load(f)\n",
    "\n",
    "# print lil tree stats\n",
    "print('lil tree:')\n",
    "print('tree node number: ', lil_tree_.tree_.node_count)\n",
    "print('tree max depth: ', lil_tree_.tree_.max_depth)\n",
    "print('tree leaves number: ', lil_tree_.tree_.n_leaves)\n",
    "print('Tree Params: ', lil_tree_.get_params())\n",
    "print('Tree score: ', lil_tree_.score(X_eval, y_eval_1))\n",
    "\n"
   ]
  },
  {
   "attachments": {},
   "cell_type": "markdown",
   "metadata": {},
   "source": [
    "This is actually crazy\n",
    "lil tree uses 15 nodes and 8 leaves and is still able to fit the data??? how?\n",
    "I'm missing something here or lil tree is just a miracle\n",
    "or maybe it's just how good the vectorizer is and its impact??"
   ]
  },
  {
   "cell_type": "code",
   "execution_count": 68,
   "metadata": {},
   "outputs": [
    {
     "name": "stdout",
     "output_type": "stream",
     "text": [
      "Training set size:  (157576, 3018685)  Evaluation set size:  (39394, 3018685)\n",
      "Metrics on evaluation set: \n",
      "Accuracy:  0.5033507640757475\n",
      "F1 score:  0.002345622354800877\n",
      "Metrics on training set to check overfitting/triviality of model: \n",
      "Accuracy:  0.5038203787378789\n",
      "F1 score:  0.003796952245043576\n",
      "Confusion matrix: \n",
      "[[79241    19]\n",
      " [78167   149]]\n"
     ]
    }
   ],
   "source": [
    "# let's make more lil trees\n",
    "lil_tree = DecisionTreeClassifier(\n",
    "    max_depth=3,\n",
    "    min_samples_leaf=1,\n",
    "    min_samples_split=2,\n",
    "    splitter='random',\n",
    "    max_features='sqrt',\n",
    ")\n",
    "lil_tree = train_test(lil_tree, X_train, y_train_1, X_eval, y_eval_1)"
   ]
  },
  {
   "cell_type": "code",
   "execution_count": 70,
   "metadata": {},
   "outputs": [
    {
     "name": "stdout",
     "output_type": "stream",
     "text": [
      "Training set size:  (157576, 3018685)  Evaluation set size:  (39394, 3018685)\n",
      "Metrics on evaluation set: \n",
      "Accuracy:  0.5030461491597705\n",
      "F1 score:  0.0010205643720977702\n",
      "Metrics on training set to check overfitting/triviality of model: \n",
      "Accuracy:  0.5032999949230847\n",
      "F1 score:  0.001301518438177874\n",
      "Confusion matrix: \n",
      "[[79257     3]\n",
      " [78265    51]]\n"
     ]
    }
   ],
   "source": [
    "# let's make more lil trees\n",
    "lil_tree = DecisionTreeClassifier(\n",
    "    max_depth=3,\n",
    "    min_samples_leaf=1,\n",
    "    min_samples_split=2,\n",
    "    splitter='best',\n",
    "    max_features='sqrt',\n",
    ")\n",
    "lil_tree = train_test(lil_tree, X_train, y_train_1, X_eval, y_eval_1)"
   ]
  },
  {
   "cell_type": "code",
   "execution_count": 71,
   "metadata": {},
   "outputs": [
    {
     "name": "stdout",
     "output_type": "stream",
     "text": [
      "Training set size:  (157576, 3018685)  Evaluation set size:  (39394, 3018685)\n",
      "Metrics on evaluation set: \n",
      "Accuracy:  0.5066761435751638\n",
      "F1 score:  0.01729368932038835\n",
      "Metrics on training set to check overfitting/triviality of model: \n",
      "Accuracy:  0.5079136416713205\n",
      "F1 score:  0.020959331321574223\n",
      "Confusion matrix: \n",
      "[[79205    55]\n",
      " [77486   830]]\n"
     ]
    }
   ],
   "source": [
    "# we are clearly picking the features super badly, maybe we can sort them by importance\n",
    "#... no, actually let's just build a lil forest and see\n",
    "# let's give our lil tree some friends <3\n",
    "from sklearn.ensemble import RandomForestClassifier\n",
    "\n",
    "forest = RandomForestClassifier(\n",
    "    n_estimators=10,\n",
    "    max_depth=3,\n",
    "    min_samples_leaf=1,\n",
    "    min_samples_split=2,\n",
    "    max_features='sqrt',\n",
    ")\n",
    "forest = train_test(forest, X_train, y_train_1, X_eval, y_eval_1)\n",
    "\n"
   ]
  },
  {
   "cell_type": "code",
   "execution_count": 72,
   "metadata": {},
   "outputs": [
    {
     "name": "stdout",
     "output_type": "stream",
     "text": [
      "Training set size:  (157576, 3018685)  Evaluation set size:  (39394, 3018685)\n",
      "Metrics on evaluation set: \n",
      "Accuracy:  0.5985683098949078\n",
      "F1 score:  0.419286133960047\n",
      "Metrics on training set to check overfitting/triviality of model: \n",
      "Accuracy:  0.5999898461694674\n",
      "F1 score:  0.4220217136150235\n",
      "Confusion matrix: \n",
      "[[71532  7728]\n",
      " [55304 23012]]\n"
     ]
    }
   ],
   "source": [
    "forest = RandomForestClassifier(\n",
    "    n_estimators=100,\n",
    "    max_depth=3,\n",
    "    min_samples_leaf=1,\n",
    "    min_samples_split=2,\n",
    "    max_features='sqrt',\n",
    ")\n",
    "forest = train_test(forest, X_train, y_train_1, X_eval, y_eval_1)"
   ]
  },
  {
   "cell_type": "code",
   "execution_count": 74,
   "metadata": {},
   "outputs": [
    {
     "name": "stdout",
     "output_type": "stream",
     "text": [
      "Training set size:  (157576, 3018685)  Evaluation set size:  (39394, 3018685)\n",
      "Metrics on evaluation set: \n",
      "Accuracy:  0.5669137432096258\n",
      "F1 score:  0.2584430825400965\n",
      "Metrics on training set to check overfitting/triviality of model: \n",
      "Accuracy:  0.5688810478753109\n",
      "F1 score:  0.26259687818856786\n",
      "Confusion matrix: \n",
      "[[77546  1714]\n",
      " [66220 12096]]\n"
     ]
    }
   ],
   "source": [
    "forest = RandomForestClassifier(\n",
    "    n_estimators=250,\n",
    "    max_depth=3,\n",
    "    min_samples_leaf=1,\n",
    "    min_samples_split=2,\n",
    "    max_features='sqrt',\n",
    "    n_jobs=-1,\n",
    ")\n",
    "forest = train_test(forest, X_train, y_train_1, X_eval, y_eval_1)"
   ]
  },
  {
   "cell_type": "code",
   "execution_count": 81,
   "metadata": {},
   "outputs": [
    {
     "name": "stdout",
     "output_type": "stream",
     "text": [
      "Training set size:  (157576, 3018685)  Evaluation set size:  (39394, 3018685)\n",
      "Metrics on evaluation set: \n",
      "Accuracy:  0.6033152256688836\n",
      "F1 score:  0.3967573827446439\n",
      "Metrics on training set to check overfitting/triviality of model: \n",
      "Accuracy:  0.6044511854597147\n",
      "F1 score:  0.3986995571934361\n",
      "Confusion matrix: \n",
      "[[18628  1180]\n",
      " [14447  5139]]\n"
     ]
    }
   ],
   "source": [
    "# let's slowly increase complexity\n",
    "forest = RandomForestClassifier(\n",
    "    n_estimators=100,\n",
    "    max_depth=4,\n",
    "    min_samples_leaf=1,\n",
    "    min_samples_split=2,\n",
    "    max_features='sqrt',\n",
    "    n_jobs=-1,\n",
    ")\n",
    "forest = train_test(forest, X_train, y_train_1, X_eval, y_eval_1)"
   ]
  },
  {
   "cell_type": "code",
   "execution_count": 93,
   "metadata": {},
   "outputs": [
    {
     "name": "stdout",
     "output_type": "stream",
     "text": [
      "False positives:  1180\n",
      "False negatives:  14447\n",
      "True pos+True negatives:  23767\n"
     ]
    }
   ],
   "source": [
    "# Notice the confusion matrix:\n",
    "# [[18628  1180]\n",
    "#  [14447  5139]]\n",
    "# plot false positives and false negatives\n",
    "print('False positives: ', y_eval_1[forest.predict(X_eval) > y_eval_1].shape[0])\n",
    "print('False negatives: ', y_eval_1[forest.predict(X_eval) < y_eval_1].shape[0])\n",
    "print('True pos+True negatives: ', y_eval_1[forest.predict(X_eval) == y_eval_1].shape[0])\n",
    "# a lot of false positives, we could manually adjust, but let's just keep track for now\n",
    "\n"
   ]
  },
  {
   "cell_type": "code",
   "execution_count": 94,
   "metadata": {},
   "outputs": [
    {
     "name": "stdout",
     "output_type": "stream",
     "text": [
      "Training set size:  (157576, 3018685)  Evaluation set size:  (39394, 3018685)\n",
      "Metrics on evaluation set: \n",
      "Accuracy:  0.6118190587399096\n",
      "F1 score:  0.42515600330802195\n",
      "Metrics on training set to check overfitting/triviality of model: \n",
      "Accuracy:  0.6124790577245266\n",
      "F1 score:  0.4254530400255923\n",
      "Confusion matrix: \n",
      "[[18447  1361]\n",
      " [13931  5655]]\n"
     ]
    }
   ],
   "source": [
    "\n",
    "forest = RandomForestClassifier(\n",
    "    n_estimators=100,\n",
    "    max_depth=5,\n",
    "    min_samples_leaf=1,\n",
    "    min_samples_split=2,\n",
    "    max_features='sqrt',\n",
    "    n_jobs=-1,\n",
    ")\n",
    "forest = train_test(forest, X_train, y_train_1, X_eval, y_eval_1)"
   ]
  },
  {
   "cell_type": "code",
   "execution_count": 95,
   "metadata": {},
   "outputs": [
    {
     "name": "stdout",
     "output_type": "stream",
     "text": [
      "Training set size:  (157576, 3018685)  Evaluation set size:  (39394, 3018685)\n",
      "Metrics on evaluation set: \n",
      "Accuracy:  0.6416713205056608\n",
      "F1 score:  0.5234622915400715\n",
      "Metrics on training set to check overfitting/triviality of model: \n",
      "Accuracy:  0.646481697720465\n",
      "F1 score:  0.5299785686562379\n",
      "Confusion matrix: \n",
      "[[17525  2283]\n",
      " [11833  7753]]\n"
     ]
    }
   ],
   "source": [
    "# let's slowly increase complexity\n",
    "forest = RandomForestClassifier(\n",
    "    n_estimators=100,\n",
    "    max_depth=6,\n",
    "    min_samples_leaf=1,\n",
    "    min_samples_split=2,\n",
    "    max_features='sqrt',\n",
    "    n_jobs=-1,\n",
    ")\n",
    "forest = train_test(forest, X_train, y_train_1, X_eval, y_eval_1)"
   ]
  },
  {
   "cell_type": "code",
   "execution_count": 96,
   "metadata": {},
   "outputs": [
    {
     "name": "stdout",
     "output_type": "stream",
     "text": [
      "Training set size:  (157576, 3018685)  Evaluation set size:  (39394, 3018685)\n",
      "Metrics on evaluation set: \n",
      "Accuracy:  0.6695435853175611\n",
      "F1 score:  0.5861257709671266\n",
      "Metrics on training set to check overfitting/triviality of model: \n",
      "Accuracy:  0.679672031273798\n",
      "F1 score:  0.5998604791273604\n",
      "Confusion matrix: \n",
      "[[17158  2650]\n",
      " [10368  9218]]\n"
     ]
    }
   ],
   "source": [
    "forest = RandomForestClassifier(\n",
    "    n_estimators=100,\n",
    "    max_depth=10,\n",
    "    min_samples_leaf=1,\n",
    "    min_samples_split=2,\n",
    "    max_features='sqrt',\n",
    "    n_jobs=-1,\n",
    ")\n",
    "forest = train_test(forest, X_train, y_train_1, X_eval, y_eval_1)"
   ]
  },
  {
   "cell_type": "code",
   "execution_count": 97,
   "metadata": {},
   "outputs": [
    {
     "name": "stdout",
     "output_type": "stream",
     "text": [
      "Training set size:  (157576, 100)  Evaluation set size:  (39394, 100)\n",
      "Metrics on evaluation set: \n",
      "Accuracy:  0.6522059196832005\n",
      "F1 score:  0.6838352371062651\n",
      "Metrics on training set to check overfitting/triviality of model: \n",
      "Accuracy:  0.6507716911204752\n",
      "F1 score:  0.6823518546310942\n",
      "Confusion matrix: \n",
      "[[10876  8932]\n",
      " [ 4769 14817]]\n"
     ]
    }
   ],
   "source": [
    "# let's now use the 100 features extracted\n",
    "forest = RandomForestClassifier(\n",
    "    n_estimators=10,\n",
    "    max_depth=3,\n",
    "    min_samples_leaf=1,\n",
    "    min_samples_split=2,\n",
    "    max_features=None,\n",
    "    n_jobs=-1,\n",
    ")\n",
    "forest = train_test(forest, X_train_reduced_100, y_train_1, X_eval_reduced_100, y_eval_1)"
   ]
  },
  {
   "cell_type": "code",
   "execution_count": 98,
   "metadata": {},
   "outputs": [
    {
     "name": "stdout",
     "output_type": "stream",
     "text": [
      "Training set size:  (157576, 100)  Evaluation set size:  (39394, 100)\n",
      "Metrics on evaluation set: \n",
      "Accuracy:  0.6522313042595319\n",
      "F1 score:  0.6840988747463569\n",
      "Metrics on training set to check overfitting/triviality of model: \n",
      "Accuracy:  0.6510763060364523\n",
      "F1 score:  0.6828705572923276\n",
      "Confusion matrix: \n",
      "[[10860  8948]\n",
      " [ 4752 14834]]\n"
     ]
    }
   ],
   "source": [
    "\n",
    "forest = RandomForestClassifier(\n",
    "    n_estimators=100,\n",
    "    max_depth=3,\n",
    "    min_samples_leaf=1,\n",
    "    min_samples_split=2,\n",
    "    max_features=None,\n",
    "    n_jobs=-1,\n",
    ")\n",
    "forest = train_test(forest, X_train_reduced_100, y_train_1, X_eval_reduced_100, y_eval_1)"
   ]
  },
  {
   "cell_type": "code",
   "execution_count": 99,
   "metadata": {},
   "outputs": [
    {
     "name": "stdout",
     "output_type": "stream",
     "text": [
      "Training set size:  (157576, 100)  Evaluation set size:  (39394, 100)\n",
      "Metrics on evaluation set: \n",
      "Accuracy:  0.675026653805148\n",
      "F1 score:  0.708886665453884\n",
      "Metrics on training set to check overfitting/triviality of model: \n",
      "Accuracy:  0.6765941513936132\n",
      "F1 score:  0.7101211028378679\n",
      "Confusion matrix: \n",
      "[[11005  8803]\n",
      " [ 3999 15587]]\n"
     ]
    }
   ],
   "source": [
    "# let's now use the 100 features extracted\n",
    "forest = RandomForestClassifier(\n",
    "    n_estimators=5,\n",
    "    max_depth=5,\n",
    "    min_samples_leaf=1,\n",
    "    min_samples_split=2,\n",
    "    max_features=None,\n",
    "    n_jobs=-1,\n",
    ")\n",
    "forest = train_test(forest, X_train_reduced_100, y_train_1, X_eval_reduced_100, y_eval_1)"
   ]
  },
  {
   "cell_type": "code",
   "execution_count": 100,
   "metadata": {},
   "outputs": [
    {
     "name": "stdout",
     "output_type": "stream",
     "text": [
      "Training set size:  (157576, 100)  Evaluation set size:  (39394, 100)\n",
      "Metrics on evaluation set: \n",
      "Accuracy:  0.7126719805046454\n",
      "F1 score:  0.7293723849372384\n",
      "Metrics on training set to check overfitting/triviality of model: \n",
      "Accuracy:  0.7410773214195056\n",
      "F1 score:  0.7560363075377605\n",
      "Confusion matrix: \n",
      "[[12822  6986]\n",
      " [ 4333 15253]]\n"
     ]
    }
   ],
   "source": [
    "# let's now use the 100 features extracted\n",
    "forest = RandomForestClassifier(\n",
    "    n_estimators=5,\n",
    "    max_depth=10,\n",
    "    min_samples_leaf=1,\n",
    "    min_samples_split=2,\n",
    "    max_features=None,\n",
    "    n_jobs=-1,\n",
    ")\n",
    "forest = train_test(forest, X_train_reduced_100, y_train_1, X_eval_reduced_100, y_eval_1)"
   ]
  },
  {
   "cell_type": "code",
   "execution_count": null,
   "metadata": {},
   "outputs": [],
   "source": [
    "# we are just now starting to overfit a bit, but good!!!"
   ]
  },
  {
   "attachments": {},
   "cell_type": "markdown",
   "metadata": {},
   "source": [
    "## Intermediate results and considerations:\n",
    "\n",
    "Why does this exploration make sense? There are three elements:\n",
    "- We checked that with the vectorized we constructed we are able to fuly fit the data, both with a simple and fast linear SVM, as well as with a more complex and slow random forest\n",
    "- Both the mentioned models not only fit the data, but they overfit it, which means that the vectorizer is able to capture all the information in the data, at this stage this is a good thing\n",
    "- Furthermore we achieve consistenr results between testing, testing on full data, cross validation, simple split AND the final submission on AIcrowd. This means it really does make sense to focus on how to create a more robust model, rather than on how to improve the vectorizer. We can always aggregate less feature and create a more robust model in this stage.\n",
    "- Our job now is thus to focus on the classifier and balance this underfit-overfit situation by tweaking the comnplexity of the classifier, the robustness of the model, the features considered to further create embeddings from the vectorized data."
   ]
  },
  {
   "attachments": {},
   "cell_type": "markdown",
   "metadata": {},
   "source": [
    "Note how testing the linear SVM on the LSA with 100 features, we achieved around 0.71 accuracy and f1 score in BOTH the training data and the test data. This is a baseline to really start comparing the models. We just found the 'equivalent' Random Forest Classifiers which balances speed, complexity and robustness on those 100 features.\n",
    "\n",
    "Note also how the linear SVM in some way could be considered as not being able to estrapolate more information from those 100 features, but now that we are balancing it with an 'equivalent' random forest, we can infer that we are reaching the limit of generalization achievable just by those 100 features estrapolated in this way."
   ]
  },
  {
   "cell_type": "code",
   "execution_count": 101,
   "metadata": {},
   "outputs": [
    {
     "name": "stdout",
     "output_type": "stream",
     "text": [
      "Training set size:  (157576, 100)  Evaluation set size:  (39394, 100)\n",
      "Metrics on evaluation set: \n",
      "Accuracy:  0.7161750520383815\n",
      "F1 score:  0.7277641157994692\n",
      "Metrics on training set to check overfitting/triviality of model: \n",
      "Accuracy:  0.8398106310605676\n",
      "F1 score:  0.8454502038867051\n",
      "Confusion matrix: \n",
      "[[13268  6540]\n",
      " [ 4641 14945]]\n"
     ]
    }
   ],
   "source": [
    "forest = RandomForestClassifier(\n",
    "    n_estimators=5,\n",
    "    max_depth=15,\n",
    "    min_samples_leaf=1,\n",
    "    min_samples_split=2,\n",
    "    max_features=None,\n",
    "    n_jobs=-1,\n",
    ")\n",
    "forest = train_test(forest, X_train_reduced_100, y_train_1, X_eval_reduced_100, y_eval_1)"
   ]
  },
  {
   "cell_type": "code",
   "execution_count": 102,
   "metadata": {},
   "outputs": [
    {
     "name": "stdout",
     "output_type": "stream",
     "text": [
      "Training set size:  (157576, 100)  Evaluation set size:  (39394, 100)\n",
      "Metrics on evaluation set: \n",
      "Accuracy:  0.7219119662892827\n",
      "F1 score:  0.7429188275878252\n",
      "Metrics on training set to check overfitting/triviality of model: \n",
      "Accuracy:  0.7563207595065239\n",
      "F1 score:  0.7744663855181082\n",
      "Confusion matrix: \n",
      "[[12610  7198]\n",
      " [ 3757 15829]]\n"
     ]
    }
   ],
   "source": [
    "# Indeed now starts the overfitting.\n",
    "forest = RandomForestClassifier(\n",
    "    n_estimators=20,\n",
    "    max_depth=10,\n",
    "    min_samples_leaf=1,\n",
    "    min_samples_split=2,\n",
    "    max_features=None,\n",
    "    n_jobs=-1,\n",
    ")\n",
    "forest = train_test(forest, X_train_reduced_100, y_train_1, X_eval_reduced_100, y_eval_1)"
   ]
  },
  {
   "cell_type": "code",
   "execution_count": 103,
   "metadata": {},
   "outputs": [
    {
     "name": "stdout",
     "output_type": "stream",
     "text": [
      "Training set size:  (157576, 100)  Evaluation set size:  (39394, 100)\n",
      "Metrics on evaluation set: \n",
      "Accuracy:  0.7075442960856984\n",
      "F1 score:  0.7371854825832059\n",
      "Metrics on training set to check overfitting/triviality of model: \n",
      "Accuracy:  0.7204269685738945\n",
      "F1 score:  0.7487080029661742\n",
      "Confusion matrix: \n",
      "[[11715  8093]\n",
      " [ 3428 16158]]\n"
     ]
    }
   ],
   "source": [
    "# We are breaking the ceiling of the 0.71 given by the linear SVM and \n",
    "# containing the overfitting by adding trees\n",
    "forest = RandomForestClassifier(\n",
    "    n_estimators=50,\n",
    "    max_depth=8,\n",
    "    min_samples_leaf=1,\n",
    "    min_samples_split=2,\n",
    "    max_features=None,\n",
    "    n_jobs=-1,\n",
    ")\n",
    "#forest = train_test(forest, X_train_reduced_100, y_train_1, X_eval_reduced_100, y_eval_1)\n",
    "\n",
    "#48s\n",
    "# Training set size:  (157576, 100)  Evaluation set size:  (39394, 100)\n",
    "# Metrics on evaluation set: \n",
    "# Accuracy:  0.7075442960856984\n",
    "# F1 score:  0.7371854825832059\n",
    "# Metrics on training set to check overfitting/triviality of model: \n",
    "# Accuracy:  0.7204269685738945\n",
    "# F1 score:  0.7487080029661742\n",
    "# Confusion matrix: \n",
    "# [[11715  8093]\n",
    "#  [ 3428 16158]]"
   ]
  },
  {
   "cell_type": "code",
   "execution_count": 104,
   "metadata": {},
   "outputs": [],
   "source": [
    "svd = TruncatedSVD(n_components=150, n_iter=7)\n",
    "# The next thing is to extract more features from the vectorized data\n",
    "# we are basically concucting our own embeddings starting from tf-idf\n",
    "X_train_reduced_150 = svd.fit_transform(X_train)\n",
    "X_eval_reduced_150 = svd.transform(X_eval)\n",
    "# 1min 50 - we should save a pickle of this on full training set as with the vectorizer"
   ]
  },
  {
   "cell_type": "code",
   "execution_count": 110,
   "metadata": {},
   "outputs": [
    {
     "name": "stdout",
     "output_type": "stream",
     "text": [
      "Explained variance ratios (forst 5)):  [0.0076611  0.00071804 0.00186208 0.00183298 0.00174852]\n",
      "Explained variance (sum):  0.07058262368752319\n",
      "Sing. values (first 5):  [35.01928517 22.4953945  17.60369046 16.97376993 16.63722699]\n"
     ]
    }
   ],
   "source": [
    "print('Explained variance ratios (forst 5)): ', svd.explained_variance_ratio_[:5])\n",
    "print('Explained variance (sum): ', svd.explained_variance_ratio_.sum())\n",
    "print('Sing. values (first 5): ', svd.singular_values_[:5])"
   ]
  },
  {
   "cell_type": "code",
   "execution_count": 112,
   "metadata": {},
   "outputs": [
    {
     "name": "stdout",
     "output_type": "stream",
     "text": [
      "Training set size:  (157576, 150)  Evaluation set size:  (39394, 150)\n",
      "Metrics on evaluation set: \n",
      "Accuracy:  0.7218104279839569\n",
      "F1 score:  0.7432106286758676\n",
      "Metrics on training set to check overfitting/triviality of model: \n",
      "Accuracy:  0.7589353708686603\n",
      "F1 score:  0.7774223034734918\n",
      "Confusion matrix: \n",
      "[[12576  7232]\n",
      " [ 3727 15859]]\n"
     ]
    }
   ],
   "source": [
    "# let's now use the 150 features extracted\n",
    "forest = RandomForestClassifier(\n",
    "    n_estimators=20,\n",
    "    max_depth=10,\n",
    "    min_samples_leaf=1,\n",
    "    min_samples_split=2,\n",
    "    max_features=None,\n",
    "    n_jobs=-1,\n",
    ")\n",
    "forest = train_test(forest, X_train_reduced_150, y_train_1, X_eval_reduced_150, y_eval_1)"
   ]
  },
  {
   "cell_type": "code",
   "execution_count": 113,
   "metadata": {},
   "outputs": [
    {
     "name": "stdout",
     "output_type": "stream",
     "text": [
      "Training set size:  (157576, 150)  Evaluation set size:  (39394, 150)\n",
      "Metrics on evaluation set: \n",
      "Accuracy:  0.7340204091993705\n",
      "F1 score:  0.7332756338458405\n",
      "Metrics on training set to check overfitting/triviality of model: \n",
      "Accuracy:  0.7359305985683099\n",
      "F1 score:  0.7347269238370278\n",
      "Confusion matrix: \n",
      "[[14513  5295]\n",
      " [ 5183 14403]]\n"
     ]
    }
   ],
   "source": [
    "linsvc = LinearSVC()\n",
    "linsvc = train_test(linsvc, X_train_reduced_150, y_train_1, X_eval_reduced_150, y_eval_1)"
   ]
  },
  {
   "cell_type": "code",
   "execution_count": 115,
   "metadata": {},
   "outputs": [
    {
     "name": "stdout",
     "output_type": "stream",
     "text": [
      "Training set size:  (157576, 150)  Evaluation set size:  (39394, 150)\n",
      "Metrics on evaluation set: \n",
      "Accuracy:  0.7419403970147739\n",
      "F1 score:  0.7561408558817886\n",
      "Metrics on training set to check overfitting/triviality of model: \n",
      "Accuracy:  0.8881492105396761\n",
      "F1 score:  0.8930073878019317\n",
      "Confusion matrix: \n",
      "[[13467  6341]\n",
      " [ 3825 15761]]\n"
     ]
    }
   ],
   "source": [
    "# Indeed now starts the overfitting.\n",
    "forest = RandomForestClassifier(\n",
    "    n_estimators=20,\n",
    "    max_depth=15,\n",
    "    min_samples_leaf=1,\n",
    "    min_samples_split=2,\n",
    "    max_features=None,\n",
    "    n_jobs=-1,\n",
    ")\n",
    "#forest = train_test(forest, X_train_reduced_150, y_train_1, X_eval_reduced_150, y_eval_1)\n",
    "\n",
    "# 55s\n",
    "# Training set size:  (157576, 150)  Evaluation set size:  (39394, 150)\n",
    "# Metrics on evaluation set: \n",
    "# Accuracy:  0.7419403970147739\n",
    "# F1 score:  0.7561408558817886\n",
    "# Metrics on training set to check overfitting/triviality of model: \n",
    "# Accuracy:  0.8881492105396761\n",
    "# F1 score:  0.8930073878019317\n",
    "# Confusion matrix: \n",
    "# [[13467  6341]\n",
    "#  [ 3825 15761]]"
   ]
  },
  {
   "cell_type": "code",
   "execution_count": 116,
   "metadata": {},
   "outputs": [
    {
     "name": "stdout",
     "output_type": "stream",
     "text": [
      "Training set size:  (157576, 150)  Evaluation set size:  (39394, 150)\n",
      "Metrics on evaluation set: \n",
      "Accuracy:  0.6492359242524243\n",
      "F1 score:  0.6656665860150012\n",
      "Metrics on training set to check overfitting/triviality of model: \n",
      "Accuracy:  0.6468053510686906\n",
      "F1 score:  0.6635065932272048\n",
      "Confusion matrix: \n",
      "[[11820  7988]\n",
      " [ 5830 13756]]\n"
     ]
    }
   ],
   "source": [
    "# Let's prepareo a single lil_tree so we can boost it with AdaBoost\n",
    "lil_tree = DecisionTreeClassifier(\n",
    "    max_depth=3,\n",
    "    min_samples_leaf=1,\n",
    "    min_samples_split=2,\n",
    "    max_features=None,\n",
    ")\n",
    "lil_tree = train_test(lil_tree, X_train_reduced_150, y_train_1, X_eval_reduced_150, y_eval_1)"
   ]
  },
  {
   "cell_type": "code",
   "execution_count": 117,
   "metadata": {},
   "outputs": [
    {
     "name": "stdout",
     "output_type": "stream",
     "text": [
      "Training set size:  (157576, 150)  Evaluation set size:  (39394, 150)\n",
      "Metrics on evaluation set: \n",
      "Accuracy:  0.697822003350764\n",
      "F1 score:  0.7058271141204961\n",
      "Metrics on training set to check overfitting/triviality of model: \n",
      "Accuracy:  0.8165837437173173\n",
      "F1 score:  0.8211709091809081\n",
      "Confusion matrix: \n",
      "[[13209  6599]\n",
      " [ 5305 14281]]\n"
     ]
    }
   ],
   "source": [
    "lil_tree = DecisionTreeClassifier(\n",
    "    max_depth=15,\n",
    "    min_samples_leaf=1,\n",
    "    min_samples_split=2,\n",
    "    max_features=None,\n",
    ")\n",
    "lil_tree = train_test(lil_tree, X_train_reduced_150, y_train_1, X_eval_reduced_150, y_eval_1)"
   ]
  },
  {
   "cell_type": "code",
   "execution_count": 119,
   "metadata": {},
   "outputs": [
    {
     "name": "stdout",
     "output_type": "stream",
     "text": [
      "Training set size:  (157576, 150)  Evaluation set size:  (39394, 150)\n",
      "Metrics on evaluation set: \n",
      "Accuracy:  0.7319134893638625\n",
      "F1 score:  0.7372689504191856\n",
      "Metrics on training set to check overfitting/triviality of model: \n",
      "Accuracy:  0.7448596232928872\n",
      "F1 score:  0.7500186534683017\n",
      "Confusion matrix: \n",
      "[[14015  5793]\n",
      " [ 4768 14818]]\n"
     ]
    }
   ],
   "source": [
    "lil_tree = DecisionTreeClassifier(\n",
    "    max_depth=3,\n",
    "    min_samples_leaf=1,\n",
    "    min_samples_split=2,\n",
    "    max_features=None,\n",
    ")\n",
    "from sklearn.ensemble import AdaBoostClassifier\n",
    "ada = AdaBoostClassifier(\n",
    "    base_estimator=lil_tree,\n",
    "    n_estimators=50,\n",
    "    learning_rate=1,\n",
    ")\n",
    "ada = train_test(ada, X_train_reduced_150, y_train_1, X_eval_reduced_150, y_eval_1)\n",
    "# 6min\n",
    "# Training set size:  (157576, 150)  Evaluation set size:  (39394, 150)\n",
    "# Metrics on evaluation set: \n",
    "# Accuracy:  0.7319134893638625\n",
    "# F1 score:  0.7372689504191856\n",
    "# Metrics on training set to check overfitting/triviality of model: \n",
    "# Accuracy:  0.7448596232928872\n",
    "# F1 score:  0.7500186534683017\n",
    "# Confusion matrix: \n",
    "# [[14015  5793]\n",
    "#  [ 4768 14818]]"
   ]
  },
  {
   "attachments": {},
   "cell_type": "markdown",
   "metadata": {},
   "source": [
    "Good, basically the booster on lil tree takes care of overfitting by itself\n",
    "Sad thing is that it takes a lot to train. Those lil trees are not so lil after all and we need quite a lot.\n",
    "\n",
    "But we are using 150 out of the 8digit features created by the vectorizer, so we are not using all the information we have, which is good again. Overall we are rasing both fit on training data and generalization on test data, so it's good! We'll eventually end up with a humongous model to train, but if we do things well it's going to be a push of a button and long waiting time to achieve a good overall result on proper test data."
   ]
  },
  {
   "cell_type": "code",
   "execution_count": 121,
   "metadata": {},
   "outputs": [
    {
     "name": "stdout",
     "output_type": "stream",
     "text": [
      "[0.03750754 0.0281629  0.01536721 0.03906892 0.0053965  0.00462947\n",
      " 0.02423567 0.03450422 0.00306846 0.         0.0272529  0.01001098\n",
      " 0.00217482 0.00069135 0.00636594 0.0179666  0.0066912  0.00464206\n",
      " 0.0040966  0.00250486 0.         0.0033419  0.00814181 0.00434676\n",
      " 0.00014392 0.00559326 0.01037734 0.         0.00740638 0.00273033\n",
      " 0.00381755 0.00777533 0.00687671 0.         0.00339093 0.00898268\n",
      " 0.02715542 0.00648634 0.00214753 0.01110418 0.00459952 0.00900957\n",
      " 0.00590499 0.00685532 0.00172136 0.         0.00682595 0.01337474\n",
      " 0.         0.00791356 0.03415459 0.00563066 0.01863418 0.\n",
      " 0.         0.00286973 0.00264955 0.01585366 0.00826644 0.00225048\n",
      " 0.00638879 0.01130285 0.00304377 0.00302348 0.01149611 0.00512673\n",
      " 0.00401415 0.00251516 0.00266521 0.00266937 0.00116682 0.00075801\n",
      " 0.00237457 0.         0.00402122 0.0033831  0.0139194  0.\n",
      " 0.0020759  0.0043871  0.01114661 0.00494147 0.00397817 0.\n",
      " 0.0034373  0.00476255 0.00328226 0.00436676 0.00271315 0.00346043\n",
      " 0.00418427 0.00345122 0.00244235 0.00240978 0.01127999 0.01027473\n",
      " 0.01047596 0.00326264 0.00560274 0.00521087 0.00545436 0.\n",
      " 0.01259074 0.00188169 0.00956108 0.         0.         0.\n",
      " 0.00381342 0.01506656 0.00892065 0.         0.00456254 0.\n",
      " 0.00933309 0.00932496 0.00340481 0.         0.         0.01218063\n",
      " 0.         0.01042027 0.         0.0016996  0.00385913 0.00769173\n",
      " 0.0037122  0.00169877 0.00421332 0.01958505 0.00224336 0.\n",
      " 0.00945711 0.00277764 0.00904563 0.00725688 0.01008816 0.\n",
      " 0.         0.00350252 0.         0.00706865 0.00411943 0.00650418\n",
      " 0.0119531  0.01455595 0.01410991 0.0049927  0.00484965 0.01281472]\n",
      "1.0\n",
      "(150,)\n"
     ]
    }
   ],
   "source": [
    "# we need to improve the handling of the data inside each lil tree. pick them at random or something\n",
    "print(ada.feature_importances_)\n",
    "print(ada.feature_importances_.sum())\n",
    "print(ada.feature_importances_.shape)"
   ]
  },
  {
   "cell_type": "code",
   "execution_count": 123,
   "metadata": {},
   "outputs": [
    {
     "data": {
      "text/plain": [
       "(150,)"
      ]
     },
     "execution_count": 123,
     "metadata": {},
     "output_type": "execute_result"
    }
   ],
   "source": [
    "# let's do the same for forest\n",
    "forest.feature_importances_.shape\n",
    "# we can take 'sqrt' or 'log' of the number of features at every split but using full features, \n",
    "# need to sort them and take the top 150"
   ]
  },
  {
   "cell_type": "code",
   "execution_count": 124,
   "metadata": {},
   "outputs": [
    {
     "name": "stdout",
     "output_type": "stream",
     "text": [
      "Training set size:  (157576, 150)  Evaluation set size:  (39394, 150)\n",
      "Metrics on evaluation set: \n",
      "Accuracy:  0.7518911509366909\n",
      "F1 score:  0.7672192054872821\n",
      "Metrics on training set to check overfitting/triviality of model: \n",
      "Accuracy:  0.8471658120525969\n",
      "F1 score:  0.8550413213191523\n",
      "Confusion matrix: \n",
      "[[13513  6295]\n",
      " [ 3479 16107]]\n"
     ]
    }
   ],
   "source": [
    "# warm start and bootstrap\n",
    "forest = RandomForestClassifier(\n",
    "    n_estimators=200,\n",
    "    max_depth=15,\n",
    "    min_samples_leaf=1,\n",
    "    min_samples_split=2,\n",
    "    max_features=None,\n",
    "    n_jobs=-1,\n",
    "    bootstrap=True,\n",
    "    warm_start=True,\n",
    "    max_samples=0.2,\n",
    ")\n",
    "forest = train_test(forest, X_train_reduced_150, y_train_1, X_eval_reduced_150, y_eval_1)\n",
    "# 1min 50\n",
    "# Training set size:  (157576, 150)  Evaluation set size:  (39394, 150)\n",
    "# Metrics on evaluation set: \n",
    "# Accuracy:  0.7518911509366909\n",
    "# F1 score:  0.7672192054872821\n",
    "# Metrics on training set to check overfitting/triviality of model: \n",
    "# Accuracy:  0.8471658120525969\n",
    "# F1 score:  0.8550413213191523\n",
    "# Confusion matrix: \n",
    "# [[13513  6295]\n",
    "#  [ 3479 16107]]\n"
   ]
  },
  {
   "cell_type": "code",
   "execution_count": 126,
   "metadata": {},
   "outputs": [
    {
     "name": "stdout",
     "output_type": "stream",
     "text": [
      "Training set size:  (157576, 150)  Evaluation set size:  (39394, 150)\n",
      "Metrics on evaluation set: \n",
      "Accuracy:  0.7514342285627252\n",
      "F1 score:  0.7669681104236077\n",
      "Metrics on training set to check overfitting/triviality of model: \n",
      "Accuracy:  0.8473879270954968\n",
      "F1 score:  0.8552859618717504\n",
      "Confusion matrix: \n",
      "[[13488  6320]\n",
      " [ 3472 16114]]\n"
     ]
    }
   ],
   "source": [
    "forest.n_estimators = 250\n",
    "forest = train_test(forest, X_train_reduced_150, y_train_1, X_eval_reduced_150, y_eval_1)\n",
    "# Warm-start fitting without increasing n_estimators does not fit new trees."
   ]
  },
  {
   "cell_type": "code",
   "execution_count": 127,
   "metadata": {},
   "outputs": [
    {
     "name": "stdout",
     "output_type": "stream",
     "text": [
      "Training set size:  (157576, 150)  Evaluation set size:  (39394, 150)\n",
      "Metrics on evaluation set: \n",
      "Accuracy:  0.7547849926384729\n",
      "F1 score:  0.7715880071881207\n",
      "Metrics on training set to check overfitting/triviality of model: \n",
      "Accuracy:  0.8496344621008275\n",
      "F1 score:  0.8581265568116497\n",
      "Confusion matrix: \n",
      "[[13418  6390]\n",
      " [ 3270 16316]]\n"
     ]
    }
   ],
   "source": [
    "forest.n_estimators = 500\n",
    "forest.max_samples = 0.2\n",
    "forest.max_features = 'sqrt'\n",
    "forest = train_test(forest, X_train_reduced_150, y_train_1, X_eval_reduced_150, y_eval_1)"
   ]
  },
  {
   "cell_type": "code",
   "execution_count": 128,
   "metadata": {},
   "outputs": [
    {
     "name": "stdout",
     "output_type": "stream",
     "text": [
      "Training set size:  (157576, 3018685)  Evaluation set size:  (39394, 3018685)\n",
      "Metrics on evaluation set: \n",
      "Accuracy:  0.5220591968320049\n",
      "F1 score:  0.09175108538350217\n",
      "Metrics on training set to check overfitting/triviality of model: \n",
      "Accuracy:  0.5211961212367365\n",
      "F1 score:  0.09087841908663695\n",
      "Confusion matrix: \n",
      "[[19615   193]\n",
      " [18635   951]]\n"
     ]
    }
   ],
   "source": [
    "# what if we try on full data with lots of very shallow ones now?\n",
    "forest_full = RandomForestClassifier(\n",
    "    n_estimators=10,\n",
    "    max_depth=3,\n",
    "    min_samples_leaf=1,\n",
    "    min_samples_split=2,\n",
    "    max_features='sqrt',\n",
    "    n_jobs=-1,\n",
    "    bootstrap=True,\n",
    "    warm_start=True,\n",
    "    max_samples=0.2,\n",
    ")\n",
    "forest_full = train_test(forest_full, X_train, y_train_1, X_eval, y_eval_1)"
   ]
  },
  {
   "cell_type": "code",
   "execution_count": 130,
   "metadata": {},
   "outputs": [
    {
     "name": "stdout",
     "output_type": "stream",
     "text": [
      "Training set size:  (157576, 3018685)  Evaluation set size:  (39394, 3018685)\n",
      "Metrics on evaluation set: \n",
      "Accuracy:  0.5817383357871757\n",
      "F1 score:  0.3259010759726711\n",
      "Metrics on training set to check overfitting/triviality of model: \n",
      "Accuracy:  0.5834454485454638\n",
      "F1 score:  0.3311084163006593\n",
      "Confusion matrix: \n",
      "[[18934   874]\n",
      " [15603  3983]]\n"
     ]
    }
   ],
   "source": [
    "forest_full.n_estimators = 100\n",
    "forest_full = train_test(forest_full, X_train, y_train_1, X_eval, y_eval_1)"
   ]
  },
  {
   "cell_type": "code",
   "execution_count": 131,
   "metadata": {},
   "outputs": [
    {
     "name": "stdout",
     "output_type": "stream",
     "text": [
      "Training set size:  (157576, 3018685)  Evaluation set size:  (39394, 3018685)\n",
      "Metrics on evaluation set: \n",
      "Accuracy:  0.5628522109965984\n",
      "F1 score:  0.23151412378954886\n",
      "Metrics on training set to check overfitting/triviality of model: \n",
      "Accuracy:  0.5639881707874296\n",
      "F1 score:  0.23449320898931486\n",
      "Confusion matrix: \n",
      "[[19579   229]\n",
      " [16992  2594]]\n"
     ]
    }
   ],
   "source": [
    "forest_full.n_estimators = 500\n",
    "forest_full = train_test(forest_full, X_train, y_train_1, X_eval, y_eval_1)"
   ]
  },
  {
   "cell_type": "code",
   "execution_count": 135,
   "metadata": {},
   "outputs": [
    {
     "name": "stdout",
     "output_type": "stream",
     "text": [
      "Training set size:  (157576, 3018685)  Evaluation set size:  (39394, 3018685)\n",
      "Metrics on evaluation set: \n",
      "Accuracy:  0.6441082398334772\n",
      "F1 score:  0.5218607189141259\n",
      "Metrics on training set to check overfitting/triviality of model: \n",
      "Accuracy:  0.6496611159059755\n",
      "F1 score:  0.5309087819178314\n",
      "Confusion matrix: \n",
      "[[17723  2085]\n",
      " [11935  7651]]\n"
     ]
    }
   ],
   "source": [
    "forest_full = RandomForestClassifier(\n",
    "    n_estimators=100,\n",
    "    max_depth=8,\n",
    "    min_samples_leaf=1,\n",
    "    min_samples_split=2,\n",
    "    max_features='sqrt',\n",
    "    n_jobs=-1,\n",
    "    bootstrap=True,\n",
    "    warm_start=True,\n",
    "    max_samples=0.2,\n",
    ")\n",
    "forest_full = train_test(forest_full, X_train, y_train_1, X_eval, y_eval_1)"
   ]
  },
  {
   "cell_type": "code",
   "execution_count": 136,
   "metadata": {},
   "outputs": [
    {
     "name": "stdout",
     "output_type": "stream",
     "text": [
      "Training set size:  (157576, 3018685)  Evaluation set size:  (39394, 3018685)\n",
      "Metrics on evaluation set: \n",
      "Accuracy:  0.707950449307001\n",
      "F1 score:  0.7001485574291746\n",
      "Metrics on training set to check overfitting/triviality of model: \n",
      "Accuracy:  0.7194687008173833\n",
      "F1 score:  0.7113821403621026\n",
      "Confusion matrix: \n",
      "[[14457  5351]\n",
      " [ 6154 13432]]\n"
     ]
    }
   ],
   "source": [
    "forest_full = RandomForestClassifier(\n",
    "    n_estimators=100,\n",
    "    max_depth=15,\n",
    "    min_samples_leaf=1,\n",
    "    min_samples_split=2,\n",
    "    max_features='sqrt',\n",
    "    n_jobs=-1,\n",
    "    bootstrap=True,\n",
    "    warm_start=True,\n",
    "    max_samples=0.2,\n",
    ")\n",
    "forest_full = train_test(forest_full, X_train, y_train_1, X_eval, y_eval_1)"
   ]
  },
  {
   "cell_type": "code",
   "execution_count": 138,
   "metadata": {},
   "outputs": [
    {
     "name": "stdout",
     "output_type": "stream",
     "text": [
      "Training set size:  (157576, 3018685)  Evaluation set size:  (39394, 3018685)\n",
      "Metrics on evaluation set: \n",
      "Accuracy:  0.6644412854749454\n",
      "F1 score:  0.5783547574240057\n",
      "Metrics on training set to check overfitting/triviality of model: \n",
      "Accuracy:  0.6696958927755495\n",
      "F1 score:  0.5818631704103602\n",
      "Confusion matrix: \n",
      "[[17109  2699]\n",
      " [10520  9066]]\n"
     ]
    }
   ],
   "source": [
    "forest_full = RandomForestClassifier(\n",
    "    n_estimators=100,\n",
    "    max_depth=8,\n",
    "    min_samples_leaf=1,\n",
    "    min_samples_split=2,\n",
    "    max_features='sqrt',\n",
    "    n_jobs=-1,\n",
    "    bootstrap=True,\n",
    "    warm_start=False,\n",
    "    max_samples=0.5,\n",
    ")\n",
    "forest_full = train_test(forest_full, X_train, y_train_1, X_eval, y_eval_1)"
   ]
  },
  {
   "cell_type": "code",
   "execution_count": 139,
   "metadata": {},
   "outputs": [
    {
     "name": "stdout",
     "output_type": "stream",
     "text": [
      "Training set size:  (157576, 3018685)  Evaluation set size:  (39394, 3018685)\n",
      "Metrics on evaluation set: \n",
      "Accuracy:  0.7119104432147028\n",
      "F1 score:  0.6884282772820866\n",
      "Metrics on training set to check overfitting/triviality of model: \n",
      "Accuracy:  0.7204650454383916\n",
      "F1 score:  0.6974101806690939\n",
      "Confusion matrix: \n",
      "[[15507  4301]\n",
      " [ 7048 12538]]\n"
     ]
    }
   ],
   "source": [
    "forest_full = RandomForestClassifier(\n",
    "    n_estimators=100,\n",
    "    max_depth=15,\n",
    "    min_samples_leaf=1,\n",
    "    min_samples_split=2,\n",
    "    max_features='sqrt',\n",
    "    n_jobs=-1,\n",
    "    bootstrap=True,\n",
    "    warm_start=False,\n",
    "    max_samples=0.5,\n",
    ")\n",
    "forest_full = train_test(forest_full, X_train, y_train_1, X_eval, y_eval_1)"
   ]
  },
  {
   "cell_type": "code",
   "execution_count": 140,
   "metadata": {},
   "outputs": [
    {
     "name": "stdout",
     "output_type": "stream",
     "text": [
      "Training set size:  (157576, 3018685)  Evaluation set size:  (39394, 3018685)\n",
      "Metrics on evaluation set: \n",
      "Accuracy:  0.725491191552013\n",
      "F1 score:  0.7321145461751883\n",
      "Metrics on training set to check overfitting/triviality of model: \n",
      "Accuracy:  0.7385515560745292\n",
      "F1 score:  0.7436660029865605\n",
      "Confusion matrix: \n",
      "[[13803  6005]\n",
      " [ 4809 14777]]\n"
     ]
    }
   ],
   "source": [
    "forest_full = RandomForestClassifier(\n",
    "    n_estimators=100,\n",
    "    max_depth=20,\n",
    "    min_samples_leaf=1,\n",
    "    min_samples_split=2,\n",
    "    max_features='sqrt',\n",
    "    n_jobs=-1,\n",
    "    bootstrap=True,\n",
    "    warm_start=False,\n",
    "    max_samples=0.5,\n",
    ")\n",
    "forest_full = train_test(forest_full, X_train, y_train_1, X_eval, y_eval_1)"
   ]
  },
  {
   "cell_type": "code",
   "execution_count": 141,
   "metadata": {},
   "outputs": [
    {
     "name": "stdout",
     "output_type": "stream",
     "text": [
      "Training set size:  (157576, 3018685)  Evaluation set size:  (39394, 3018685)\n",
      "Metrics on evaluation set: \n",
      "Accuracy:  0.7270650352845611\n",
      "F1 score:  0.7138142134681927\n",
      "Metrics on training set to check overfitting/triviality of model: \n",
      "Accuracy:  0.7421307813372595\n",
      "F1 score:  0.7291752755968489\n",
      "Confusion matrix: \n",
      "[[15233  4575]\n",
      " [ 6177 13409]]\n"
     ]
    }
   ],
   "source": [
    "forest_full = RandomForestClassifier(\n",
    "    n_estimators=100,\n",
    "    max_depth=20,\n",
    "    min_samples_leaf=1,\n",
    "    min_samples_split=2,\n",
    "    max_features='sqrt',\n",
    "    n_jobs=-1,\n",
    "    bootstrap=True,\n",
    "    warm_start=False,\n",
    "    max_samples=0.8,\n",
    ")\n",
    "forest_full = train_test(forest_full, X_train, y_train_1, X_eval, y_eval_1)"
   ]
  },
  {
   "cell_type": "code",
   "execution_count": 144,
   "metadata": {},
   "outputs": [
    {
     "name": "stdout",
     "output_type": "stream",
     "text": [
      "Training set size:  (157576, 3018685)  Evaluation set size:  (39394, 3018685)\n",
      "Metrics on evaluation set: \n",
      "Accuracy:  0.7212011981520029\n",
      "F1 score:  0.7030578311298564\n",
      "Metrics on training set to check overfitting/triviality of model: \n",
      "Accuracy:  0.7369586739097325\n",
      "F1 score:  0.7194672117278395\n",
      "Confusion matrix: \n",
      "[[15409  4399]\n",
      " [ 6584 13002]]\n"
     ]
    }
   ],
   "source": [
    "forest_full = RandomForestClassifier(\n",
    "    n_estimators=100,\n",
    "    max_depth=20,\n",
    "    min_samples_leaf=1,\n",
    "    min_samples_split=2,\n",
    "    max_features='sqrt',\n",
    "    n_jobs=-1,\n",
    "    bootstrap=False,\n",
    "    warm_start=False,\n",
    "    max_samples=None,\n",
    ")\n",
    "forest_full = train_test(forest_full, X_train, y_train_1, X_eval, y_eval_1)"
   ]
  },
  {
   "cell_type": "code",
   "execution_count": 145,
   "metadata": {},
   "outputs": [
    {
     "name": "stdout",
     "output_type": "stream",
     "text": [
      "Training set size:  (157576, 3018685)  Evaluation set size:  (39394, 3018685)\n",
      "Metrics on evaluation set: \n",
      "Accuracy:  0.8346956389297863\n",
      "F1 score:  0.8363983519244297\n",
      "Metrics on training set to check overfitting/triviality of model: \n",
      "Accuracy:  0.997106158298218\n",
      "F1 score:  0.997089943713385\n",
      "Confusion matrix: \n",
      "[[16236  3572]\n",
      " [ 2940 16646]]\n"
     ]
    }
   ],
   "source": [
    "linsvc = LinearSVC()\n",
    "linsvc = train_test(linsvc, X_train, y_train_1, X_eval, y_eval_1)"
   ]
  },
  {
   "cell_type": "code",
   "execution_count": 146,
   "metadata": {},
   "outputs": [
    {
     "name": "stdout",
     "output_type": "stream",
     "text": [
      "Training set size:  (157576, 3018685)  Evaluation set size:  (39394, 3018685)\n",
      "Metrics on evaluation set: \n",
      "Accuracy:  0.6955881606335991\n",
      "F1 score:  0.6183565654636878\n",
      "Metrics on training set to check overfitting/triviality of model: \n",
      "Accuracy:  0.7016043052241459\n",
      "F1 score:  0.6259764226736879\n",
      "Confusion matrix: \n",
      "[[17687  2121]\n",
      " [ 9871  9715]]\n"
     ]
    }
   ],
   "source": [
    "forest_full = RandomForestClassifier(\n",
    "    n_estimators=1000,\n",
    "    max_depth=8,\n",
    "    min_samples_leaf=1,\n",
    "    min_samples_split=2,\n",
    "    max_features='sqrt',\n",
    "    n_jobs=-1,\n",
    "    bootstrap=True,\n",
    "    warm_start=False,\n",
    "    max_samples=0.5,\n",
    ")\n",
    "forest_full = train_test(forest_full, X_train, y_train_1, X_eval, y_eval_1)"
   ]
  },
  {
   "cell_type": "code",
   "execution_count": 147,
   "metadata": {},
   "outputs": [
    {
     "name": "stdout",
     "output_type": "stream",
     "text": [
      "Training set size:  (157576, 3018685)  Evaluation set size:  (39394, 3018685)\n",
      "Metrics on evaluation set: \n",
      "Accuracy:  0.6318474894654008\n",
      "F1 score:  0.45253104828054813\n",
      "Metrics on training set to check overfitting/triviality of model: \n",
      "Accuracy:  0.636442097781388\n",
      "F1 score:  0.4602498633854039\n",
      "Confusion matrix: \n",
      "[[18897   911]\n",
      " [13592  5994]]\n"
     ]
    }
   ],
   "source": [
    "forest_full = RandomForestClassifier(\n",
    "    n_estimators=2000,\n",
    "    max_depth=5,\n",
    "    min_samples_leaf=1,\n",
    "    min_samples_split=2,\n",
    "    max_features='sqrt',\n",
    "    n_jobs=-1,\n",
    "    bootstrap=False,\n",
    "    warm_start=False,\n",
    "    max_samples=None,\n",
    ")\n",
    "forest_full = train_test(forest_full, X_train, y_train_1, X_eval, y_eval_1)"
   ]
  },
  {
   "cell_type": "code",
   "execution_count": 149,
   "metadata": {},
   "outputs": [
    {
     "name": "stdout",
     "output_type": "stream",
     "text": [
      "Training set size:  (157576, 3018685)  Evaluation set size:  (39394, 3018685)\n",
      "Metrics on evaluation set: \n",
      "Accuracy:  0.7091689089709092\n",
      "F1 score:  0.7078562868143917\n",
      "Metrics on training set to check overfitting/triviality of model: \n",
      "Accuracy:  0.9994478854647916\n",
      "F1 score:  0.9994445260274671\n",
      "Confusion matrix: \n",
      "[[14057  5751]\n",
      " [ 5706 13880]]\n"
     ]
    }
   ],
   "source": [
    "lil_tree = DecisionTreeClassifier(\n",
    "    max_depth=None,\n",
    "    min_samples_leaf=1,\n",
    "    min_samples_split=2,\n",
    "    max_features='sqrt',\n",
    "    splitter='random',\n",
    ")\n",
    "lil_tree = train_test(lil_tree, X_train, y_train_1, X_eval, y_eval_1)"
   ]
  },
  {
   "cell_type": "code",
   "execution_count": 152,
   "metadata": {},
   "outputs": [
    {
     "name": "stdout",
     "output_type": "stream",
     "text": [
      "DecisionTreeClassifier(splitter='random')\n",
      "0.7572726811189521\n",
      "Accuracy:  0.7572726811189521\n",
      "F1 score:  0.7580343134774026\n"
     ]
    },
    {
     "data": {
      "text/plain": [
       "array([-1,  1, -1, ...,  1,  1,  1])"
      ]
     },
     "execution_count": 152,
     "metadata": {},
     "output_type": "execute_result"
    }
   ],
   "source": [
    "# ada boost starting from the overfit tree \n",
    "# big_tree from pickle load\n",
    "with open('data/out/trained/big_overfit_tree_cut_data_tfidf_vec.pkl', 'rb') as f:\n",
    "    big_tree = pickle.load(f)\n",
    "print(big_tree)\n",
    "print(big_tree.score(X_eval, y_eval_1))\n",
    "test(big_tree, X_eval, y_eval_1)\n"
   ]
  },
  {
   "cell_type": "code",
   "execution_count": 153,
   "metadata": {},
   "outputs": [],
   "source": [
    "ada = AdaBoostClassifier(\n",
    "    base_estimator=None,\n",
    "    n_estimators=50,\n",
    "    learning_rate=1,\n",
    ")\n",
    "#ada = train_test(ada, X_train, y_train_1, X_eval, y_eval_1)\n",
    "# didn't finish after 96min... bah"
   ]
  },
  {
   "cell_type": "code",
   "execution_count": null,
   "metadata": {},
   "outputs": [],
   "source": []
  }
 ],
 "metadata": {
  "kernelspec": {
   "display_name": "Python 3.10.8 ('ml')",
   "language": "python",
   "name": "python3"
  },
  "language_info": {
   "codemirror_mode": {
    "name": "ipython",
    "version": 3
   },
   "file_extension": ".py",
   "mimetype": "text/x-python",
   "name": "python",
   "nbconvert_exporter": "python",
   "pygments_lexer": "ipython3",
   "version": "3.10.8 (main, Nov 24 2022, 08:08:27) [Clang 14.0.6 ]"
  },
  "orig_nbformat": 4,
  "vscode": {
   "interpreter": {
    "hash": "66c927aa12d5ce5f7072c92979fe584a1fce73005a0de16af9e5cbcd0d6c1397"
   }
  }
 },
 "nbformat": 4,
 "nbformat_minor": 2
}
