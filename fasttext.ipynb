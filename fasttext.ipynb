{
 "cells": [
  {
   "cell_type": "markdown",
   "id": "7cf4e94e",
   "metadata": {},
   "source": [
    "## FAST-TEXT"
   ]
  },
  {
   "cell_type": "code",
   "execution_count": null,
   "id": "da205b69",
   "metadata": {},
   "outputs": [],
   "source": [
    "from fasttext import train_supervised \n",
    "import pandas as pd\n",
    "import csv\n",
    "import numpy as np\n",
    "import re\n",
    "from nltk.tokenize import word_tokenize\n",
    "from nltk.corpus import stopwords\n",
    "from nltk.stem import PorterStemmer\n",
    "from nltk.stem import WordNetLemmatizer\n",
    "from sklearn.linear_model import LogisticRegression\n",
    "import string\n",
    "from nltk.tokenize import word_tokenize\n",
    "from nltk.corpus import stopwords\n",
    "from nltk.stem import PorterStemmer"
   ]
  },
  {
   "cell_type": "code",
   "execution_count": null,
   "id": "5e9bbaa6",
   "metadata": {},
   "outputs": [],
   "source": [
    "df_train_neg = pd.read_csv(\"data/twitter-datasets/train_neg.txt\", delimiter=\"\\t\", header=None, names = ['tweets'], error_bad_lines=False)\n",
    "df_train_pos = pd.read_csv(\"data/twitter-datasets/train_pos.txt\", delimiter=\"\\t\", header=None, names = ['tweets'], error_bad_lines=False)\n",
    "df_train_neg[\"label\"] = \"__label__0\" # Need the __class__ prefix for fast-text model specs\n",
    "df_train_pos[\"label\"] = \"__label__1\"\n",
    "df_train = pd.concat([df_train_pos,df_train_neg])\n",
    "df_train"
   ]
  },
  {
   "cell_type": "code",
   "execution_count": null,
   "id": "0497a8e6",
   "metadata": {},
   "outputs": [],
   "source": [
    "df_test = pd.read_csv(\"data/twitter-datasets/test_data.txt\", delimiter=\"\\t\", header=None, names = ['tweets'], error_bad_lines=False)\n",
    "#df_test[\"tweets\"] = df_test[\"tweets\"].apply(lambda row: row.split(\",\",2)[1])"
   ]
  },
  {
   "cell_type": "code",
   "execution_count": null,
   "id": "263036f7",
   "metadata": {
    "scrolled": true
   },
   "outputs": [],
   "source": [
    "df_test"
   ]
  },
  {
   "cell_type": "code",
   "execution_count": null,
   "id": "99a876b9",
   "metadata": {},
   "outputs": [],
   "source": [
    "def remove_tags(df):\n",
    "    df_cleaned = df.copy()\n",
    "    df_cleaned['tweets'] = df_cleaned['tweets'].apply(lambda tweet: re.sub(r'<.*?>', '', tweet).strip())\n",
    "    return df_cleaned\n",
    "\n",
    "def tokenize_and_preprocess(df, stop_words = False, stemming = False, lemmatization = False):\n",
    "    df_cleaned = df.copy()\n",
    "    df_cleaned['tokens'] = df_cleaned['tweets'].apply(lambda tweet: word_tokenize(tweet))\n",
    "    # remove stop words\n",
    "    if stop_words:\n",
    "        stop_words = stopwords.words('english')\n",
    "        df_cleaned['tokens'] = df_cleaned['tokens'].apply(lambda tokens: [token for token in tokens if token.lower() not in stop_words])\n",
    "    # stemming\n",
    "    if stemming:\n",
    "        ps = PorterStemmer()\n",
    "        df_cleaned['tokens'] = df_cleaned['tokens'].apply(lambda tokens: [ps.stem(token) for token in tokens])\n",
    "    # lemmatization\n",
    "    if lemmatization:\n",
    "        wordnet_lemmatizer = WordNetLemmatizer()\n",
    "        df_cleaned['tokens'] = df_cleaned['tokens'].apply(lambda tokens: [wordnet_lemmatizer.lemmatize(token) for token in tokens])\n",
    "    # remove the tweets columns\n",
    "    df_cleaned.drop(['tweets'], axis=1, inplace=True)\n",
    "    df_cleaned = df_cleaned.reindex(columns=['tokens', 'label'])\n",
    "    #df_cleaned[\"tweets\"] = df_cleaned[\"tokens\"].apply(lambda tokens: \" \".join(tokens))\n",
    "    return df_cleaned"
   ]
  },
  {
   "cell_type": "code",
   "execution_count": null,
   "id": "4477570f",
   "metadata": {},
   "outputs": [],
   "source": [
    "#df_train = tokenize_and_preprocess(remove_tags(df_train),stop_words=True,stemming=True,lemmatization=True)"
   ]
  },
  {
   "cell_type": "code",
   "execution_count": null,
   "id": "175d7cca",
   "metadata": {},
   "outputs": [],
   "source": [
    "df_train = remove_tags(df_train)"
   ]
  },
  {
   "cell_type": "code",
   "execution_count": null,
   "id": "cb6c34f4",
   "metadata": {},
   "outputs": [],
   "source": [
    "df_train"
   ]
  },
  {
   "cell_type": "code",
   "execution_count": null,
   "id": "06d4e3bf",
   "metadata": {},
   "outputs": [],
   "source": [
    "#df_test = tokenize_and_preprocess(remove_tags(df_test),stop_words=True,stemming=True,lemmatization=True)\n",
    "df_test = remove_tags(df_test)"
   ]
  },
  {
   "cell_type": "code",
   "execution_count": null,
   "id": "af00ee3b",
   "metadata": {},
   "outputs": [],
   "source": [
    "df_test"
   ]
  },
  {
   "cell_type": "code",
   "execution_count": null,
   "id": "618f3245",
   "metadata": {},
   "outputs": [],
   "source": [
    "train_file = 'data/fasstext_train.txt'\n",
    "df_train.to_csv(train_file, header=None, index=False, sep=' ', columns=[\"label\",\"tweets\"])\n",
    "test_file =  'data/fasstext_test.txt'\n",
    "df_test.to_csv(test_file, header=None, index=False, sep=' ', columns=[\"tweets\"])"
   ]
  },
  {
   "cell_type": "code",
   "execution_count": null,
   "id": "ffc8e40f",
   "metadata": {},
   "outputs": [],
   "source": [
    "model = train_supervised(input=train_file)"
   ]
  },
  {
   "cell_type": "code",
   "execution_count": null,
   "id": "9d6b78ad",
   "metadata": {},
   "outputs": [],
   "source": [
    "print('vocab size: ', len(model.words))"
   ]
  },
  {
   "cell_type": "code",
   "execution_count": null,
   "id": "c3ab46a0",
   "metadata": {
    "scrolled": false
   },
   "outputs": [],
   "source": [
    "print('label size: ', len(model.labels))"
   ]
  },
  {
   "cell_type": "code",
   "execution_count": null,
   "id": "d46170db",
   "metadata": {},
   "outputs": [],
   "source": [
    "predictions = []\n",
    "file1 = open('data/fasstext_test.txt', 'r')\n",
    "lines = file1.readlines()\n",
    "for line in lines:\n",
    "    pred = model.predict(line.strip())[0][0]\n",
    "    if pred == \"__label__0\":\n",
    "        predictions.append(-1)\n",
    "    else:    \n",
    "        predictions.append(1)"
   ]
  },
  {
   "cell_type": "code",
   "execution_count": null,
   "id": "8e40453c",
   "metadata": {},
   "outputs": [],
   "source": [
    "predictions"
   ]
  },
  {
   "cell_type": "code",
   "execution_count": null,
   "id": "9144c772",
   "metadata": {},
   "outputs": [],
   "source": [
    "ids=[i for i in range(1,len(predictions)+1)]\n",
    "with open(\"data/submission.csv\", 'w', newline='') as csvfile:\n",
    "    fieldnames = ['Id', 'Prediction']\n",
    "    writer = csv.DictWriter(csvfile, delimiter=\",\", fieldnames=fieldnames)\n",
    "    writer.writeheader()\n",
    "    for r1, r2 in zip(ids, predictions):\n",
    "        writer.writerow({'Id':int(r1),'Prediction':int(r2)})"
   ]
  }
 ],
 "metadata": {
  "kernelspec": {
   "display_name": "Python 3 (ipykernel)",
   "language": "python",
   "name": "python3"
  },
  "language_info": {
   "codemirror_mode": {
    "name": "ipython",
    "version": 3
   },
   "file_extension": ".py",
   "mimetype": "text/x-python",
   "name": "python",
   "nbconvert_exporter": "python",
   "pygments_lexer": "ipython3",
   "version": "3.9.13"
  }
 },
 "nbformat": 4,
 "nbformat_minor": 5
}
