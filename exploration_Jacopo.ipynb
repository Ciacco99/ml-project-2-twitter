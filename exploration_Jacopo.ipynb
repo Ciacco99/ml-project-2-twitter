{
 "cells": [
  {
   "cell_type": "markdown",
   "metadata": {},
   "source": [
    "# Exploration Notebook - Jacopo\n",
    "**Version**: v0\n",
    "\n",
    "**Goal**: explore the data, understand the problem, and get a first naive working model\n",
    "\n",
    "**Folder Structure**: \n",
    "- `data/` - all data \n",
    "- `data/twitter-datasets/` - provided data\n",
    "- `data/out/` - output data, predictions\n",
    "- `project_text_classification/` - provided code + embeddings obtained with GloVe implementation provided"
   ]
  },
  {
   "cell_type": "code",
   "execution_count": 1,
   "metadata": {},
   "outputs": [],
   "source": [
    "# Basic imports\n",
    "import numpy as np\n",
    "import pandas as pd\n",
    "import matplotlib.pyplot as plt\n",
    "%matplotlib inline\n",
    "import pickle"
   ]
  },
  {
   "cell_type": "code",
   "execution_count": 40,
   "metadata": {},
   "outputs": [
    {
     "name": "stdout",
     "output_type": "stream",
     "text": [
      "Train set:  (196970, 2)\n",
      "Train set positives:  (97902, 2)\n",
      "Train set negatives:  (99068, 2)\n"
     ]
    }
   ],
   "source": [
    "# Load data, txt as csv\n",
    "data_path = 'data/twitter-datasets/'\n",
    "df_train_pos = pd.read_csv(data_path + 'train_pos.txt', sep = '\\t', names = ['tweet'])\n",
    "df_train_pos['label'] = 1\n",
    "df_train_neg = pd.read_csv(data_path + 'train_neg.txt', sep = '\\t', names = ['tweet'])\n",
    "df_train_neg['label'] = 0\n",
    "df_train = pd.concat([df_train_pos, df_train_neg])\n",
    "print('Train set: ', df_train.shape)\n",
    "print('Train set positives: ', df_train_pos.shape)\n",
    "print('Train set negatives: ', df_train_neg.shape)"
   ]
  },
  {
   "cell_type": "code",
   "execution_count": 3,
   "metadata": {},
   "outputs": [
    {
     "data": {
      "text/html": [
       "<div>\n",
       "<style scoped>\n",
       "    .dataframe tbody tr th:only-of-type {\n",
       "        vertical-align: middle;\n",
       "    }\n",
       "\n",
       "    .dataframe tbody tr th {\n",
       "        vertical-align: top;\n",
       "    }\n",
       "\n",
       "    .dataframe thead th {\n",
       "        text-align: right;\n",
       "    }\n",
       "</style>\n",
       "<table border=\"1\" class=\"dataframe\">\n",
       "  <thead>\n",
       "    <tr style=\"text-align: right;\">\n",
       "      <th></th>\n",
       "      <th>tweet</th>\n",
       "      <th>label</th>\n",
       "    </tr>\n",
       "  </thead>\n",
       "  <tbody>\n",
       "    <tr>\n",
       "      <th>0</th>\n",
       "      <td>&lt;user&gt; i dunno justin read my mention or not ....</td>\n",
       "      <td>1</td>\n",
       "    </tr>\n",
       "    <tr>\n",
       "      <th>1</th>\n",
       "      <td>because your logic is so dumb , i won't even c...</td>\n",
       "      <td>1</td>\n",
       "    </tr>\n",
       "    <tr>\n",
       "      <th>2</th>\n",
       "      <td>&lt;user&gt; just put casper in a box !  looved the...</td>\n",
       "      <td>1</td>\n",
       "    </tr>\n",
       "    <tr>\n",
       "      <th>3</th>\n",
       "      <td>&lt;user&gt; &lt;user&gt; thanks sir &gt; &gt; don't trip lil ma...</td>\n",
       "      <td>1</td>\n",
       "    </tr>\n",
       "    <tr>\n",
       "      <th>4</th>\n",
       "      <td>visiting my brother tmr is the bestest birthda...</td>\n",
       "      <td>1</td>\n",
       "    </tr>\n",
       "  </tbody>\n",
       "</table>\n",
       "</div>"
      ],
      "text/plain": [
       "                                               tweet  label\n",
       "0  <user> i dunno justin read my mention or not ....      1\n",
       "1  because your logic is so dumb , i won't even c...      1\n",
       "2   <user> just put casper in a box !  looved the...      1\n",
       "3  <user> <user> thanks sir > > don't trip lil ma...      1\n",
       "4  visiting my brother tmr is the bestest birthda...      1"
      ]
     },
     "execution_count": 3,
     "metadata": {},
     "output_type": "execute_result"
    }
   ],
   "source": [
    "df_train_pos.head()"
   ]
  },
  {
   "cell_type": "code",
   "execution_count": 4,
   "metadata": {},
   "outputs": [
    {
     "data": {
      "text/html": [
       "<div>\n",
       "<style scoped>\n",
       "    .dataframe tbody tr th:only-of-type {\n",
       "        vertical-align: middle;\n",
       "    }\n",
       "\n",
       "    .dataframe tbody tr th {\n",
       "        vertical-align: top;\n",
       "    }\n",
       "\n",
       "    .dataframe thead th {\n",
       "        text-align: right;\n",
       "    }\n",
       "</style>\n",
       "<table border=\"1\" class=\"dataframe\">\n",
       "  <thead>\n",
       "    <tr style=\"text-align: right;\">\n",
       "      <th></th>\n",
       "      <th>tweet</th>\n",
       "      <th>label</th>\n",
       "    </tr>\n",
       "  </thead>\n",
       "  <tbody>\n",
       "    <tr>\n",
       "      <th>0</th>\n",
       "      <td>vinco tresorpack 6 ( difficulty 10 of 10 objec...</td>\n",
       "      <td>0</td>\n",
       "    </tr>\n",
       "    <tr>\n",
       "      <th>1</th>\n",
       "      <td>glad i dot have taks tomorrow ! ! #thankful #s...</td>\n",
       "      <td>0</td>\n",
       "    </tr>\n",
       "    <tr>\n",
       "      <th>2</th>\n",
       "      <td>1-3 vs celtics in the regular season = were fu...</td>\n",
       "      <td>0</td>\n",
       "    </tr>\n",
       "    <tr>\n",
       "      <th>3</th>\n",
       "      <td>&lt;user&gt; i could actually kill that girl i'm so ...</td>\n",
       "      <td>0</td>\n",
       "    </tr>\n",
       "    <tr>\n",
       "      <th>4</th>\n",
       "      <td>&lt;user&gt; &lt;user&gt; &lt;user&gt; i find that very hard to ...</td>\n",
       "      <td>0</td>\n",
       "    </tr>\n",
       "  </tbody>\n",
       "</table>\n",
       "</div>"
      ],
      "text/plain": [
       "                                               tweet  label\n",
       "0  vinco tresorpack 6 ( difficulty 10 of 10 objec...      0\n",
       "1  glad i dot have taks tomorrow ! ! #thankful #s...      0\n",
       "2  1-3 vs celtics in the regular season = were fu...      0\n",
       "3  <user> i could actually kill that girl i'm so ...      0\n",
       "4  <user> <user> <user> i find that very hard to ...      0"
      ]
     },
     "execution_count": 4,
     "metadata": {},
     "output_type": "execute_result"
    }
   ],
   "source": [
    "df_train_neg.head()"
   ]
  },
  {
   "cell_type": "markdown",
   "metadata": {},
   "source": [
    "## Load Embeddings and Vocabulary computed with GloVe\n",
    "**v0-preprocessing**:\n",
    "- Vocabulary from the training set only\n",
    "- Only words that appear at least 5 times (`grep -v \"^[1234]\\s\"` in cut_vocab.sh)\n",
    "- D = 20 for the embeddings\n"
   ]
  },
  {
   "cell_type": "code",
   "execution_count": 5,
   "metadata": {},
   "outputs": [
    {
     "name": "stdout",
     "output_type": "stream",
     "text": [
      "Embeddings shape:  (101298, 20)\n"
     ]
    }
   ],
   "source": [
    "# Load embeddings and vocab computed in glove_solution.py, cooc.py, build_vocab.sh, cut_vocab.sh\n",
    "embeddings = np.load('project_text_classification/embeddings.npy')\n",
    "print('Embeddings shape: ', embeddings.shape)"
   ]
  },
  {
   "cell_type": "code",
   "execution_count": 6,
   "metadata": {},
   "outputs": [
    {
     "name": "stdout",
     "output_type": "stream",
     "text": [
      "Vocab size:  101298\n",
      "First 10 words with first 5 embeddings out of 20: \n",
      "0     <user>     [-0.03479712 -0.07365628 -0.00743188 -0.00788228  0.02426597]\n",
      "1     !     [-0.0836218  -0.17009606  0.01400596 -0.04496939  0.06164988]\n",
      "2     i     [-0.09792921 -0.20330115 -0.00564132 -0.05139399  0.05120932]\n",
      "3     the     [-0.03055286 -0.06086687 -0.01190551 -0.00499993  0.05682487]\n",
      "4     .     [-0.04091219 -0.09596251  0.01774639 -0.01060146  0.03199516]\n",
      "5     ,     [-0.01024456 -0.05366561  0.00076152 -0.00700359  0.04335792]\n",
      "6     to     [-0.09594229 -0.18170194  0.00853042 -0.03531667  0.0620693 ]\n",
      "7     you     [-0.17485842 -0.39461575 -0.02115954 -0.08810722  0.10670072]\n",
      "8     (     [-0.01947013 -0.01521287 -0.0057669   0.01370244  0.01793526]\n",
      "9     <url>     [-0.01884383 -0.03261202  0.00045006  0.00241035  0.01886935]\n"
     ]
    }
   ],
   "source": [
    "# Load vocab\n",
    "with open('project_text_classification/vocab.pkl', 'rb') as f:\n",
    "    vocab = pickle.load(f)\n",
    "print('Vocab size: ', len(vocab))\n",
    "print('First 10 words with first 5 embeddings out of 20: ')\n",
    "for i, (k, v) in enumerate(vocab.items()):\n",
    "    if i < 10:\n",
    "        print(v,'   ', k, '   ', embeddings[v][:5])\n",
    "\n"
   ]
  },
  {
   "cell_type": "markdown",
   "metadata": {},
   "source": [
    "## Construct Features\n",
    "**v0-features**:\n",
    "- Average of all embeddings of the words in the tweet"
   ]
  },
  {
   "cell_type": "code",
   "execution_count": 7,
   "metadata": {},
   "outputs": [],
   "source": [
    "# Construct Feature Matrix function\n",
    "def build_feature_matrix_v0(df, vocab, embeddings, mode='avg'):\n",
    "    \"\"\"\n",
    "    Input:\n",
    "        df: pandas DataFrame with column 'tweet', where each row is a tweet (N rows)\n",
    "        vocab: dictionary mapping words to indices (the loaded vocab from vocab.pkl, length V is 101298 in v0 with GloVe embeddings with cooc matrix counting only words with at least 5 occurrences)\n",
    "        embeddings: numpy array of shape (V, D) where V is the size of the vocabulary and D is the dimensionality of the word embeddings (in v0 with GloVe embeddings, D = 20)\n",
    "    Output:\n",
    "        X: numpy array of shape (N, D) where N is the number of tweets in df and D is the dimensionality of the word embeddings\n",
    "    \"\"\"\n",
    "    X = np.zeros((df.shape[0], embeddings.shape[1]))\n",
    "    for i, tweet in enumerate(df['tweet']):\n",
    "        words = tweet.split()\n",
    "        for word in words:\n",
    "            if word in vocab:\n",
    "                X[i] += embeddings[vocab[word]]\n",
    "        if mode == 'avg':\n",
    "            X[i] /= len(words)\n",
    "\n",
    "    return X\n"
   ]
  },
  {
   "cell_type": "code",
   "execution_count": 8,
   "metadata": {},
   "outputs": [
    {
     "name": "stdout",
     "output_type": "stream",
     "text": [
      "Feature matrix shape:  (196970, 20)\n",
      "First 2 rows of feature matrix:  [[-2.12743647e-01 -4.66915704e-01  1.79795781e-03 -7.90512461e-02\n",
      "   9.82451000e-02  3.56712983e-01 -1.18187026e-01  1.51243751e-02\n",
      "  -4.02296686e-01  4.69095194e-01  5.83330371e-02  4.28107825e-01\n",
      "   2.28117727e-01 -2.92956517e-04 -4.13620524e-01 -4.04385531e-02\n",
      "   1.93489122e-01  3.78506652e-01  1.51826272e-01  4.02271820e-01]\n",
      " [-3.64756550e-02 -3.58745609e-01 -8.52176162e-02  5.82765480e-02\n",
      "  -4.69203802e-03  3.61547823e-01 -8.21367314e-02  1.72882134e-01\n",
      "  -3.35769769e-01  4.36906602e-01  7.22405427e-02  3.82444782e-01\n",
      "   1.20414009e-01  1.25260226e-01 -3.76953598e-01 -1.92834464e-01\n",
      "   3.75952487e-01  2.56937385e-01  1.10645393e-01  3.26992915e-01]]\n"
     ]
    }
   ],
   "source": [
    "# Construct Feature Matrix\n",
    "X_train_full = build_feature_matrix_v0(df_train, vocab, embeddings, mode='avg')\n",
    "print('Feature matrix shape: ', X_train_full.shape)\n",
    "print('First 2 rows of feature matrix: ', X_train_full[:2])"
   ]
  },
  {
   "cell_type": "code",
   "execution_count": 9,
   "metadata": {},
   "outputs": [
    {
     "name": "stdout",
     "output_type": "stream",
     "text": [
      "Labels vector shape:  (196970,)\n"
     ]
    }
   ],
   "source": [
    "# Construct labels vector\n",
    "y_train_full = df_train['label'].values\n",
    "print('Labels vector shape: ', y_train_full.shape)"
   ]
  },
  {
   "cell_type": "markdown",
   "metadata": {},
   "source": [
    "## Train Linear Classifier"
   ]
  },
  {
   "cell_type": "code",
   "execution_count": 10,
   "metadata": {},
   "outputs": [],
   "source": [
    "# sklearn imports\n",
    "from sklearn.linear_model import LogisticRegression\n",
    "from sklearn.model_selection import train_test_split\n",
    "from sklearn.metrics import confusion_matrix, accuracy_score, precision_score, recall_score, f1_score"
   ]
  },
  {
   "cell_type": "code",
   "execution_count": 11,
   "metadata": {},
   "outputs": [
    {
     "name": "stdout",
     "output_type": "stream",
     "text": [
      "Train set shape:  (157576, 20)\n",
      "Validation set shape:  (39394, 20)\n"
     ]
    }
   ],
   "source": [
    "# Split train set into train and validation sets\n",
    "X_train, X_val, y_train, y_val = train_test_split(X_train_full, y_train_full, test_size=0.2, random_state=42)\n",
    "print('Train set shape: ', X_train.shape)\n",
    "print('Validation set shape: ', X_val.shape)"
   ]
  },
  {
   "cell_type": "code",
   "execution_count": 12,
   "metadata": {},
   "outputs": [
    {
     "data": {
      "text/plain": [
       "0.5730568106818297"
      ]
     },
     "execution_count": 12,
     "metadata": {},
     "output_type": "execute_result"
    }
   ],
   "source": [
    "# Train Logistic Regression model\n",
    "clf = LogisticRegression()\n",
    "clf.fit(X_train, y_train)\n",
    "clf.score(X_val, y_val)"
   ]
  },
  {
   "cell_type": "markdown",
   "metadata": {},
   "source": [
    "## Test, Prediction, Evaluation"
   ]
  },
  {
   "cell_type": "code",
   "execution_count": 13,
   "metadata": {},
   "outputs": [],
   "source": [
    "# Helper Function\n",
    "def print_stats(y_val, y_pred):\n",
    "    print('Accuracy: ', accuracy_score(y_val, y_pred))\n",
    "    print('Precision: ', precision_score(y_val, y_pred))\n",
    "    print('Recall: ', recall_score(y_val, y_pred))\n",
    "    print('F1: ', f1_score(y_val, y_pred))\n",
    "    print('Confusion matrix: ')\n",
    "    print(confusion_matrix(y_val, y_pred))"
   ]
  },
  {
   "cell_type": "code",
   "execution_count": 14,
   "metadata": {},
   "outputs": [
    {
     "name": "stdout",
     "output_type": "stream",
     "text": [
      "Accuracy:  0.5730568106818297\n",
      "Precision:  0.5637840866641763\n",
      "Recall:  0.617564318960667\n",
      "F1:  0.5894500451582981\n",
      "Confusion matrix: \n",
      "[[10501  9342]\n",
      " [ 7477 12074]]\n"
     ]
    }
   ],
   "source": [
    "# Predict on validation set\n",
    "y_pred = clf.predict(X_val)\n",
    "# print stats\n",
    "print_stats(y_val, y_pred)\n"
   ]
  },
  {
   "cell_type": "markdown",
   "metadata": {},
   "source": [
    "# Train with Cross Validation"
   ]
  },
  {
   "cell_type": "code",
   "execution_count": 15,
   "metadata": {},
   "outputs": [
    {
     "name": "stdout",
     "output_type": "stream",
     "text": [
      "Cross validation scores:  [0.58798294 0.56810682 0.57112758 0.56518759 0.56242067]\n",
      "Cross validation mean score:  0.5709651215921208\n"
     ]
    }
   ],
   "source": [
    "# Cross Validation naive\n",
    "from sklearn.model_selection import cross_val_score\n",
    "scores = cross_val_score(clf, X_train_full, y_train_full, cv=5)\n",
    "print('Cross validation scores: ', scores)\n",
    "print('Cross validation mean score: ', np.mean(scores))"
   ]
  },
  {
   "cell_type": "code",
   "execution_count": 16,
   "metadata": {},
   "outputs": [
    {
     "name": "stdout",
     "output_type": "stream",
     "text": [
      "K-Fold cross validation scores:  [0.5730568106818297, 0.5724729654262071, 0.5714829669492816, 0.5709752754226533, 0.5746306544143778]\n",
      "K-Fold cross validation mean score:  0.5725237345788698\n"
     ]
    }
   ],
   "source": [
    "# K-Fold Cross Validation + shuffle\n",
    "from sklearn.model_selection import KFold\n",
    "kf = KFold(n_splits=5, shuffle=True, random_state=42) # 42 is the answer to everything\n",
    "scores = []\n",
    "ws = []\n",
    "for train_index, val_index in kf.split(X_train_full):\n",
    "    X_train_fold, X_val_fold = X_train_full[train_index], X_train_full[val_index]\n",
    "    y_train_fold, y_val_fold = y_train_full[train_index], y_train_full[val_index]\n",
    "    clf.fit(X_train_fold, y_train_fold)\n",
    "    scores.append(clf.score(X_val_fold, y_val_fold))\n",
    "    ws.append(clf.coef_)\n",
    "print('K-Fold cross validation scores: ', scores)\n",
    "print('K-Fold cross validation mean score: ', np.mean(scores))\n",
    "# final weights\n",
    "w = np.mean(ws, axis=0)\n",
    "clf.coef_ = w"
   ]
  },
  {
   "cell_type": "code",
   "execution_count": 17,
   "metadata": {},
   "outputs": [
    {
     "name": "stdout",
     "output_type": "stream",
     "text": [
      "Area under the curve:  0.6045149722235306\n"
     ]
    },
    {
     "data": {
      "image/png": "[encoded data removed]",
      "text/plain": [
       "<Figure size 640x480 with 1 Axes>"
      ]
     },
     "metadata": {},
     "output_type": "display_data"
    }
   ],
   "source": [
    "# ROC Curve\n",
    "from sklearn.metrics import roc_curve, auc\n",
    "\n",
    "# Predict probabilities on 1s\n",
    "y_pred_prob = clf.predict_proba(X_val)[:, 1]\n",
    "# Compute false positive rate, true positive rate and thresholds\n",
    "fpr, tpr, thresholds = roc_curve(y_val, y_pred_prob)\n",
    "# Compute area under the curve\n",
    "roc_auc = auc(fpr, tpr)\n",
    "print('Area under the curve: ', roc_auc)\n",
    "# Plot ROC curve\n",
    "plt.plot(fpr, tpr, label='ROC curve (area = %0.2f)' % roc_auc)\n",
    "plt.plot([0, 1], [0, 1], 'k--')\n",
    "plt.xlim([0, 1])\n",
    "plt.ylim([0, 1])\n",
    "plt.xlabel('False Positive Rate')\n",
    "plt.ylabel('True Positive Rate')\n",
    "plt.title('Receiver operating characteristic')\n",
    "plt.legend(loc=\"lower right\")\n",
    "plt.show()"
   ]
  },
  {
   "cell_type": "markdown",
   "metadata": {},
   "source": [
    "## Prediction on Test set and Evaluation of Submission"
   ]
  },
  {
   "cell_type": "code",
   "execution_count": 18,
   "metadata": {},
   "outputs": [
    {
     "name": "stdout",
     "output_type": "stream",
     "text": [
      "Test set shape:  (10000, 2)\n",
      "  id                                              tweet\n",
      "0  1  sea doo pro sea scooter ( sports with the port...\n",
      "1  2  <user> shucks well i work all week so now i ca...\n",
      "2  3            i cant stay away from bug thats my baby\n",
      "3  4  <user> no ma'am ! ! ! lol im perfectly fine an...\n",
      "4  5  whenever i fall asleep watching the tv , i alw...\n"
     ]
    }
   ],
   "source": [
    "# Load test data: id, tweet for each row\n",
    "data_path = 'data/twitter-datasets/'\n",
    "df_test = pd.read_csv(data_path + 'test_data.txt', header=None, names=['line'], sep='\\t')\n",
    "# Extract id and tweet, limit split by 1 so we don't split the tweet (this is v0, at least we keep it intact)\n",
    "df_test['id'] = df_test['line'].apply(lambda x: x.split(',',1)[0]) \n",
    "df_test['tweet'] = df_test['line'].apply(lambda x: x.split(',',1)[1])\n",
    "df_test = df_test.drop('line', axis=1)\n",
    "print('Test set shape: ', df_test.shape)\n",
    "print(df_test.head(5))"
   ]
  },
  {
   "cell_type": "code",
   "execution_count": 19,
   "metadata": {},
   "outputs": [
    {
     "name": "stdout",
     "output_type": "stream",
     "text": [
      "Feature matrix shape:  (10000, 20)\n",
      "First 2 rows of feature matrix:  [[-0.15821538 -0.21607353  0.12250205  0.16856103  0.07314589  0.27110023\n",
      "  -0.29175464  0.07790856  0.00564304  0.2801317   0.12207355  0.16808213\n",
      "   0.16112774  0.0159998  -0.20395927 -0.18216626 -0.04774695  0.10113141\n",
      "  -0.05613875  0.33276342]\n",
      " [-0.18726689 -0.50515776  0.10674097  0.05197665  0.06420699  0.25739773\n",
      "  -0.00205906 -0.09593857 -0.38205694  0.43819085  0.23180705  0.27712226\n",
      "   0.28818373  0.19578222 -0.31208164 -0.10316656  0.07110251  0.30208367\n",
      "  -0.01240639  0.35135076]]\n"
     ]
    }
   ],
   "source": [
    "# Construct Feature Matrix\n",
    "X_test = build_feature_matrix_v0(df_test, vocab, embeddings, mode='avg')\n",
    "print('Feature matrix shape: ', X_test.shape)\n",
    "print('First 2 rows of feature matrix: ', X_test[:2])"
   ]
  },
  {
   "cell_type": "code",
   "execution_count": 20,
   "metadata": {},
   "outputs": [],
   "source": [
    "# Predict on test set, cast values, save to csv\n",
    "y_pred = clf.predict(X_test)\n",
    "df_test['Prediction'] = y_pred\n",
    "df_test = df_test.rename(columns={'id': 'Id'})\n",
    "df_test['Prediction'] = df_test['Prediction'].apply(lambda x: -1 if x == 0 else x)\n",
    "data_path = 'data/out/'\n",
    "df_test.to_csv(data_path + 'submission-v0.csv', columns=['Id', 'Prediction'], index=False)"
   ]
  },
  {
   "cell_type": "markdown",
   "metadata": {},
   "source": [
    "## Evaluation of v0-0\n",
    "\n",
    "**ACCURACY** : 0.583\n",
    "**F1 SCORE** : 0.606"
   ]
  },
  {
   "cell_type": "markdown",
   "metadata": {},
   "source": [
    "## Quick Iterations: v0-1 to v0-7\n",
    "- **v0.1**: SVM\n",
    "- **v0.2**: Naive Bayes (Generative Model)\n",
    "- **v0.3**: Logistic Regression with preprocessing (lowercase, ~~remove punctuation~~, (remove stopwords), stemming)\n",
    "- **v0.4**: Logistic Regression (or winner of above) with preprocessing and n-grams\n",
    "- **v0.5**: Logistic Regression with preprocessing and n-grams and TF-IDF\n",
    "- **v0.6**: Logistic Regression with preprocessing and n-grams and TF-IDF and L2 regularization\n",
    "- **v0.7**: Logistic Regression with preprocessing and n-grams and TF-IDF and L2 regularization and 1000 features"
   ]
  },
  {
   "cell_type": "code",
   "execution_count": 21,
   "metadata": {},
   "outputs": [],
   "source": [
    "# Quick Iterations, all with k-fold, shuffle and random without fixed state\n",
    "#kf = KFold(n_splits=5, shuffle=True)\n",
    "# v0.1: SVM\n",
    "# from sklearn.svm import SVC\n",
    "# clf = SVC(kernel='linear')\n",
    "# scores = cross_val_score(clf, X_train_full, y_train_full, cv=kf)\n",
    "# print('Cross validation scores: ', scores)\n",
    "# print('Cross validation mean score: ', np.mean(scores))\n",
    "\n",
    "# v0.2: Naive Bayes\n",
    "#from sklearn.naive_bayes import GaussianNB\n",
    "#clf = GaussianNB()\n",
    "#scores = cross_val_score(clf, X_train_full, y_train_full, cv=kf)\n",
    "#print('Cross validation scores: ', scores)\n",
    "#print('Cross validation mean score: ', np.mean(scores))\n",
    "\n",
    "# v0.3: Random Forest\n",
    "# from sklearn.ensemble import RandomForestClassifier\n",
    "# clf = RandomForestClassifier()\n",
    "# scores = cross_val_score(clf, X_train_full, y_train_full, cv=kf)\n",
    "# print('Cross validation scores: ', scores)\n",
    "# print('Cross validation mean score: ', np.mean(scores))\n",
    "# v0.4: Gradient Boosting\n",
    "# from sklearn.ensemble import GradientBoostingClassifier\n",
    "# clf = GradientBoostingClassifier()\n",
    "# #scores = cross_val_score(clf, X_train_full, y_train_full, cv=kf)\n",
    "# print('Cross validation scores: ', scores)\n",
    "# print('Cross validation mean score: ', np.mean(scores))\n",
    "# v0.5: Logistic Regression\n",
    "#from sklearn.linear_model import LogisticRegression\n",
    "#clf = LogisticRegression()\n",
    "#scores = cross_val_score(clf, X_train_full, y_train_full, cv=kf)\n",
    "#print('Cross validation scores: ', scores)\n",
    "#print('Cross validation mean score: ', np.mean(scores))\n",
    "# v0.6: KNN\n",
    "#from sklearn.neighbors import KNeighborsClassifier\n",
    "#clf = KNeighborsClassifier()\n",
    "#scores = cross_val_score(clf, X_train_full, y_train_full, cv=kf)\n",
    "#print('Cross validation scores: ', scores)\n",
    "#print('Cross validation mean score: ', np.mean(scores))\n",
    "# v0.7: Decision Tree\n",
    "#from sklearn.tree import DecisionTreeClassifier\n",
    "#clf = DecisionTreeClassifier()\n",
    "#scores = cross_val_score(clf, X_train_full, y_train_full, cv=kf)\n",
    "#print('Cross validation scores: ', scores)\n",
    "#print('Cross validation mean score: ', np.mean(scores))\n",
    "\n",
    "# Bayes\n",
    "# Cross validation scores:  [0.58336295 0.58318526 0.57795603 0.58414987 0.57754988]\n",
    "# Cross validation mean score:  0.5812407980910799\n",
    "# Random Forest\n",
    "# Cross validation scores:  [0.56975682 0.57704219 0.57468142 0.57069605 0.56863989]\n",
    "# Cross validation mean score:  0.5721632735949637\n",
    "# Logistic Regression\n",
    "# Cross validation scores:  [0.56975682 0.57704219 0.57468142 0.57069605 0.56863989]\n",
    "# Cross validation mean score:  0.5721632735949637\n",
    "# Decision Tree -- good actually\n",
    "# Cross validation scores:  [0.59080063 0.59356755 0.58709448 0.58912525 0.59224755]\n",
    "# Cross validation mean score:  0.590567091435244\n",
    "# Cross validation scores:  [0.59328832 0.58948063 0.59295832 0.59689293 0.59509062]\n",
    "# Cross validation mean score:  0.5935421637812865\n"
   ]
  },
  {
   "cell_type": "code",
   "execution_count": 22,
   "metadata": {},
   "outputs": [
    {
     "name": "stdout",
     "output_type": "stream",
     "text": [
      "Accuracy:  0.5945829314108747\n",
      "F1 score:  0.589761372685007\n"
     ]
    }
   ],
   "source": [
    "# predict with decision tree\n",
    "# split into train and validation\n",
    "from sklearn.model_selection import train_test_split\n",
    "X_train, X_val, y_train, y_val = train_test_split(X_train_full, y_train_full, test_size=0.2)\n",
    "\n",
    "from sklearn.tree import DecisionTreeClassifier\n",
    "clf = DecisionTreeClassifier()\n",
    "clf.fit(X_train, y_train)\n",
    "y_pred = clf.predict(X_val)\n",
    "print('Accuracy: ', accuracy_score(y_val, y_pred))\n",
    "print('F1 score: ', f1_score(y_val, y_pred))"
   ]
  },
  {
   "cell_type": "code",
   "execution_count": 23,
   "metadata": {},
   "outputs": [
    {
     "name": "stdout",
     "output_type": "stream",
     "text": [
      "Accuracy:  0.5905467837741788\n",
      "F1 score:  0.6242020409114207\n"
     ]
    }
   ],
   "source": [
    "# predict with random forest\n",
    "from sklearn.ensemble import RandomForestClassifier\n",
    "clf = RandomForestClassifier(max_depth=5)\n",
    "clf.fit(X_train, y_train)\n",
    "y_pred = clf.predict(X_val)\n",
    "print('Accuracy: ', accuracy_score(y_val, y_pred))\n",
    "print('F1 score: ', f1_score(y_val, y_pred))"
   ]
  },
  {
   "cell_type": "code",
   "execution_count": 24,
   "metadata": {},
   "outputs": [],
   "source": [
    "# a bit of hyperparameter tuning for random forest that seems to work\n",
    "from sklearn.model_selection import GridSearchCV\n",
    "param_grid = {\n",
    "    'max_depth': [3, 5, 8],\n",
    "    'n_estimators': [10, 50, 100, 200],\n",
    "    'max_features': [2, 3, 4, 5, 6, 7, 8, 9, 10, \"sqrt\", \"log2\"],\n",
    "    'criterion': ['gini', 'entropy', 'log_loss'],\n",
    "    'min_samples_split': [2, 3, 4, 5, 6, 7, 8, 9, 10],\n",
    "}\n",
    "clf = RandomForestClassifier()\n",
    "grid_search = GridSearchCV(estimator=clf, param_grid=param_grid, cv=5, n_jobs=-1, verbose=2)\n",
    "#grid_search.fit(X_train_full, y_train_full)\n",
    "#print(grid_search.best_params_)\n",
    "#print(grid_search.best_score_)\n"
   ]
  },
  {
   "cell_type": "code",
   "execution_count": 25,
   "metadata": {},
   "outputs": [],
   "source": [
    "# Not the smartest idea but it defnitely tested my new mac... \n",
    "# Fitting 5 folds for each of 3564 candidates, totalling 17820 fits... but running n_jobs=-1\n",
    "# was able to do in parallel so it arrived at around 1000+ jobs in 30min... still, idiotic of me\n"
   ]
  },
  {
   "cell_type": "code",
   "execution_count": 26,
   "metadata": {},
   "outputs": [],
   "source": [
    "# Hyperparameter tuning for random forest with randomized search\n",
    "from sklearn.model_selection import RandomizedSearchCV\n",
    "param_grid = {\n",
    "    'max_depth': [3, 5, 8],\n",
    "    'max_features': [\"sqrt\", \"log2\"],\n",
    "    'criterion': ['gini', 'entropy', 'log_loss'],\n",
    "    'min_samples_split': [2, 4, 6, 8, 10],\n",
    "    'n_estimators': [10, 50, 100, 200],\n",
    "}\n",
    "clf = RandomForestClassifier()\n",
    "random_search = RandomizedSearchCV(estimator=clf, param_distributions=param_grid, cv=5, n_jobs=-1, verbose=2)\n",
    "#random_search.fit(X_train_full, y_train_full)\n",
    "#print(random_search.best_params_)\n",
    "#print(random_search.best_score_)\n",
    "# 2min to run\n",
    "# {'n_estimators': 100, 'min_samples_split': 10, 'max_features': 'sqrt', 'max_depth': 5, 'criterion': 'gini'}\n",
    "# 0.5888561709905062"
   ]
  },
  {
   "cell_type": "code",
   "execution_count": 27,
   "metadata": {},
   "outputs": [],
   "source": [
    "# a bit more tuning\n",
    "param_grid = {\n",
    "    'max_depth': [5],\n",
    "    'max_features': [\"sqrt\"],\n",
    "    'criterion': ['gini'],\n",
    "    'min_samples_split': [2, 5,10, 15, 20],\n",
    "    'n_estimators': [100, 200, 300, 400],\n",
    "}\n",
    "clf = RandomForestClassifier()\n",
    "random_search = RandomizedSearchCV(estimator=clf, param_distributions=param_grid, cv=5, n_jobs=-1, verbose=2)\n",
    "#random_search.fit(X_train_full, y_train_full)\n",
    "#print(random_search.best_params_)\n",
    "#print(random_search.best_score_)\n",
    "# 7min 34s to run\n",
    "# {'n_estimators': 300, 'min_samples_split': 15, 'max_features': 'sqrt', 'max_depth': 5, 'criterion': 'gini'}\n",
    "#0.589353708686602"
   ]
  },
  {
   "cell_type": "code",
   "execution_count": 32,
   "metadata": {},
   "outputs": [],
   "source": [
    "# So, the best params are:\n",
    "# {'n_estimators': 300, 'min_samples_split': 15, 'max_features': 'sqrt', 'max_depth': 5, 'criterion': 'gini'}\n",
    "# 0.589353708686602 accuracy on k-fold cross validation\n",
    "\n",
    "# I noticed actually that decision tree is particularly god already, \n",
    "# Let's explore more on deeper trees in random forest\n",
    "param_grid = {\n",
    "    'max_depth': [5, 20, \"None\"],\n",
    "    'max_features': [\"sqrt\"],\n",
    "    'criterion': ['gini'],\n",
    "    'min_samples_split': [10, 15, 25],\n",
    "    'n_estimators': [10, 50, 100],\n",
    "}\n",
    "clf = RandomForestClassifier()\n",
    "random_search = RandomizedSearchCV(estimator=clf, param_distributions=param_grid, cv=5, n_jobs=-1, verbose=2)\n",
    "# random_search.fit(X_train_full, y_train_full)\n",
    "# print(random_search.best_params_)\n",
    "# print(random_search.best_score_)\n",
    "# 3min 31s to run, \"None\" is probably wrong, need to use None instead\n",
    "#{'n_estimators': 100, 'min_samples_split': 25, 'max_features': 'sqrt', 'max_depth': 20, 'criterion': 'gini'}\n",
    "#0.6130527491496167"
   ]
  },
  {
   "cell_type": "code",
   "execution_count": 33,
   "metadata": {},
   "outputs": [
    {
     "name": "stdout",
     "output_type": "stream",
     "text": [
      "Fitting 5 folds for each of 10 candidates, totalling 50 fits\n",
      "[CV] END criterion=gini, max_depth=None, max_features=sqrt, min_samples_split=25, n_estimators=100; total time= 1.3min\n",
      "[CV] END criterion=gini, max_depth=None, max_features=sqrt, min_samples_split=25, n_estimators=100; total time= 1.3min\n",
      "[CV] END criterion=gini, max_depth=None, max_features=sqrt, min_samples_split=25, n_estimators=100; total time= 1.6min\n",
      "[CV] END criterion=gini, max_depth=None, max_features=sqrt, min_samples_split=25, n_estimators=100; total time= 1.7min\n",
      "[CV] END criterion=gini, max_depth=None, max_features=sqrt, min_samples_split=25, n_estimators=100; total time= 1.7min\n",
      "[CV] END criterion=gini, max_depth=20, max_features=sqrt, min_samples_split=30, n_estimators=300; total time= 3.4min\n",
      "[CV] END criterion=gini, max_depth=20, max_features=sqrt, min_samples_split=30, n_estimators=300; total time= 3.4min\n",
      "[CV] END criterion=gini, max_depth=20, max_features=sqrt, min_samples_split=30, n_estimators=300; total time= 3.4min\n",
      "[CV] END criterion=gini, max_depth=20, max_features=sqrt, min_samples_split=30, n_estimators=300; total time= 4.4min\n",
      "[CV] END criterion=gini, max_depth=20, max_features=sqrt, min_samples_split=30, n_estimators=300; total time= 4.4min\n",
      "[CV] END criterion=gini, max_depth=None, max_features=sqrt, min_samples_split=30, n_estimators=300; total time= 4.1min\n",
      "[CV] END criterion=gini, max_depth=None, max_features=sqrt, min_samples_split=30, n_estimators=300; total time= 4.4min\n",
      "[CV] END criterion=gini, max_depth=None, max_features=sqrt, min_samples_split=30, n_estimators=300; total time= 4.6min\n",
      "[CV] END criterion=gini, max_depth=None, max_features=sqrt, min_samples_split=30, n_estimators=300; total time= 4.6min\n",
      "[CV] END criterion=gini, max_depth=None, max_features=sqrt, min_samples_split=30, n_estimators=300; total time= 4.6min\n",
      "[CV] END criterion=gini, max_depth=None, max_features=sqrt, min_samples_split=35, n_estimators=300; total time= 4.0min\n",
      "[CV] END criterion=gini, max_depth=None, max_features=sqrt, min_samples_split=35, n_estimators=300; total time= 4.1min\n"
     ]
    },
    {
     "name": "stderr",
     "output_type": "stream",
     "text": [
      "/Users/jacopoferro/opt/anaconda3/envs/ml/lib/python3.10/site-packages/joblib/externals/loky/process_executor.py:700: UserWarning: A worker stopped while some jobs were given to the executor. This can be caused by a too short worker timeout or by a memory leak.\n",
      "  warnings.warn(\n"
     ]
    },
    {
     "name": "stdout",
     "output_type": "stream",
     "text": [
      "[CV] END criterion=gini, max_depth=None, max_features=sqrt, min_samples_split=35, n_estimators=300; total time= 4.2min\n",
      "[CV] END criterion=gini, max_depth=20, max_features=sqrt, min_samples_split=35, n_estimators=200; total time= 2.6min\n",
      "[CV] END criterion=gini, max_depth=20, max_features=sqrt, min_samples_split=35, n_estimators=200; total time= 2.5min\n",
      "[CV] END criterion=gini, max_depth=None, max_features=sqrt, min_samples_split=35, n_estimators=300; total time= 4.2min\n",
      "[CV] END criterion=gini, max_depth=None, max_features=sqrt, min_samples_split=35, n_estimators=300; total time= 4.2min\n",
      "[CV] END criterion=gini, max_depth=20, max_features=sqrt, min_samples_split=35, n_estimators=200; total time= 2.5min\n",
      "[CV] END criterion=gini, max_depth=20, max_features=sqrt, min_samples_split=30, n_estimators=100; total time= 1.2min\n",
      "[CV] END criterion=gini, max_depth=20, max_features=sqrt, min_samples_split=35, n_estimators=200; total time= 2.4min\n",
      "[CV] END criterion=gini, max_depth=20, max_features=sqrt, min_samples_split=30, n_estimators=100; total time= 1.3min\n",
      "[CV] END criterion=gini, max_depth=20, max_features=sqrt, min_samples_split=35, n_estimators=200; total time= 2.4min\n",
      "[CV] END criterion=gini, max_depth=20, max_features=sqrt, min_samples_split=30, n_estimators=100; total time= 1.2min\n",
      "[CV] END criterion=gini, max_depth=20, max_features=sqrt, min_samples_split=30, n_estimators=100; total time= 1.2min\n",
      "[CV] END criterion=gini, max_depth=20, max_features=sqrt, min_samples_split=30, n_estimators=100; total time= 1.2min\n",
      "[CV] END criterion=gini, max_depth=20, max_features=sqrt, min_samples_split=25, n_estimators=100; total time= 1.2min\n",
      "[CV] END criterion=gini, max_depth=20, max_features=sqrt, min_samples_split=25, n_estimators=100; total time= 1.2min\n",
      "[CV] END criterion=gini, max_depth=20, max_features=sqrt, min_samples_split=25, n_estimators=100; total time= 1.2min\n",
      "[CV] END criterion=gini, max_depth=20, max_features=sqrt, min_samples_split=25, n_estimators=100; total time= 1.2min\n",
      "[CV] END criterion=gini, max_depth=20, max_features=sqrt, min_samples_split=25, n_estimators=100; total time= 1.2min\n",
      "[CV] END criterion=gini, max_depth=None, max_features=sqrt, min_samples_split=50, n_estimators=300; total time= 3.8min\n",
      "[CV] END criterion=gini, max_depth=None, max_features=sqrt, min_samples_split=50, n_estimators=300; total time= 4.0min\n",
      "[CV] END criterion=gini, max_depth=None, max_features=sqrt, min_samples_split=50, n_estimators=300; total time= 3.8min\n",
      "[CV] END criterion=gini, max_depth=None, max_features=sqrt, min_samples_split=50, n_estimators=300; total time= 3.8min\n",
      "[CV] END criterion=gini, max_depth=None, max_features=sqrt, min_samples_split=50, n_estimators=300; total time= 3.9min\n",
      "[CV] END criterion=gini, max_depth=None, max_features=sqrt, min_samples_split=25, n_estimators=200; total time= 2.6min\n",
      "[CV] END criterion=gini, max_depth=None, max_features=sqrt, min_samples_split=25, n_estimators=200; total time= 2.6min\n",
      "[CV] END criterion=gini, max_depth=None, max_features=sqrt, min_samples_split=25, n_estimators=200; total time= 2.8min\n",
      "[CV] END criterion=gini, max_depth=None, max_features=sqrt, min_samples_split=25, n_estimators=200; total time= 2.6min\n",
      "[CV] END criterion=gini, max_depth=None, max_features=sqrt, min_samples_split=25, n_estimators=200; total time= 2.6min\n",
      "[CV] END criterion=gini, max_depth=None, max_features=sqrt, min_samples_split=50, n_estimators=100; total time= 1.2min\n",
      "[CV] END criterion=gini, max_depth=None, max_features=sqrt, min_samples_split=50, n_estimators=100; total time= 1.1min\n",
      "[CV] END criterion=gini, max_depth=None, max_features=sqrt, min_samples_split=50, n_estimators=100; total time= 1.1min\n",
      "[CV] END criterion=gini, max_depth=None, max_features=sqrt, min_samples_split=50, n_estimators=100; total time= 1.1min\n",
      "[CV] END criterion=gini, max_depth=None, max_features=sqrt, min_samples_split=50, n_estimators=100; total time= 1.1min\n",
      "{'n_estimators': 300, 'min_samples_split': 30, 'max_features': 'sqrt', 'max_depth': None, 'criterion': 'gini'}\n",
      "0.6174848961770829\n"
     ]
    }
   ],
   "source": [
    "param_grid = {\n",
    "    'max_depth': [20, None],\n",
    "    'max_features': [\"sqrt\"],\n",
    "    'criterion': ['gini'],\n",
    "    'min_samples_split': [25, 30, 35, 50],\n",
    "    'n_estimators': [100, 200, 300],\n",
    "}\n",
    "# clf = RandomForestClassifier()\n",
    "# random_search = RandomizedSearchCV(estimator=clf, param_distributions=param_grid, cv=5, n_jobs=-1, verbose=2)\n",
    "# random_search.fit(X_train_full, y_train_full)\n",
    "# print(random_search.best_params_)\n",
    "# print(random_search.best_score_)\n",
    "\n",
    "# Painful 18min, but it's done and we know we need deeper trees and of course as many as possible\n",
    "#{'n_estimators': 300, 'min_samples_split': 30, 'max_features': 'sqrt', 'max_depth': None, 'criterion': 'gini'}\n",
    "#0.6174848961770829\n"
   ]
  },
  {
   "cell_type": "code",
   "execution_count": 37,
   "metadata": {},
   "outputs": [],
   "source": [
    "def load_test_data():\n",
    "    # Load test data: id, tweet for each row\n",
    "    data_path = 'data/twitter-datasets/'\n",
    "    df_test = pd.read_csv(data_path + 'test_data.txt', header=None, names=['line'], sep='\\t')\n",
    "    # Extract id and tweet, limit split by 1 so we don't split the tweet (this is v0, at least we keep it intact)\n",
    "    df_test['id'] = df_test['line'].apply(lambda x: x.split(',',1)[0]) \n",
    "    df_test['tweet'] = df_test['line'].apply(lambda x: x.split(',',1)[1])\n",
    "    df_test = df_test.drop('line', axis=1)\n",
    "    return df_test\n",
    "def predict_test_data(X_test, classifier, filename='submission.csv'):\n",
    "    # Predict test data and save to csv\n",
    "    y_pred = classifier.predict(X_test)\n",
    "    df_test['Prediction'] = y_pred\n",
    "    df_test.rename(columns={'id': 'Id'}, inplace=True)\n",
    "    df_test['Prediction'] = df_test['Prediction'].apply(lambda x: -1 if x == 0 else x)\n",
    "    df_test.to_csv(filename, columns=['Id', 'Prediction'], index=False)\n",
    "    return df_test"
   ]
  },
  {
   "cell_type": "code",
   "execution_count": 36,
   "metadata": {},
   "outputs": [
    {
     "ename": "KeyError",
     "evalue": "\"['Id'] not in index\"",
     "output_type": "error",
     "traceback": [
      "\u001b[0;31m---------------------------------------------------------------------------\u001b[0m",
      "\u001b[0;31mKeyError\u001b[0m                                  Traceback (most recent call last)",
      "Cell \u001b[0;32mIn [36], line 19\u001b[0m\n\u001b[1;32m     17\u001b[0m X_test \u001b[39m=\u001b[39m build_feature_matrix_v0(df_test, vocab, embeddings, mode\u001b[39m=\u001b[39m\u001b[39m'\u001b[39m\u001b[39mavg\u001b[39m\u001b[39m'\u001b[39m)\n\u001b[1;32m     18\u001b[0m \u001b[39m# Predict test data and save to csv\u001b[39;00m\n\u001b[0;32m---> 19\u001b[0m predict_test_data(X_test, clf, filename\u001b[39m=\u001b[39;49m \u001b[39m'\u001b[39;49m\u001b[39mdata/out/submission-v0_1.csv\u001b[39;49m\u001b[39m'\u001b[39;49m)\n",
      "Cell \u001b[0;32mIn [35], line 16\u001b[0m, in \u001b[0;36mpredict_test_data\u001b[0;34m(X_test, classifier, filename)\u001b[0m\n\u001b[1;32m     14\u001b[0m df_test\u001b[39m.\u001b[39mrename(columns\u001b[39m=\u001b[39m{\u001b[39m'\u001b[39m\u001b[39mid\u001b[39m\u001b[39m'\u001b[39m: \u001b[39m'\u001b[39m\u001b[39mID\u001b[39m\u001b[39m'\u001b[39m}, inplace\u001b[39m=\u001b[39m\u001b[39mTrue\u001b[39;00m)\n\u001b[1;32m     15\u001b[0m df_test[\u001b[39m'\u001b[39m\u001b[39mPrediction\u001b[39m\u001b[39m'\u001b[39m] \u001b[39m=\u001b[39m df_test[\u001b[39m'\u001b[39m\u001b[39mPrediction\u001b[39m\u001b[39m'\u001b[39m]\u001b[39m.\u001b[39mapply(\u001b[39mlambda\u001b[39;00m x: \u001b[39m-\u001b[39m\u001b[39m1\u001b[39m \u001b[39mif\u001b[39;00m x \u001b[39m==\u001b[39m \u001b[39m0\u001b[39m \u001b[39melse\u001b[39;00m x)\n\u001b[0;32m---> 16\u001b[0m df_test\u001b[39m.\u001b[39;49mto_csv(filename, columns\u001b[39m=\u001b[39;49m[\u001b[39m'\u001b[39;49m\u001b[39mId\u001b[39;49m\u001b[39m'\u001b[39;49m, \u001b[39m'\u001b[39;49m\u001b[39mPrediction\u001b[39;49m\u001b[39m'\u001b[39;49m], index\u001b[39m=\u001b[39;49m\u001b[39mFalse\u001b[39;49;00m)\n\u001b[1;32m     17\u001b[0m \u001b[39mreturn\u001b[39;00m df_test\n",
      "File \u001b[0;32m~/opt/anaconda3/envs/ml/lib/python3.10/site-packages/pandas/util/_decorators.py:211\u001b[0m, in \u001b[0;36mdeprecate_kwarg.<locals>._deprecate_kwarg.<locals>.wrapper\u001b[0;34m(*args, **kwargs)\u001b[0m\n\u001b[1;32m    209\u001b[0m     \u001b[39melse\u001b[39;00m:\n\u001b[1;32m    210\u001b[0m         kwargs[new_arg_name] \u001b[39m=\u001b[39m new_arg_value\n\u001b[0;32m--> 211\u001b[0m \u001b[39mreturn\u001b[39;00m func(\u001b[39m*\u001b[39;49margs, \u001b[39m*\u001b[39;49m\u001b[39m*\u001b[39;49mkwargs)\n",
      "File \u001b[0;32m~/opt/anaconda3/envs/ml/lib/python3.10/site-packages/pandas/core/generic.py:3720\u001b[0m, in \u001b[0;36mNDFrame.to_csv\u001b[0;34m(self, path_or_buf, sep, na_rep, float_format, columns, header, index, index_label, mode, encoding, compression, quoting, quotechar, lineterminator, chunksize, date_format, doublequote, escapechar, decimal, errors, storage_options)\u001b[0m\n\u001b[1;32m   3709\u001b[0m df \u001b[39m=\u001b[39m \u001b[39mself\u001b[39m \u001b[39mif\u001b[39;00m \u001b[39misinstance\u001b[39m(\u001b[39mself\u001b[39m, ABCDataFrame) \u001b[39melse\u001b[39;00m \u001b[39mself\u001b[39m\u001b[39m.\u001b[39mto_frame()\n\u001b[1;32m   3711\u001b[0m formatter \u001b[39m=\u001b[39m DataFrameFormatter(\n\u001b[1;32m   3712\u001b[0m     frame\u001b[39m=\u001b[39mdf,\n\u001b[1;32m   3713\u001b[0m     header\u001b[39m=\u001b[39mheader,\n\u001b[0;32m   (...)\u001b[0m\n\u001b[1;32m   3717\u001b[0m     decimal\u001b[39m=\u001b[39mdecimal,\n\u001b[1;32m   3718\u001b[0m )\n\u001b[0;32m-> 3720\u001b[0m \u001b[39mreturn\u001b[39;00m DataFrameRenderer(formatter)\u001b[39m.\u001b[39;49mto_csv(\n\u001b[1;32m   3721\u001b[0m     path_or_buf,\n\u001b[1;32m   3722\u001b[0m     lineterminator\u001b[39m=\u001b[39;49mlineterminator,\n\u001b[1;32m   3723\u001b[0m     sep\u001b[39m=\u001b[39;49msep,\n\u001b[1;32m   3724\u001b[0m     encoding\u001b[39m=\u001b[39;49mencoding,\n\u001b[1;32m   3725\u001b[0m     errors\u001b[39m=\u001b[39;49merrors,\n\u001b[1;32m   3726\u001b[0m     compression\u001b[39m=\u001b[39;49mcompression,\n\u001b[1;32m   3727\u001b[0m     quoting\u001b[39m=\u001b[39;49mquoting,\n\u001b[1;32m   3728\u001b[0m     columns\u001b[39m=\u001b[39;49mcolumns,\n\u001b[1;32m   3729\u001b[0m     index_label\u001b[39m=\u001b[39;49mindex_label,\n\u001b[1;32m   3730\u001b[0m     mode\u001b[39m=\u001b[39;49mmode,\n\u001b[1;32m   3731\u001b[0m     chunksize\u001b[39m=\u001b[39;49mchunksize,\n\u001b[1;32m   3732\u001b[0m     quotechar\u001b[39m=\u001b[39;49mquotechar,\n\u001b[1;32m   3733\u001b[0m     date_format\u001b[39m=\u001b[39;49mdate_format,\n\u001b[1;32m   3734\u001b[0m     doublequote\u001b[39m=\u001b[39;49mdoublequote,\n\u001b[1;32m   3735\u001b[0m     escapechar\u001b[39m=\u001b[39;49mescapechar,\n\u001b[1;32m   3736\u001b[0m     storage_options\u001b[39m=\u001b[39;49mstorage_options,\n\u001b[1;32m   3737\u001b[0m )\n",
      "File \u001b[0;32m~/opt/anaconda3/envs/ml/lib/python3.10/site-packages/pandas/util/_decorators.py:211\u001b[0m, in \u001b[0;36mdeprecate_kwarg.<locals>._deprecate_kwarg.<locals>.wrapper\u001b[0;34m(*args, **kwargs)\u001b[0m\n\u001b[1;32m    209\u001b[0m     \u001b[39melse\u001b[39;00m:\n\u001b[1;32m    210\u001b[0m         kwargs[new_arg_name] \u001b[39m=\u001b[39m new_arg_value\n\u001b[0;32m--> 211\u001b[0m \u001b[39mreturn\u001b[39;00m func(\u001b[39m*\u001b[39;49margs, \u001b[39m*\u001b[39;49m\u001b[39m*\u001b[39;49mkwargs)\n",
      "File \u001b[0;32m~/opt/anaconda3/envs/ml/lib/python3.10/site-packages/pandas/io/formats/format.py:1170\u001b[0m, in \u001b[0;36mDataFrameRenderer.to_csv\u001b[0;34m(self, path_or_buf, encoding, sep, columns, index_label, mode, compression, quoting, quotechar, lineterminator, chunksize, date_format, doublequote, escapechar, errors, storage_options)\u001b[0m\n\u001b[1;32m   1167\u001b[0m \u001b[39melse\u001b[39;00m:\n\u001b[1;32m   1168\u001b[0m     created_buffer \u001b[39m=\u001b[39m \u001b[39mFalse\u001b[39;00m\n\u001b[0;32m-> 1170\u001b[0m csv_formatter \u001b[39m=\u001b[39m CSVFormatter(\n\u001b[1;32m   1171\u001b[0m     path_or_buf\u001b[39m=\u001b[39;49mpath_or_buf,\n\u001b[1;32m   1172\u001b[0m     lineterminator\u001b[39m=\u001b[39;49mlineterminator,\n\u001b[1;32m   1173\u001b[0m     sep\u001b[39m=\u001b[39;49msep,\n\u001b[1;32m   1174\u001b[0m     encoding\u001b[39m=\u001b[39;49mencoding,\n\u001b[1;32m   1175\u001b[0m     errors\u001b[39m=\u001b[39;49merrors,\n\u001b[1;32m   1176\u001b[0m     compression\u001b[39m=\u001b[39;49mcompression,\n\u001b[1;32m   1177\u001b[0m     quoting\u001b[39m=\u001b[39;49mquoting,\n\u001b[1;32m   1178\u001b[0m     cols\u001b[39m=\u001b[39;49mcolumns,\n\u001b[1;32m   1179\u001b[0m     index_label\u001b[39m=\u001b[39;49mindex_label,\n\u001b[1;32m   1180\u001b[0m     mode\u001b[39m=\u001b[39;49mmode,\n\u001b[1;32m   1181\u001b[0m     chunksize\u001b[39m=\u001b[39;49mchunksize,\n\u001b[1;32m   1182\u001b[0m     quotechar\u001b[39m=\u001b[39;49mquotechar,\n\u001b[1;32m   1183\u001b[0m     date_format\u001b[39m=\u001b[39;49mdate_format,\n\u001b[1;32m   1184\u001b[0m     doublequote\u001b[39m=\u001b[39;49mdoublequote,\n\u001b[1;32m   1185\u001b[0m     escapechar\u001b[39m=\u001b[39;49mescapechar,\n\u001b[1;32m   1186\u001b[0m     storage_options\u001b[39m=\u001b[39;49mstorage_options,\n\u001b[1;32m   1187\u001b[0m     formatter\u001b[39m=\u001b[39;49m\u001b[39mself\u001b[39;49m\u001b[39m.\u001b[39;49mfmt,\n\u001b[1;32m   1188\u001b[0m )\n\u001b[1;32m   1189\u001b[0m csv_formatter\u001b[39m.\u001b[39msave()\n\u001b[1;32m   1191\u001b[0m \u001b[39mif\u001b[39;00m created_buffer:\n",
      "File \u001b[0;32m~/opt/anaconda3/envs/ml/lib/python3.10/site-packages/pandas/io/formats/csvs.py:89\u001b[0m, in \u001b[0;36mCSVFormatter.__init__\u001b[0;34m(self, formatter, path_or_buf, sep, cols, index_label, mode, encoding, errors, compression, quoting, lineterminator, chunksize, quotechar, date_format, doublequote, escapechar, storage_options)\u001b[0m\n\u001b[1;32m     87\u001b[0m \u001b[39mself\u001b[39m\u001b[39m.\u001b[39mlineterminator \u001b[39m=\u001b[39m lineterminator \u001b[39mor\u001b[39;00m os\u001b[39m.\u001b[39mlinesep\n\u001b[1;32m     88\u001b[0m \u001b[39mself\u001b[39m\u001b[39m.\u001b[39mdate_format \u001b[39m=\u001b[39m date_format\n\u001b[0;32m---> 89\u001b[0m \u001b[39mself\u001b[39m\u001b[39m.\u001b[39mcols \u001b[39m=\u001b[39m \u001b[39mself\u001b[39;49m\u001b[39m.\u001b[39;49m_initialize_columns(cols)\n\u001b[1;32m     90\u001b[0m \u001b[39mself\u001b[39m\u001b[39m.\u001b[39mchunksize \u001b[39m=\u001b[39m \u001b[39mself\u001b[39m\u001b[39m.\u001b[39m_initialize_chunksize(chunksize)\n",
      "File \u001b[0;32m~/opt/anaconda3/envs/ml/lib/python3.10/site-packages/pandas/io/formats/csvs.py:156\u001b[0m, in \u001b[0;36mCSVFormatter._initialize_columns\u001b[0;34m(self, cols)\u001b[0m\n\u001b[1;32m    154\u001b[0m     \u001b[39melse\u001b[39;00m:\n\u001b[1;32m    155\u001b[0m         cols \u001b[39m=\u001b[39m \u001b[39mlist\u001b[39m(cols)\n\u001b[0;32m--> 156\u001b[0m     \u001b[39mself\u001b[39m\u001b[39m.\u001b[39mobj \u001b[39m=\u001b[39m \u001b[39mself\u001b[39;49m\u001b[39m.\u001b[39;49mobj\u001b[39m.\u001b[39;49mloc[:, cols]\n\u001b[1;32m    158\u001b[0m \u001b[39m# update columns to include possible multiplicity of dupes\u001b[39;00m\n\u001b[1;32m    159\u001b[0m \u001b[39m# and make sure cols is just a list of labels\u001b[39;00m\n\u001b[1;32m    160\u001b[0m new_cols \u001b[39m=\u001b[39m \u001b[39mself\u001b[39m\u001b[39m.\u001b[39mobj\u001b[39m.\u001b[39mcolumns\n",
      "File \u001b[0;32m~/opt/anaconda3/envs/ml/lib/python3.10/site-packages/pandas/core/indexing.py:1067\u001b[0m, in \u001b[0;36m_LocationIndexer.__getitem__\u001b[0;34m(self, key)\u001b[0m\n\u001b[1;32m   1065\u001b[0m     \u001b[39mif\u001b[39;00m \u001b[39mself\u001b[39m\u001b[39m.\u001b[39m_is_scalar_access(key):\n\u001b[1;32m   1066\u001b[0m         \u001b[39mreturn\u001b[39;00m \u001b[39mself\u001b[39m\u001b[39m.\u001b[39mobj\u001b[39m.\u001b[39m_get_value(\u001b[39m*\u001b[39mkey, takeable\u001b[39m=\u001b[39m\u001b[39mself\u001b[39m\u001b[39m.\u001b[39m_takeable)\n\u001b[0;32m-> 1067\u001b[0m     \u001b[39mreturn\u001b[39;00m \u001b[39mself\u001b[39;49m\u001b[39m.\u001b[39;49m_getitem_tuple(key)\n\u001b[1;32m   1068\u001b[0m \u001b[39melse\u001b[39;00m:\n\u001b[1;32m   1069\u001b[0m     \u001b[39m# we by definition only have the 0th axis\u001b[39;00m\n\u001b[1;32m   1070\u001b[0m     axis \u001b[39m=\u001b[39m \u001b[39mself\u001b[39m\u001b[39m.\u001b[39maxis \u001b[39mor\u001b[39;00m \u001b[39m0\u001b[39m\n",
      "File \u001b[0;32m~/opt/anaconda3/envs/ml/lib/python3.10/site-packages/pandas/core/indexing.py:1256\u001b[0m, in \u001b[0;36m_LocIndexer._getitem_tuple\u001b[0;34m(self, tup)\u001b[0m\n\u001b[1;32m   1253\u001b[0m \u001b[39mif\u001b[39;00m \u001b[39mself\u001b[39m\u001b[39m.\u001b[39m_multi_take_opportunity(tup):\n\u001b[1;32m   1254\u001b[0m     \u001b[39mreturn\u001b[39;00m \u001b[39mself\u001b[39m\u001b[39m.\u001b[39m_multi_take(tup)\n\u001b[0;32m-> 1256\u001b[0m \u001b[39mreturn\u001b[39;00m \u001b[39mself\u001b[39;49m\u001b[39m.\u001b[39;49m_getitem_tuple_same_dim(tup)\n",
      "File \u001b[0;32m~/opt/anaconda3/envs/ml/lib/python3.10/site-packages/pandas/core/indexing.py:924\u001b[0m, in \u001b[0;36m_LocationIndexer._getitem_tuple_same_dim\u001b[0;34m(self, tup)\u001b[0m\n\u001b[1;32m    921\u001b[0m \u001b[39mif\u001b[39;00m com\u001b[39m.\u001b[39mis_null_slice(key):\n\u001b[1;32m    922\u001b[0m     \u001b[39mcontinue\u001b[39;00m\n\u001b[0;32m--> 924\u001b[0m retval \u001b[39m=\u001b[39m \u001b[39mgetattr\u001b[39;49m(retval, \u001b[39mself\u001b[39;49m\u001b[39m.\u001b[39;49mname)\u001b[39m.\u001b[39;49m_getitem_axis(key, axis\u001b[39m=\u001b[39;49mi)\n\u001b[1;32m    925\u001b[0m \u001b[39m# We should never have retval.ndim < self.ndim, as that should\u001b[39;00m\n\u001b[1;32m    926\u001b[0m \u001b[39m#  be handled by the _getitem_lowerdim call above.\u001b[39;00m\n\u001b[1;32m    927\u001b[0m \u001b[39massert\u001b[39;00m retval\u001b[39m.\u001b[39mndim \u001b[39m==\u001b[39m \u001b[39mself\u001b[39m\u001b[39m.\u001b[39mndim\n",
      "File \u001b[0;32m~/opt/anaconda3/envs/ml/lib/python3.10/site-packages/pandas/core/indexing.py:1301\u001b[0m, in \u001b[0;36m_LocIndexer._getitem_axis\u001b[0;34m(self, key, axis)\u001b[0m\n\u001b[1;32m   1298\u001b[0m     \u001b[39mif\u001b[39;00m \u001b[39mhasattr\u001b[39m(key, \u001b[39m\"\u001b[39m\u001b[39mndim\u001b[39m\u001b[39m\"\u001b[39m) \u001b[39mand\u001b[39;00m key\u001b[39m.\u001b[39mndim \u001b[39m>\u001b[39m \u001b[39m1\u001b[39m:\n\u001b[1;32m   1299\u001b[0m         \u001b[39mraise\u001b[39;00m \u001b[39mValueError\u001b[39;00m(\u001b[39m\"\u001b[39m\u001b[39mCannot index with multidimensional key\u001b[39m\u001b[39m\"\u001b[39m)\n\u001b[0;32m-> 1301\u001b[0m     \u001b[39mreturn\u001b[39;00m \u001b[39mself\u001b[39;49m\u001b[39m.\u001b[39;49m_getitem_iterable(key, axis\u001b[39m=\u001b[39;49maxis)\n\u001b[1;32m   1303\u001b[0m \u001b[39m# nested tuple slicing\u001b[39;00m\n\u001b[1;32m   1304\u001b[0m \u001b[39mif\u001b[39;00m is_nested_tuple(key, labels):\n",
      "File \u001b[0;32m~/opt/anaconda3/envs/ml/lib/python3.10/site-packages/pandas/core/indexing.py:1239\u001b[0m, in \u001b[0;36m_LocIndexer._getitem_iterable\u001b[0;34m(self, key, axis)\u001b[0m\n\u001b[1;32m   1236\u001b[0m \u001b[39mself\u001b[39m\u001b[39m.\u001b[39m_validate_key(key, axis)\n\u001b[1;32m   1238\u001b[0m \u001b[39m# A collection of keys\u001b[39;00m\n\u001b[0;32m-> 1239\u001b[0m keyarr, indexer \u001b[39m=\u001b[39m \u001b[39mself\u001b[39;49m\u001b[39m.\u001b[39;49m_get_listlike_indexer(key, axis)\n\u001b[1;32m   1240\u001b[0m \u001b[39mreturn\u001b[39;00m \u001b[39mself\u001b[39m\u001b[39m.\u001b[39mobj\u001b[39m.\u001b[39m_reindex_with_indexers(\n\u001b[1;32m   1241\u001b[0m     {axis: [keyarr, indexer]}, copy\u001b[39m=\u001b[39m\u001b[39mTrue\u001b[39;00m, allow_dups\u001b[39m=\u001b[39m\u001b[39mTrue\u001b[39;00m\n\u001b[1;32m   1242\u001b[0m )\n",
      "File \u001b[0;32m~/opt/anaconda3/envs/ml/lib/python3.10/site-packages/pandas/core/indexing.py:1432\u001b[0m, in \u001b[0;36m_LocIndexer._get_listlike_indexer\u001b[0;34m(self, key, axis)\u001b[0m\n\u001b[1;32m   1429\u001b[0m ax \u001b[39m=\u001b[39m \u001b[39mself\u001b[39m\u001b[39m.\u001b[39mobj\u001b[39m.\u001b[39m_get_axis(axis)\n\u001b[1;32m   1430\u001b[0m axis_name \u001b[39m=\u001b[39m \u001b[39mself\u001b[39m\u001b[39m.\u001b[39mobj\u001b[39m.\u001b[39m_get_axis_name(axis)\n\u001b[0;32m-> 1432\u001b[0m keyarr, indexer \u001b[39m=\u001b[39m ax\u001b[39m.\u001b[39;49m_get_indexer_strict(key, axis_name)\n\u001b[1;32m   1434\u001b[0m \u001b[39mreturn\u001b[39;00m keyarr, indexer\n",
      "File \u001b[0;32m~/opt/anaconda3/envs/ml/lib/python3.10/site-packages/pandas/core/indexes/base.py:6111\u001b[0m, in \u001b[0;36mIndex._get_indexer_strict\u001b[0;34m(self, key, axis_name)\u001b[0m\n\u001b[1;32m   6108\u001b[0m \u001b[39melse\u001b[39;00m:\n\u001b[1;32m   6109\u001b[0m     keyarr, indexer, new_indexer \u001b[39m=\u001b[39m \u001b[39mself\u001b[39m\u001b[39m.\u001b[39m_reindex_non_unique(keyarr)\n\u001b[0;32m-> 6111\u001b[0m \u001b[39mself\u001b[39;49m\u001b[39m.\u001b[39;49m_raise_if_missing(keyarr, indexer, axis_name)\n\u001b[1;32m   6113\u001b[0m keyarr \u001b[39m=\u001b[39m \u001b[39mself\u001b[39m\u001b[39m.\u001b[39mtake(indexer)\n\u001b[1;32m   6114\u001b[0m \u001b[39mif\u001b[39;00m \u001b[39misinstance\u001b[39m(key, Index):\n\u001b[1;32m   6115\u001b[0m     \u001b[39m# GH 42790 - Preserve name from an Index\u001b[39;00m\n",
      "File \u001b[0;32m~/opt/anaconda3/envs/ml/lib/python3.10/site-packages/pandas/core/indexes/base.py:6174\u001b[0m, in \u001b[0;36mIndex._raise_if_missing\u001b[0;34m(self, key, indexer, axis_name)\u001b[0m\n\u001b[1;32m   6171\u001b[0m     \u001b[39mraise\u001b[39;00m \u001b[39mKeyError\u001b[39;00m(\u001b[39mf\u001b[39m\u001b[39m\"\u001b[39m\u001b[39mNone of [\u001b[39m\u001b[39m{\u001b[39;00mkey\u001b[39m}\u001b[39;00m\u001b[39m] are in the [\u001b[39m\u001b[39m{\u001b[39;00maxis_name\u001b[39m}\u001b[39;00m\u001b[39m]\u001b[39m\u001b[39m\"\u001b[39m)\n\u001b[1;32m   6173\u001b[0m not_found \u001b[39m=\u001b[39m \u001b[39mlist\u001b[39m(ensure_index(key)[missing_mask\u001b[39m.\u001b[39mnonzero()[\u001b[39m0\u001b[39m]]\u001b[39m.\u001b[39munique())\n\u001b[0;32m-> 6174\u001b[0m \u001b[39mraise\u001b[39;00m \u001b[39mKeyError\u001b[39;00m(\u001b[39mf\u001b[39m\u001b[39m\"\u001b[39m\u001b[39m{\u001b[39;00mnot_found\u001b[39m}\u001b[39;00m\u001b[39m not in index\u001b[39m\u001b[39m\"\u001b[39m)\n",
      "\u001b[0;31mKeyError\u001b[0m: \"['Id'] not in index\""
     ]
    }
   ],
   "source": [
    "# Next steps: make a submission with this model\n",
    "# then v1: keep the same model but add more features + feature engineering \n",
    "\n",
    "# predict with random forest, Deep Enough but not too deep not as we have to process better\n",
    "# Data anyway\n",
    "from sklearn.ensemble import RandomForestClassifier\n",
    "clf = RandomForestClassifier(n_estimators=100, \n",
    "    min_samples_split=30, \n",
    "    max_features='sqrt', \n",
    "    max_depth=35, \n",
    "    criterion='gini')\n",
    "clf.fit(X_train_full, y_train_full)"
   ]
  },
  {
   "cell_type": "code",
   "execution_count": 38,
   "metadata": {},
   "outputs": [
    {
     "data": {
      "text/html": [
       "<div>\n",
       "<style scoped>\n",
       "    .dataframe tbody tr th:only-of-type {\n",
       "        vertical-align: middle;\n",
       "    }\n",
       "\n",
       "    .dataframe tbody tr th {\n",
       "        vertical-align: top;\n",
       "    }\n",
       "\n",
       "    .dataframe thead th {\n",
       "        text-align: right;\n",
       "    }\n",
       "</style>\n",
       "<table border=\"1\" class=\"dataframe\">\n",
       "  <thead>\n",
       "    <tr style=\"text-align: right;\">\n",
       "      <th></th>\n",
       "      <th>Id</th>\n",
       "      <th>tweet</th>\n",
       "      <th>Prediction</th>\n",
       "    </tr>\n",
       "  </thead>\n",
       "  <tbody>\n",
       "    <tr>\n",
       "      <th>0</th>\n",
       "      <td>1</td>\n",
       "      <td>sea doo pro sea scooter ( sports with the port...</td>\n",
       "      <td>-1</td>\n",
       "    </tr>\n",
       "    <tr>\n",
       "      <th>1</th>\n",
       "      <td>2</td>\n",
       "      <td>&lt;user&gt; shucks well i work all week so now i ca...</td>\n",
       "      <td>-1</td>\n",
       "    </tr>\n",
       "    <tr>\n",
       "      <th>2</th>\n",
       "      <td>3</td>\n",
       "      <td>i cant stay away from bug thats my baby</td>\n",
       "      <td>1</td>\n",
       "    </tr>\n",
       "    <tr>\n",
       "      <th>3</th>\n",
       "      <td>4</td>\n",
       "      <td>&lt;user&gt; no ma'am ! ! ! lol im perfectly fine an...</td>\n",
       "      <td>1</td>\n",
       "    </tr>\n",
       "    <tr>\n",
       "      <th>4</th>\n",
       "      <td>5</td>\n",
       "      <td>whenever i fall asleep watching the tv , i alw...</td>\n",
       "      <td>1</td>\n",
       "    </tr>\n",
       "    <tr>\n",
       "      <th>...</th>\n",
       "      <td>...</td>\n",
       "      <td>...</td>\n",
       "      <td>...</td>\n",
       "    </tr>\n",
       "    <tr>\n",
       "      <th>9995</th>\n",
       "      <td>9996</td>\n",
       "      <td>had a nice time w / my friend lastnite</td>\n",
       "      <td>1</td>\n",
       "    </tr>\n",
       "    <tr>\n",
       "      <th>9996</th>\n",
       "      <td>9997</td>\n",
       "      <td>&lt;user&gt; no it's not ! please stop !</td>\n",
       "      <td>1</td>\n",
       "    </tr>\n",
       "    <tr>\n",
       "      <th>9997</th>\n",
       "      <td>9998</td>\n",
       "      <td>not without my daughter ( dvd two-time oscar (...</td>\n",
       "      <td>-1</td>\n",
       "    </tr>\n",
       "    <tr>\n",
       "      <th>9998</th>\n",
       "      <td>9999</td>\n",
       "      <td>&lt;user&gt; have fun in class sweetcheeks</td>\n",
       "      <td>1</td>\n",
       "    </tr>\n",
       "    <tr>\n",
       "      <th>9999</th>\n",
       "      <td>10000</td>\n",
       "      <td>making a r . e . a . l . difference . ( get r ...</td>\n",
       "      <td>-1</td>\n",
       "    </tr>\n",
       "  </tbody>\n",
       "</table>\n",
       "<p>10000 rows × 3 columns</p>\n",
       "</div>"
      ],
      "text/plain": [
       "         Id                                              tweet  Prediction\n",
       "0         1  sea doo pro sea scooter ( sports with the port...          -1\n",
       "1         2  <user> shucks well i work all week so now i ca...          -1\n",
       "2         3            i cant stay away from bug thats my baby           1\n",
       "3         4  <user> no ma'am ! ! ! lol im perfectly fine an...           1\n",
       "4         5  whenever i fall asleep watching the tv , i alw...           1\n",
       "...     ...                                                ...         ...\n",
       "9995   9996             had a nice time w / my friend lastnite           1\n",
       "9996   9997                 <user> no it's not ! please stop !           1\n",
       "9997   9998  not without my daughter ( dvd two-time oscar (...          -1\n",
       "9998   9999               <user> have fun in class sweetcheeks           1\n",
       "9999  10000  making a r . e . a . l . difference . ( get r ...          -1\n",
       "\n",
       "[10000 rows x 3 columns]"
      ]
     },
     "execution_count": 38,
     "metadata": {},
     "output_type": "execute_result"
    }
   ],
   "source": [
    "# Load test data: id, tweet for each row\n",
    "df_test = load_test_data()\n",
    "# Build feature matrix for test data\n",
    "X_test = build_feature_matrix_v0(df_test, vocab, embeddings, mode='avg')\n",
    "# Predict test data and save to csv\n",
    "predict_test_data(X_test, clf, filename= 'data/out/submission-v0_1.csv')"
   ]
  },
  {
   "cell_type": "markdown",
   "metadata": {},
   "source": [
    "## Evaluation of v0-1\n",
    "**ACCURACY** : 0.615\n",
    "**F1 SCORE** : 0.651"
   ]
  },
  {
   "cell_type": "markdown",
   "metadata": {},
   "source": [
    "## V1: Feature Engineering\n",
    "Start simple: 100 features instead of 20, need to change a single number but re-run the embedding script\n",
    "\n",
    "--- Use another notebook"
   ]
  },
  {
   "cell_type": "code",
   "execution_count": null,
   "metadata": {},
   "outputs": [],
   "source": []
  },
  {
   "cell_type": "code",
   "execution_count": null,
   "metadata": {},
   "outputs": [],
   "source": []
  },
  {
   "cell_type": "code",
   "execution_count": null,
   "metadata": {},
   "outputs": [],
   "source": []
  }
 ],
 "metadata": {
  "kernelspec": {
   "display_name": "Python 3.10.8 ('ml')",
   "language": "python",
   "name": "python3"
  },
  "language_info": {
   "codemirror_mode": {
    "name": "ipython",
    "version": 3
   },
   "file_extension": ".py",
   "mimetype": "text/x-python",
   "name": "python",
   "nbconvert_exporter": "python",
   "pygments_lexer": "ipython3",
   "version": "3.10.8 (main, Nov 24 2022, 08:08:27) [Clang 14.0.6 ]"
  },
  "orig_nbformat": 4,
  "vscode": {
   "interpreter": {
    "hash": "66c927aa12d5ce5f7072c92979fe584a1fce73005a0de16af9e5cbcd0d6c1397"
   }
  }
 },
 "nbformat": 4,
 "nbformat_minor": 2
}
